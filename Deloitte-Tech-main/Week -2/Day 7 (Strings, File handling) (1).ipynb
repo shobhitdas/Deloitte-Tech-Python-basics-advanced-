{
 "cells": [
  {
   "cell_type": "markdown",
   "id": "6d754ad7",
   "metadata": {},
   "source": [
    "### String Objects\n",
    "\n",
    "- Overview of String Objects\n",
    "\n",
    "- common string methods\n",
    "\n",
    "- Formating strings\n",
    "\n",
    "- Splitting and joining"
   ]
  },
  {
   "cell_type": "markdown",
   "id": "0221b6f2",
   "metadata": {},
   "source": [
    "### File handling\n",
    "\n",
    "- Opening files\n",
    "- Text vs Binary mode\n",
    "- Text and Binary files"
   ]
  },
  {
   "cell_type": "markdown",
   "id": "b904d4a8",
   "metadata": {},
   "source": [
    "Python string is a sequence of Unicode characters that is enclosed in the quotations marks"
   ]
  },
  {
   "cell_type": "code",
   "execution_count": null,
   "id": "d8d497d5",
   "metadata": {},
   "outputs": [],
   "source": [
    "##### Case Changing of Strings\n",
    "The below functions are used to change the case of the strings.\n",
    "\n",
    "lower(): Converts all uppercase characters in a string into lowercase\n",
    "upper(): Converts all lowercase characters in a string into uppercase\n",
    "title(): Convert string to title case"
   ]
  },
  {
   "cell_type": "code",
   "execution_count": 1,
   "id": "947157fe",
   "metadata": {},
   "outputs": [
    {
     "name": "stdout",
     "output_type": "stream",
     "text": [
      " welcome\n",
      " WELCOME\n",
      " Welcome\n"
     ]
    }
   ],
   "source": [
    "text=\" Welcome\"\n",
    "print(text.lower())\n",
    "print(text.upper())\n",
    "print(text.title())"
   ]
  },
  {
   "cell_type": "markdown",
   "id": "f0d64a17",
   "metadata": {},
   "source": [
    "### string capitalize() in Python\n",
    "the capitalize() method returns a copy of the original string and converts the first character of the string to a capital (uppercase) letter while making all other characters in the string lowercase letters.\n",
    "string_name.capitalize() "
   ]
  },
  {
   "cell_type": "code",
   "execution_count": 2,
   "id": "d4a3133f",
   "metadata": {},
   "outputs": [
    {
     "name": "stdout",
     "output_type": "stream",
     "text": [
      "Jigsaw - unext\n"
     ]
    }
   ],
   "source": [
    "name = \"Jigsaw - Unext\"\n",
    " \n",
    "print(name.capitalize())"
   ]
  },
  {
   "cell_type": "markdown",
   "id": "9bfc542c",
   "metadata": {},
   "source": [
    "#### Python String count() Method\n",
    "String count() function is an inbuilt function in python programming language that returns the number of occurrences of a substring in the given string.\n",
    "\n",
    "Syntax: \n",
    "\n",
    "string.count(substring, start=…, end=…)"
   ]
  },
  {
   "cell_type": "code",
   "execution_count": 3,
   "id": "cc856743",
   "metadata": {},
   "outputs": [
    {
     "name": "stdout",
     "output_type": "stream",
     "text": [
      "2\n"
     ]
    }
   ],
   "source": [
    "string = \"welcome to all to all\" \n",
    "  \n",
    "# counts the number of times substring occurs in \n",
    "# the given string and returns an integer\n",
    "print(string.count(\"all\"))"
   ]
  },
  {
   "cell_type": "code",
   "execution_count": 4,
   "id": "3d7dd868",
   "metadata": {},
   "outputs": [
    {
     "name": "stdout",
     "output_type": "stream",
     "text": [
      "1\n"
     ]
    }
   ],
   "source": [
    "print(string.count(\"all\",0,20)) \n",
    "# it returns count of word 'all' (starts from index 0 to 20)"
   ]
  },
  {
   "cell_type": "markdown",
   "id": "5107b0b6",
   "metadata": {},
   "source": [
    " #### Implementation of the count() method using optional parameters\n",
    "counts the number of times substring occurs in \n",
    "\n",
    "the given string between index 0 and 5 and returns an integer\n",
    "\n",
    "print(string.count(\"all\", 0, 5))"
   ]
  },
  {
   "cell_type": "markdown",
   "id": "915877b9",
   "metadata": {},
   "source": [
    "#### Python String endswith() Method\n",
    "\n",
    "Python String endswith() method returns True if a string ends with the given suffix otherwise returns False.\n",
    "\n",
    "Syntax:\n",
    "\n",
    "str.endswith(suffix, start, end)"
   ]
  },
  {
   "cell_type": "code",
   "execution_count": 5,
   "id": "2fa89fdd",
   "metadata": {},
   "outputs": [
    {
     "name": "stdout",
     "output_type": "stream",
     "text": [
      "False\n"
     ]
    }
   ],
   "source": [
    "text = \"welcome to our country.\"\n",
    " \n",
    "# returns False\n",
    "result = text.endswith('country')\n",
    "print (result)"
   ]
  },
  {
   "cell_type": "code",
   "execution_count": 6,
   "id": "e536591e",
   "metadata": {},
   "outputs": [
    {
     "name": "stdout",
     "output_type": "stream",
     "text": [
      "True\n"
     ]
    }
   ],
   "source": [
    "result = text.endswith('country.')\n",
    "print (result)"
   ]
  },
  {
   "cell_type": "markdown",
   "id": "1255bd76",
   "metadata": {},
   "source": [
    "#### Python String isdigit() Method\n",
    "The isdigit() method returns “True” if all characters in the string are digits, Otherwise, It returns “False”. This function is used to check if the argument contains digits such as 0123456789"
   ]
  },
  {
   "cell_type": "code",
   "execution_count": 7,
   "id": "3438611d",
   "metadata": {},
   "outputs": [
    {
     "name": "stdout",
     "output_type": "stream",
     "text": [
      "True\n",
      "False\n"
     ]
    }
   ],
   "source": [
    "# checking for digit\n",
    "string = '15460'\n",
    "print(string.isdigit())\n",
    "   \n",
    "string = '154ayush60'\n",
    "print(string.isdigit())"
   ]
  },
  {
   "cell_type": "markdown",
   "id": "9ecc8b29",
   "metadata": {},
   "source": [
    "#### Python String isnumeric() Method\n",
    "The isnumeric() method returns “True” if all characters in the string are numeric characters, Otherwise, It returns “False”."
   ]
  },
  {
   "cell_type": "code",
   "execution_count": 12,
   "id": "ee905d38",
   "metadata": {},
   "outputs": [
    {
     "name": "stdout",
     "output_type": "stream",
     "text": [
      "False\n",
      "True\n"
     ]
    }
   ],
   "source": [
    "### checking for numeric characters\n",
    "string = '123ayu456'\n",
    "print(string.isnumeric())\n",
    "  \n",
    "string = '123456'\n",
    "print( string.isnumeric())"
   ]
  },
  {
   "cell_type": "markdown",
   "id": "09d79fbb",
   "metadata": {},
   "source": [
    "#### Python string | swapcase()\n",
    "The string swapcase() method converts all uppercase characters to lowercase and vice versa of the given string, and returns it"
   ]
  },
  {
   "cell_type": "code",
   "execution_count": 14,
   "id": "7e2bdf71",
   "metadata": {},
   "outputs": [
    {
     "name": "stdout",
     "output_type": "stream",
     "text": [
      "JIGsAW\n",
      "striver\n"
     ]
    }
   ],
   "source": [
    "string = \"jigSaw\"\n",
    "  \n",
    "# prints after swappong all cases\n",
    "print(string.swapcase())   \n",
    "  \n",
    "string = \"STRIVER\" \n",
    "print(string.swapcase())  "
   ]
  },
  {
   "cell_type": "markdown",
   "id": "5b71f37d",
   "metadata": {},
   "source": [
    "### String formatting in Python"
   ]
  },
  {
   "cell_type": "markdown",
   "id": "517fc2c5",
   "metadata": {},
   "source": [
    "Formatting with format() string method.\n",
    "Formatting with string literals, called f-strings"
   ]
  },
  {
   "cell_type": "code",
   "execution_count": 15,
   "id": "6c2f8ddf",
   "metadata": {},
   "outputs": [
    {
     "name": "stdout",
     "output_type": "stream",
     "text": [
      "We all are equal.\n"
     ]
    }
   ],
   "source": [
    "# Formatting string using format() method\n",
    "print('We all are {}.'.format('equal'))"
   ]
  },
  {
   "cell_type": "code",
   "execution_count": 16,
   "id": "d8e8fab8",
   "metadata": {},
   "outputs": [
    {
     "name": "stdout",
     "output_type": "stream",
     "text": [
      "Read the directions\n"
     ]
    }
   ],
   "source": [
    "print('{2} {1} {0}'.format('directions',\n",
    "                           'the', 'Read'))"
   ]
  },
  {
   "cell_type": "code",
   "execution_count": null,
   "id": "8acd1131",
   "metadata": {},
   "outputs": [],
   "source": [
    "# Formatted String using F-strings\n",
    "name = 'Ele'\n",
    " \n",
    "print(f\"My name is {name}.\")"
   ]
  },
  {
   "cell_type": "code",
   "execution_count": 17,
   "id": "fe34b354",
   "metadata": {},
   "outputs": [
    {
     "name": "stdout",
     "output_type": "stream",
     "text": [
      "He said his age is 30.\n"
     ]
    }
   ],
   "source": [
    "a = 5\n",
    " \n",
    "b = 10\n",
    " \n",
    "print(f\"He said his age is {2 * (a + b)}.\")"
   ]
  },
  {
   "cell_type": "markdown",
   "id": "54ef0828",
   "metadata": {},
   "source": [
    "### Splitting and Joining"
   ]
  },
  {
   "cell_type": "markdown",
   "id": "f0cc2837",
   "metadata": {},
   "source": [
    "we can use the function split() to split a string and join() to join a string. the split() method in Python split a string into a list of strings after breaking the given string by the specified separator. Python String join() method is a string method and returns a string in which the elements of the sequence have been joined by the str separator. "
   ]
  },
  {
   "cell_type": "code",
   "execution_count": 18,
   "id": "bbaf7091",
   "metadata": {},
   "outputs": [
    {
     "name": "stdout",
     "output_type": "stream",
     "text": [
      "['Welcome', 'to', 'our', 'Country']\n",
      "Welcome-to-our-Country\n"
     ]
    }
   ],
   "source": [
    "# input string\n",
    "s = 'Welcome to our Country'\n",
    "# print the string after split method\n",
    "print(s.split(\" \"))\n",
    "# print the string after join method\n",
    "print(\"-\".join(s.split()))\n",
    " "
   ]
  },
  {
   "cell_type": "markdown",
   "id": "ac386fa1",
   "metadata": {},
   "source": [
    "### File handling"
   ]
  },
  {
   "cell_type": "code",
   "execution_count": 20,
   "id": "3fda30df",
   "metadata": {},
   "outputs": [],
   "source": [
    "## Opening files in Python\n",
    "# open() \n",
    "f=open(\"D://Files//sample1.txt\")  # open file in current directory , read mode\n",
    "#f=open(\" D://Files//sample1.txt\") # specify full path"
   ]
  },
  {
   "cell_type": "markdown",
   "id": "b3c2eb2d",
   "metadata": {},
   "source": [
    "Mode\n",
    "\n",
    "r opens a file for reading\n",
    "\n",
    "w opens a file for writing\n",
    "\n",
    "a opens a file for appending at the end of the file\n",
    "\n",
    "t opens in text mode\n",
    "\n",
    "b opens in binary mode"
   ]
  },
  {
   "cell_type": "code",
   "execution_count": 22,
   "id": "3721f2c0",
   "metadata": {},
   "outputs": [],
   "source": [
    "f=open(\"D://Files//sample1.txt\",'r')\n",
    "#f=open(\"D://Files//sample1.txt\",'w') # write in text mode"
   ]
  },
  {
   "cell_type": "code",
   "execution_count": 24,
   "id": "a5fe1511",
   "metadata": {},
   "outputs": [],
   "source": [
    "f=open(\"D://Files//sample1.txt\",'r')\n",
    "#perform file operations\n",
    "f.close()"
   ]
  },
  {
   "cell_type": "code",
   "execution_count": 29,
   "id": "d5dc6005",
   "metadata": {},
   "outputs": [
    {
     "data": {
      "text/plain": [
       "\"I would love to try or hear the sample audio your app can produce. I do not want to purchase, because I've purchased so many apps that say they do something and do not deliver.  \\n\\nCan you please add audio samples with text you've converted? I'd love to see the end results.\\n\\nThanks!hello all\""
      ]
     },
     "execution_count": 29,
     "metadata": {},
     "output_type": "execute_result"
    }
   ],
   "source": [
    "f=open(\"D://Files//sample.txt\",'r')\n",
    "f.read()\n",
    "#f.close()"
   ]
  },
  {
   "cell_type": "code",
   "execution_count": 30,
   "id": "30c01a44",
   "metadata": {},
   "outputs": [],
   "source": [
    "f.close()"
   ]
  },
  {
   "cell_type": "code",
   "execution_count": 31,
   "id": "cf5f8c1c",
   "metadata": {},
   "outputs": [],
   "source": [
    "with open(\"D://Files//newsample.txt\",'w') as g:\n",
    "    g.write(\"myfirst file\\n\")\n",
    "    g.write(\"This file\\n\")"
   ]
  },
  {
   "cell_type": "code",
   "execution_count": 33,
   "id": "ab234551",
   "metadata": {},
   "outputs": [],
   "source": [
    "with open(\"D://Files//newsample.txt\",'w') as g:\n",
    "    g.write(\"my country. welcome to all \\n\"\n",
    "           \"The new environment \")"
   ]
  },
  {
   "cell_type": "code",
   "execution_count": 34,
   "id": "f7cb8236",
   "metadata": {},
   "outputs": [
    {
     "name": "stdout",
     "output_type": "stream",
     "text": [
      "my country. welcome to all \n",
      "\n",
      "The new environment \n"
     ]
    }
   ],
   "source": [
    "with open(\"D://Files//newsample.txt\",'r') as g:\n",
    "    line=g.readline()\n",
    "    line1=g.readline()\n",
    "    print(line)\n",
    "    print(line1)"
   ]
  },
  {
   "cell_type": "code",
   "execution_count": 35,
   "id": "8dc69fe2",
   "metadata": {},
   "outputs": [
    {
     "name": "stdout",
     "output_type": "stream",
     "text": [
      "['my country. welcome to all \\n', 'The new environment ']\n"
     ]
    }
   ],
   "source": [
    "with open(\"D://Files//newsample.txt\",'r') as g:\n",
    "    line=g.readlines()\n",
    "    print(line)"
   ]
  },
  {
   "cell_type": "markdown",
   "id": "a3fb8c35",
   "metadata": {},
   "source": [
    "read() – read all text from a file into a string. This method is useful if you have a small file and            you want to manipulate the whole text of that file.\n",
    "readline() – read the text file line by line and return all the lines as strings.\n",
    "readlines() – read all the lines of the text file and return them as a list of strings."
   ]
  },
  {
   "cell_type": "code",
   "execution_count": 42,
   "id": "f056abb0",
   "metadata": {},
   "outputs": [
    {
     "data": {
      "text/plain": [
       "<function TextIOWrapper.close()>"
      ]
     },
     "execution_count": 42,
     "metadata": {},
     "output_type": "execute_result"
    }
   ],
   "source": [
    "new=open(\"D://Files//newsample.txt\",'r')\n",
    "new.read()\n",
    "new.close"
   ]
  },
  {
   "cell_type": "code",
   "execution_count": 37,
   "id": "4c4935ad",
   "metadata": {},
   "outputs": [],
   "source": [
    "h=open(\"sample.txt\",'w') \n",
    "h.write(\"welcome all\")\n",
    "h.write (\"to new program\")\n",
    "h.close()"
   ]
  },
  {
   "cell_type": "code",
   "execution_count": null,
   "id": "97cbe33c",
   "metadata": {},
   "outputs": [],
   "source": [
    "#The r means reading file; r+ means reading and writing the file.\n",
    "#The w means writing file; w+ means reading and writing the file."
   ]
  },
  {
   "cell_type": "markdown",
   "id": "8d6017b0",
   "metadata": {},
   "source": [
    "#### Text vs Binary files"
   ]
  },
  {
   "cell_type": "markdown",
   "id": "22f1a599",
   "metadata": {},
   "source": [
    "\"Binary\" files are any files where the format isn't made up of readable characters. Binary files can range from image files like JPEGs or GIFs, audio files like MP3s or binary document formats like Word or PDF. In Python, files are opened in text mode by default. To open files in binary mode, when specifying a mode, add 'b' to it."
   ]
  },
  {
   "cell_type": "code",
   "execution_count": 93,
   "id": "939a095b",
   "metadata": {},
   "outputs": [
    {
     "name": "stdout",
     "output_type": "stream",
     "text": [
      "b'Hello'\n"
     ]
    }
   ],
   "source": [
    "f = open('D://Files//samplefile.mp3', 'rb')\n",
    "file_content = f.read()\n",
    "print(file_content)\n",
    "#f.close()"
   ]
  },
  {
   "cell_type": "code",
   "execution_count": 94,
   "id": "c7673770",
   "metadata": {},
   "outputs": [],
   "source": [
    "f.close()"
   ]
  },
  {
   "cell_type": "code",
   "execution_count": 95,
   "id": "775ecc62",
   "metadata": {},
   "outputs": [],
   "source": [
    "f = open('D://Files//samplefile.mp3', 'w+b')\n",
    "file_content = f.read()\n",
    "f.write(b'Hello')\n",
    "f.close()"
   ]
  },
  {
   "cell_type": "code",
   "execution_count": 96,
   "id": "74cda939",
   "metadata": {},
   "outputs": [
    {
     "data": {
      "text/plain": [
       "b'Hello'"
      ]
     },
     "execution_count": 96,
     "metadata": {},
     "output_type": "execute_result"
    }
   ],
   "source": [
    "f = open('D://Files//samplefile.mp3', 'rb')\n",
    "file_content = f.read()\n",
    "file_content\n",
    "#f.close()"
   ]
  },
  {
   "cell_type": "code",
   "execution_count": null,
   "id": "109aa5de",
   "metadata": {},
   "outputs": [],
   "source": [
    "f.close()"
   ]
  },
  {
   "cell_type": "code",
   "execution_count": 89,
   "id": "e4011a8f",
   "metadata": {},
   "outputs": [
    {
     "name": "stdout",
     "output_type": "stream",
     "text": [
      "b'welcome to all---'\n"
     ]
    }
   ],
   "source": [
    "with open(\"C:\\\\Users\\\\Nithya\\Desktop\\download.png\", \"rb\") as f:\n",
    "    byte = f.readline() #the file is read one byte at a time \n",
    "    print(byte)\n"
   ]
  },
  {
   "cell_type": "code",
   "execution_count": 91,
   "id": "cb0f8fc9",
   "metadata": {},
   "outputs": [],
   "source": [
    "with open(\"C:\\\\Users\\\\Nithya\\Desktop\\download.png\", \"wb\") as f:\n",
    "    f.write(b'welcome to all---')\n",
    "   "
   ]
  },
  {
   "cell_type": "code",
   "execution_count": null,
   "id": "3109d6b2",
   "metadata": {},
   "outputs": [],
   "source": [
    "------------------------------------------ end ------------------------------------"
   ]
  }
 ],
 "metadata": {
  "kernelspec": {
   "display_name": "Python 3 (ipykernel)",
   "language": "python",
   "name": "python3"
  },
  "language_info": {
   "codemirror_mode": {
    "name": "ipython",
    "version": 3
   },
   "file_extension": ".py",
   "mimetype": "text/x-python",
   "name": "python",
   "nbconvert_exporter": "python",
   "pygments_lexer": "ipython3",
   "version": "3.9.7"
  }
 },
 "nbformat": 4,
 "nbformat_minor": 5
}
