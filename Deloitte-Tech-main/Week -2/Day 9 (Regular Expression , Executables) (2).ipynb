{
 "cells": [
  {
   "cell_type": "markdown",
   "id": "a0c53c74",
   "metadata": {},
   "source": [
    "### Working with different files\n",
    "\n",
    "- csv\n",
    "\n",
    "- excel\n",
    "\n",
    "- json\n",
    "\n",
    "- xml\n",
    "\n",
    "### Regular Expressions\n",
    "\n",
    "### Executables"
   ]
  },
  {
   "cell_type": "code",
   "execution_count": 5,
   "id": "16bed9fb",
   "metadata": {},
   "outputs": [
    {
     "data": {
      "text/html": [
       "<div>\n",
       "<style scoped>\n",
       "    .dataframe tbody tr th:only-of-type {\n",
       "        vertical-align: middle;\n",
       "    }\n",
       "\n",
       "    .dataframe tbody tr th {\n",
       "        vertical-align: top;\n",
       "    }\n",
       "\n",
       "    .dataframe thead th {\n",
       "        text-align: right;\n",
       "    }\n",
       "</style>\n",
       "<table border=\"1\" class=\"dataframe\">\n",
       "  <thead>\n",
       "    <tr style=\"text-align: right;\">\n",
       "      <th></th>\n",
       "      <th>id</th>\n",
       "      <th>name</th>\n",
       "      <th>email</th>\n",
       "      <th>password</th>\n",
       "      <th>about</th>\n",
       "      <th>token</th>\n",
       "      <th>country</th>\n",
       "      <th>location</th>\n",
       "      <th>lng</th>\n",
       "      <th>lat</th>\n",
       "      <th>...</th>\n",
       "      <th>sendmenotifications</th>\n",
       "      <th>sendTextmessages</th>\n",
       "      <th>enabletagging</th>\n",
       "      <th>createdAt</th>\n",
       "      <th>updatedAt</th>\n",
       "      <th>livelng</th>\n",
       "      <th>livelat</th>\n",
       "      <th>liveLocation</th>\n",
       "      <th>creditBalance</th>\n",
       "      <th>myCash</th>\n",
       "    </tr>\n",
       "  </thead>\n",
       "  <tbody>\n",
       "    <tr>\n",
       "      <th>0</th>\n",
       "      <td>4051</td>\n",
       "      <td>manoj</td>\n",
       "      <td>manoj@gmail.com</td>\n",
       "      <td>Test@123</td>\n",
       "      <td>None</td>\n",
       "      <td>7f471974-ae46-4ac0-a882-1980c300c4d6</td>\n",
       "      <td>NaN</td>\n",
       "      <td>None</td>\n",
       "      <td>0.0</td>\n",
       "      <td>0.0</td>\n",
       "      <td>...</td>\n",
       "      <td>False</td>\n",
       "      <td>False</td>\n",
       "      <td>False</td>\n",
       "      <td>2020-01-01T11:13:27.1107739</td>\n",
       "      <td>2020-01-02T09:16:49.284864</td>\n",
       "      <td>77.389849</td>\n",
       "      <td>28.628223</td>\n",
       "      <td>Unnamed Road, Chhijarsi, Sector 63, Noida, Utt...</td>\n",
       "      <td>127</td>\n",
       "      <td>0</td>\n",
       "    </tr>\n",
       "    <tr>\n",
       "      <th>1</th>\n",
       "      <td>4050</td>\n",
       "      <td>pankaj</td>\n",
       "      <td>p1@gmail.com</td>\n",
       "      <td>Test@123</td>\n",
       "      <td>None</td>\n",
       "      <td>e269eeef-1de1-4438-885a-e30a9ad26106</td>\n",
       "      <td>NaN</td>\n",
       "      <td>None</td>\n",
       "      <td>0.0</td>\n",
       "      <td>0.0</td>\n",
       "      <td>...</td>\n",
       "      <td>False</td>\n",
       "      <td>False</td>\n",
       "      <td>False</td>\n",
       "      <td>2020-01-01T07:39:34.1618239</td>\n",
       "      <td>2020-01-01T07:39:34.161824</td>\n",
       "      <td>0.000000</td>\n",
       "      <td>0.000000</td>\n",
       "      <td>None</td>\n",
       "      <td>0</td>\n",
       "      <td>0</td>\n",
       "    </tr>\n",
       "  </tbody>\n",
       "</table>\n",
       "<p>2 rows × 27 columns</p>\n",
       "</div>"
      ],
      "text/plain": [
       "     id    name            email  password about  \\\n",
       "0  4051   manoj  manoj@gmail.com  Test@123  None   \n",
       "1  4050  pankaj     p1@gmail.com  Test@123  None   \n",
       "\n",
       "                                  token  country location  lng  lat  ...  \\\n",
       "0  7f471974-ae46-4ac0-a882-1980c300c4d6      NaN     None  0.0  0.0  ...   \n",
       "1  e269eeef-1de1-4438-885a-e30a9ad26106      NaN     None  0.0  0.0  ...   \n",
       "\n",
       "  sendmenotifications  sendTextmessages  enabletagging  \\\n",
       "0               False             False          False   \n",
       "1               False             False          False   \n",
       "\n",
       "                     createdAt                   updatedAt    livelng  \\\n",
       "0  2020-01-01T11:13:27.1107739  2020-01-02T09:16:49.284864  77.389849   \n",
       "1  2020-01-01T07:39:34.1618239  2020-01-01T07:39:34.161824   0.000000   \n",
       "\n",
       "     livelat                                       liveLocation  \\\n",
       "0  28.628223  Unnamed Road, Chhijarsi, Sector 63, Noida, Utt...   \n",
       "1   0.000000                                               None   \n",
       "\n",
       "   creditBalance  myCash  \n",
       "0            127       0  \n",
       "1              0       0  \n",
       "\n",
       "[2 rows x 27 columns]"
      ]
     },
     "execution_count": 5,
     "metadata": {},
     "output_type": "execute_result"
    }
   ],
   "source": [
    "import pandas as pd\n",
    "data=pd.read_xml(\"C://users//Nithya//downloads//employee.xml\")\n",
    "data.head(2)"
   ]
  },
  {
   "cell_type": "code",
   "execution_count": 7,
   "id": "e705e085",
   "metadata": {},
   "outputs": [
    {
     "data": {
      "text/html": [
       "<div>\n",
       "<style scoped>\n",
       "    .dataframe tbody tr th:only-of-type {\n",
       "        vertical-align: middle;\n",
       "    }\n",
       "\n",
       "    .dataframe tbody tr th {\n",
       "        vertical-align: top;\n",
       "    }\n",
       "\n",
       "    .dataframe thead th {\n",
       "        text-align: right;\n",
       "    }\n",
       "</style>\n",
       "<table border=\"1\" class=\"dataframe\">\n",
       "  <thead>\n",
       "    <tr style=\"text-align: right;\">\n",
       "      <th></th>\n",
       "      <th>id</th>\n",
       "      <th>name</th>\n",
       "      <th>email</th>\n",
       "      <th>password</th>\n",
       "      <th>about</th>\n",
       "      <th>token</th>\n",
       "      <th>country</th>\n",
       "      <th>location</th>\n",
       "      <th>lng</th>\n",
       "      <th>lat</th>\n",
       "      <th>...</th>\n",
       "      <th>sendmenotifications</th>\n",
       "      <th>sendTextmessages</th>\n",
       "      <th>enabletagging</th>\n",
       "      <th>createdAt</th>\n",
       "      <th>updatedAt</th>\n",
       "      <th>livelng</th>\n",
       "      <th>livelat</th>\n",
       "      <th>liveLocation</th>\n",
       "      <th>creditBalance</th>\n",
       "      <th>myCash</th>\n",
       "    </tr>\n",
       "  </thead>\n",
       "  <tbody>\n",
       "    <tr>\n",
       "      <th>0</th>\n",
       "      <td>4051</td>\n",
       "      <td>manoj</td>\n",
       "      <td>manoj@gmail.com</td>\n",
       "      <td>Test@123</td>\n",
       "      <td>None</td>\n",
       "      <td>7f471974-ae46-4ac0-a882-1980c300c4d6</td>\n",
       "      <td>NaN</td>\n",
       "      <td>None</td>\n",
       "      <td>0.0</td>\n",
       "      <td>0.0</td>\n",
       "      <td>...</td>\n",
       "      <td>False</td>\n",
       "      <td>False</td>\n",
       "      <td>False</td>\n",
       "      <td>2020-01-01T11:13:27.1107739</td>\n",
       "      <td>2020-01-02T09:16:49.284864</td>\n",
       "      <td>77.389849</td>\n",
       "      <td>28.628223</td>\n",
       "      <td>Unnamed Road, Chhijarsi, Sector 63, Noida, Utt...</td>\n",
       "      <td>127</td>\n",
       "      <td>0</td>\n",
       "    </tr>\n",
       "    <tr>\n",
       "      <th>1</th>\n",
       "      <td>4050</td>\n",
       "      <td>pankaj</td>\n",
       "      <td>p1@gmail.com</td>\n",
       "      <td>Test@123</td>\n",
       "      <td>None</td>\n",
       "      <td>e269eeef-1de1-4438-885a-e30a9ad26106</td>\n",
       "      <td>NaN</td>\n",
       "      <td>None</td>\n",
       "      <td>0.0</td>\n",
       "      <td>0.0</td>\n",
       "      <td>...</td>\n",
       "      <td>False</td>\n",
       "      <td>False</td>\n",
       "      <td>False</td>\n",
       "      <td>2020-01-01T07:39:34.1618239</td>\n",
       "      <td>2020-01-01T07:39:34.161824</td>\n",
       "      <td>0.000000</td>\n",
       "      <td>0.000000</td>\n",
       "      <td>None</td>\n",
       "      <td>0</td>\n",
       "      <td>0</td>\n",
       "    </tr>\n",
       "  </tbody>\n",
       "</table>\n",
       "<p>2 rows × 27 columns</p>\n",
       "</div>"
      ],
      "text/plain": [
       "     id    name            email  password about  \\\n",
       "0  4051   manoj  manoj@gmail.com  Test@123  None   \n",
       "1  4050  pankaj     p1@gmail.com  Test@123  None   \n",
       "\n",
       "                                  token  country location  lng  lat  ...  \\\n",
       "0  7f471974-ae46-4ac0-a882-1980c300c4d6      NaN     None  0.0  0.0  ...   \n",
       "1  e269eeef-1de1-4438-885a-e30a9ad26106      NaN     None  0.0  0.0  ...   \n",
       "\n",
       "  sendmenotifications  sendTextmessages  enabletagging  \\\n",
       "0               False             False          False   \n",
       "1               False             False          False   \n",
       "\n",
       "                     createdAt                   updatedAt    livelng  \\\n",
       "0  2020-01-01T11:13:27.1107739  2020-01-02T09:16:49.284864  77.389849   \n",
       "1  2020-01-01T07:39:34.1618239  2020-01-01T07:39:34.161824   0.000000   \n",
       "\n",
       "     livelat                                       liveLocation  \\\n",
       "0  28.628223  Unnamed Road, Chhijarsi, Sector 63, Noida, Utt...   \n",
       "1   0.000000                                               None   \n",
       "\n",
       "   creditBalance  myCash  \n",
       "0            127       0  \n",
       "1              0       0  \n",
       "\n",
       "[2 rows x 27 columns]"
      ]
     },
     "execution_count": 7,
     "metadata": {},
     "output_type": "execute_result"
    }
   ],
   "source": [
    "data1=pd.read_json(\"D://Files//amsterdam.json\")\n",
    "data.head(2)"
   ]
  },
  {
   "cell_type": "markdown",
   "id": "78ae956e",
   "metadata": {},
   "source": [
    "#### Regular Expressions (Pattern matching)"
   ]
  },
  {
   "cell_type": "markdown",
   "id": "77a10a03",
   "metadata": {},
   "source": [
    "#### What is a regular expression and what makes it so important?\n",
    "Regex are used in Google analytics in URL matching in supporting search and replace in most popular editors like Sublime, Notepad++, Brackets, Google Docs and Microsoft word.\n",
    "\n",
    "Example :  Regular expression for an email address :\n",
    "^([a-zA-Z0-9_\\-\\.]+)@([a-zA-Z0-9_\\-\\.]+)\\.([a-zA-Z]{2,5})$ \n",
    "The above regular expression can be used for checking if a given set of characters is an email address or not."
   ]
  },
  {
   "cell_type": "markdown",
   "id": "3226bcdd",
   "metadata": {},
   "source": [
    "A Regular Expressions (RegEx) is a special sequence of characters that uses a search pattern to find a string or set of strings. It can detect the presence of a text by matching it with a particular pattern, and also can split a pattern into one or more sub-patterns."
   ]
  },
  {
   "cell_type": "markdown",
   "id": "d7356244",
   "metadata": {},
   "source": [
    "##### How to write regular expression?\n",
    "\n",
    "##### Repeaters : * , + and { } :\n",
    "These symbols act as repeaters and tell the computer that the preceding character is to be used for more than just one time.\n",
    "The asterisk symbol ( * ):\n",
    "It tells the computer to match the preceding character (or set of characters) for 0 or more times (upto infinite).\n",
    "\n",
    "Example : The regular expression ab*c will give ac, abc, abbc, \n",
    "abbbc….ans so on \n",
    "\n",
    "##### The Plus symbol ( + ):\n",
    "It tells the computer to repeat the preceding character (or set of characters) for atleast one or more times(upto infinite).\n",
    "Example : The regular expression ab+c will give abc, abbc,\n",
    "abbc, … and so on."
   ]
  },
  {
   "cell_type": "markdown",
   "id": "fa0eb89d",
   "metadata": {},
   "source": [
    "##### The curly braces {…}:\n",
    "It tells the computer to repeat the preceding character (or set of characters) for as many times as the value inside this bracket.\n",
    "Example : {2} means that the preceding character is to be repeated 2 \n",
    "times, {min,} means the preceding character is matches min or  more \n",
    "times. {min,max} means that the preceding character is repeated at\n",
    "least min & at most max times."
   ]
  },
  {
   "cell_type": "markdown",
   "id": "eb119388",
   "metadata": {},
   "source": [
    "##### Wildcard – ( . )\n",
    "The dot symbol can take place of any other symbol, that is why it\n",
    "is called the wildcard character.\n",
    "Example : \n",
    "The Regular expression .* will tell the computer that any character\n",
    "can be used any number of times.\n",
    "##### The caret ( ^ ) symbol: Setting position for match :tells the computer that the match must start at the beginning of the string or line.\n",
    "Example : ^\\d{3} will match with patterns like \"901\" in \"901-333-\".\n",
    "\n",
    "###### The dollar ( $ ) symbol\n",
    "It tells the computer that the match must occur at the end of the string or before \\n at the end of the line or string.\n",
    "Example : -\\d{3}$  will match with patterns like \"-333\" in \"-901-333\"."
   ]
  },
  {
   "cell_type": "markdown",
   "id": "8f7d1fc2",
   "metadata": {},
   "source": [
    "##### Character Classes\n",
    "A character class matches any one of a set of characters. It is used to match the most basic element of a language like a letter, a digit, space, a symbol etc.\n",
    "/s : matches any whitespace characters such as space and tab\n",
    "/S : matches any non-whitespace characters\n",
    "/d : matches any digit character\n",
    "/D : matches any non-digit characters\n",
    "/w : matches any word character (basically alpha-numeric)\n",
    "/W : matches any non-word character\n",
    "/b : matches any word boundary (this would include spaces, dashes, commas, semi-colons, etc)"
   ]
  },
  {
   "cell_type": "markdown",
   "id": "15f21ace",
   "metadata": {},
   "source": [
    "[set_of_characters] – Matches any single character in set_of_characters. By default, the match is case-sensitive.\n",
    "\n",
    "Example : [abc] will match characters a,b and c in any string.\n",
    "[^set_of_characters] – Negation: Matches any single character that is not in set_of_characters. By default, the match is case sensitive.\n",
    "\n",
    "Example : [^abc] will match any character except a,b,c ."
   ]
  },
  {
   "cell_type": "markdown",
   "id": "b3d2041b",
   "metadata": {},
   "source": [
    "[first-last] – Character range: Matches any single character in the range from first to last.\n",
    "\n",
    "Example : [a-zA-z] will match any character from a to z or A to Z.\n",
    "treat the following character as a search character and consider it for matching pattern."
   ]
  },
  {
   "cell_type": "code",
   "execution_count": null,
   "id": "58b97341",
   "metadata": {},
   "outputs": [],
   "source": [
    "# import package\n",
    "import re"
   ]
  },
  {
   "cell_type": "markdown",
   "id": "daff8c96",
   "metadata": {},
   "source": [
    "##### The match Function\n",
    "This function attempts to match RE pattern to string .\n",
    "\n",
    "Here is the syntax for this function −\n",
    "\n",
    "re.match(pattern, string)\n",
    " It includes digits and punctuation and all special characters like $#@!%, etc."
   ]
  },
  {
   "cell_type": "raw",
   "id": "4d9b38c0",
   "metadata": {},
   "source": [
    "re.findall()\n",
    "re.match()\n",
    "re.search()"
   ]
  },
  {
   "cell_type": "raw",
   "id": "1d0119e2",
   "metadata": {},
   "source": [
    "re.findall() is used to search for “all” occurrences that match a given pattern.\n",
    "\n",
    "re.match() function of re in Python will search the regular expression pattern and return the first occurrence. The Python RegEx Match method checks for a match only at the beginning of the string\n",
    "\n",
    "re.search() function will search the regular expression pattern and return the first occurrence. Unlike Python re.match(), it will check all lines of the input string. The Python re.search() function returns a match object when the pattern is found and “null” if the pattern is not found"
   ]
  },
  {
   "cell_type": "raw",
   "id": "b76cdca0",
   "metadata": {},
   "source": [
    "“^”: This expression matches the start of a string\n",
    "“w+“: This expression matches the alphanumeric character in the string\n",
    "[] - Square brackets \n",
    "Square brackets specifies a set of characters you wish to match.\n",
    "[^abc] means any character except a or b or c.\n",
    "[^0-9] means any non-digit character."
   ]
  },
  {
   "cell_type": "code",
   "execution_count": null,
   "id": "bf404d22",
   "metadata": {},
   "outputs": [],
   "source": [
    "'.'--> matches any character"
   ]
  },
  {
   "cell_type": "code",
   "execution_count": 8,
   "id": "387e98ab",
   "metadata": {},
   "outputs": [
    {
     "data": {
      "text/plain": [
       "<re.Match object; span=(0, 1), match='a'>"
      ]
     },
     "execution_count": 8,
     "metadata": {},
     "output_type": "execute_result"
    }
   ],
   "source": [
    "import re\n",
    "re.match('.','a')"
   ]
  },
  {
   "cell_type": "code",
   "execution_count": 9,
   "id": "c65049c2",
   "metadata": {},
   "outputs": [],
   "source": [
    "re.match('.','')"
   ]
  },
  {
   "cell_type": "code",
   "execution_count": 10,
   "id": "690f8c92",
   "metadata": {},
   "outputs": [
    {
     "name": "stdout",
     "output_type": "stream",
     "text": [
      "Yes\n"
     ]
    }
   ],
   "source": [
    "if re.match('.','a'):\n",
    "    print('Yes')\n",
    "else:\n",
    "    print('No')\n"
   ]
  },
  {
   "cell_type": "code",
   "execution_count": 11,
   "id": "1f96cef1",
   "metadata": {},
   "outputs": [
    {
     "name": "stdout",
     "output_type": "stream",
     "text": [
      "No\n"
     ]
    }
   ],
   "source": [
    "if re.match('..','a'):\n",
    "    print('Yes')\n",
    "else:\n",
    "    print('No')\n"
   ]
  },
  {
   "cell_type": "code",
   "execution_count": 12,
   "id": "b6a3c5c7",
   "metadata": {},
   "outputs": [
    {
     "name": "stdout",
     "output_type": "stream",
     "text": [
      "yes\n"
     ]
    }
   ],
   "source": [
    "# Read a string with a substring of length 3 that starts with letter 'a ' and ends with letter 's'\n",
    "x='aos'\n",
    "if re.match('a.s',x):\n",
    "    print('yes')\n",
    "else:\n",
    "    print(\"No\")"
   ]
  },
  {
   "cell_type": "code",
   "execution_count": 13,
   "id": "77b01353",
   "metadata": {},
   "outputs": [
    {
     "name": "stdout",
     "output_type": "stream",
     "text": [
      "yes\n"
     ]
    }
   ],
   "source": [
    "x='aosghi'\n",
    "if re.match('a.s',x):\n",
    "    print('yes')\n",
    "else:\n",
    "    print(\"No\")"
   ]
  },
  {
   "cell_type": "code",
   "execution_count": 14,
   "id": "7534dfe1",
   "metadata": {},
   "outputs": [
    {
     "name": "stdout",
     "output_type": "stream",
     "text": [
      "No\n"
     ]
    }
   ],
   "source": [
    "x='aops'\n",
    "if re.match('a.s',x):\n",
    "    print('yes')\n",
    "else:\n",
    "    print(\"No\")"
   ]
  },
  {
   "cell_type": "code",
   "execution_count": null,
   "id": "86abb23c",
   "metadata": {},
   "outputs": [],
   "source": [
    "# string pattern match"
   ]
  },
  {
   "cell_type": "code",
   "execution_count": 19,
   "id": "7780b15a",
   "metadata": {},
   "outputs": [
    {
     "name": "stdout",
     "output_type": "stream",
     "text": [
      "['P', 'y', 't', 'h', 'o', 'n', ' ', 'p', 'r', 'o', 'r', 'a', 'm', 'm', 'i', 'n', 'g', ' ', 'l', 'a', 'n', 'g', 'u', 'a', 'g', 'e', '.', ',']\n"
     ]
    }
   ],
   "source": [
    "s='Python proramming language.3456,5667'\n",
    "pattern='\\D+'\n",
    "result = re.findall(pattern, s) \n",
    "print(result)"
   ]
  },
  {
   "cell_type": "code",
   "execution_count": 20,
   "id": "ab257034",
   "metadata": {},
   "outputs": [
    {
     "data": {
      "text/plain": [
       "<re.Match object; span=(0, 1), match='P'>"
      ]
     },
     "execution_count": 20,
     "metadata": {},
     "output_type": "execute_result"
    }
   ],
   "source": [
    "s='Python proramming language.3456,5667'\n",
    "pattern='\\D'\n",
    "re.match(pattern,s)"
   ]
  },
  {
   "cell_type": "code",
   "execution_count": 23,
   "id": "e6b7f667",
   "metadata": {},
   "outputs": [
    {
     "name": "stdout",
     "output_type": "stream",
     "text": [
      "['12', '89', '34']\n"
     ]
    }
   ],
   "source": [
    "### re.findall()\n",
    "\n",
    "# Program to extract numbers from a string\n",
    "\n",
    "import re\n",
    "\n",
    "string = 'hello 12 hi 89. Howdy 34'\n",
    "pattern = '\\d+'\n",
    "\n",
    "result = re.findall(pattern, string) \n",
    "print(result)\n",
    "\n",
    "# Output: ['12', '89', '34']"
   ]
  },
  {
   "cell_type": "code",
   "execution_count": 25,
   "id": "f93c3d09",
   "metadata": {},
   "outputs": [
    {
     "name": "stdout",
     "output_type": "stream",
     "text": [
      "['3335676']\n"
     ]
    }
   ],
   "source": [
    "# match a string with digit end.\n",
    "string = '3456 hello 3335676'\n",
    "pattern='\\d+$'  \n",
    "result = re.findall(pattern, string) \n",
    "print(result)"
   ]
  },
  {
   "cell_type": "markdown",
   "id": "4bcf7ea8",
   "metadata": {},
   "source": [
    "The re.split method splits the string where there is a match and returns a list of strings where the splits have occurred.\n",
    "\n",
    " re.split()"
   ]
  },
  {
   "cell_type": "code",
   "execution_count": 26,
   "id": "af384b81",
   "metadata": {},
   "outputs": [
    {
     "name": "stdout",
     "output_type": "stream",
     "text": [
      "['Twelve:', ' Eighty nine:', '.']\n"
     ]
    }
   ],
   "source": [
    "# split based on digits\n",
    "\n",
    "string = 'Twelve:12 Eighty nine:89.'\n",
    "pattern = '\\d+'\n",
    "\n",
    "result = re.split(pattern, string) \n",
    "print(result)\n",
    "\n",
    "# Output: ['Twelve:', ' Eighty nine:', '.']"
   ]
  },
  {
   "cell_type": "markdown",
   "id": "0a042984",
   "metadata": {},
   "source": [
    "##### re.search()\n",
    "The re.search() method takes two arguments: a pattern and a string. The method looks for the first location where the RegEx pattern produces a match with the string.\n",
    "\n",
    "If the search is successful, re.search() returns a match object; if not, it returns None\n",
    "match1 = re.search(pattern, str)"
   ]
  },
  {
   "cell_type": "code",
   "execution_count": 29,
   "id": "73ae47ef",
   "metadata": {},
   "outputs": [
    {
     "name": "stdout",
     "output_type": "stream",
     "text": [
      "pattern found inside the string\n"
     ]
    }
   ],
   "source": [
    "import re\n",
    "string = \"Python is fun\"\n",
    "\n",
    "# check if 'Python' is at the beginning\n",
    "match = re.search('\\AP', string)  # \\A always matches at the start of the string only \n",
    "                                #in all flavors that support it.\n",
    "\n",
    "if match:\n",
    "    print(\"pattern found inside the string\")\n",
    "else:\n",
    "    print(\"pattern not found\")"
   ]
  },
  {
   "cell_type": "markdown",
   "id": "bca552f6",
   "metadata": {},
   "source": [
    "##### match.group()\n",
    "The group() method returns the part of the string where there is a match."
   ]
  },
  {
   "cell_type": "code",
   "execution_count": 31,
   "id": "c464e5ca",
   "metadata": {},
   "outputs": [
    {
     "name": "stdout",
     "output_type": "stream",
     "text": [
      "<re.Match object; span=(2, 8), match='801 35'>\n",
      "801 35\n"
     ]
    }
   ],
   "source": [
    "string = '39801 356, 2102 1111'\n",
    "\n",
    "# Three digit number followed by space followed by two digit number\n",
    "pattern = '(\\d{3}) (\\d{2})'\n",
    "\n",
    "# match variable contains a Match object.\n",
    "match = re.search(pattern, string) \n",
    "print(match)\n",
    "if match:\n",
    "    print(match.group())\n",
    "else:\n",
    "    print(\"pattern not found\")"
   ]
  },
  {
   "cell_type": "markdown",
   "id": "4320b81c",
   "metadata": {},
   "source": [
    "Our pattern (\\d{3}) (\\d{2}) has two subgroups (\\d{3}) and (\\d{2}). You can get the part of the string of these parenthesized subgroups."
   ]
  },
  {
   "cell_type": "markdown",
   "id": "085d2e42",
   "metadata": {},
   "source": [
    "##### match.start(), match.end() and match.span()\n",
    "The start() function returns the index of the start of the matched substring. Similarly, end() returns the end index of the matched substring."
   ]
  },
  {
   "cell_type": "code",
   "execution_count": 32,
   "id": "6350de49",
   "metadata": {},
   "outputs": [
    {
     "data": {
      "text/plain": [
       "2"
      ]
     },
     "execution_count": 32,
     "metadata": {},
     "output_type": "execute_result"
    }
   ],
   "source": [
    "match.start()"
   ]
  },
  {
   "cell_type": "code",
   "execution_count": 33,
   "id": "b1d760a3",
   "metadata": {},
   "outputs": [
    {
     "data": {
      "text/plain": [
       "8"
      ]
     },
     "execution_count": 33,
     "metadata": {},
     "output_type": "execute_result"
    }
   ],
   "source": [
    "match.end()"
   ]
  },
  {
   "cell_type": "markdown",
   "id": "00fd2869",
   "metadata": {},
   "source": [
    "##### Using r prefix before RegEx\n",
    "When r or R prefix is used before a regular expression, it means raw string. For example, '\\n' is a new line whereas r'\\n' means two characters: a backslash \\ followed by n.\n",
    "\n",
    "Backlash \\ is used to escape various characters including all metacharacters. However, using r prefix makes \\ treat as a normal character."
   ]
  },
  {
   "cell_type": "code",
   "execution_count": 34,
   "id": "e6e110bc",
   "metadata": {},
   "outputs": [
    {
     "name": "stdout",
     "output_type": "stream",
     "text": [
      "['\\n', '\\r']\n"
     ]
    }
   ],
   "source": [
    "#Raw string using r prefix\n",
    "\n",
    "string = '\\n and \\r are escape sequences.'\n",
    "\n",
    "result = re.findall(r'[\\n\\r]', string) \n",
    "print(result)"
   ]
  },
  {
   "cell_type": "markdown",
   "id": "e2496c0f",
   "metadata": {},
   "source": [
    "#### Examples"
   ]
  },
  {
   "cell_type": "code",
   "execution_count": 41,
   "id": "f0197289",
   "metadata": {},
   "outputs": [
    {
     "name": "stdout",
     "output_type": "stream",
     "text": [
      "['We']\n"
     ]
    }
   ],
   "source": [
    "import re\n",
    "line1='We just received $10.00 for cookies.'\n",
    "#r1 = re.findall(r\"^\\w+\",line1)\n",
    "r1 = re.findall(r\"^\\w+\",line1)\n",
    "\n",
    "print(r1)"
   ]
  },
  {
   "cell_type": "code",
   "execution_count": null,
   "id": "fef26ddf",
   "metadata": {},
   "outputs": [],
   "source": [
    "line1='We just received $10.00 for cookies.'\n",
    "r1 = re.findall(r\"^\\w+\",line1) \n",
    "## The ‘ ^ ’ character checks if the string starts with a particular word or character.\n",
    "print(r1)"
   ]
  },
  {
   "cell_type": "code",
   "execution_count": null,
   "id": "1a237b95",
   "metadata": {},
   "outputs": [],
   "source": [
    "r1 = re.findall(r\"\\w+\",line1)\n",
    "print(r1)"
   ]
  },
  {
   "cell_type": "code",
   "execution_count": 47,
   "id": "70549d52",
   "metadata": {},
   "outputs": [
    {
     "data": {
      "text/plain": [
       "['10', '00']"
      ]
     },
     "execution_count": 47,
     "metadata": {},
     "output_type": "execute_result"
    }
   ],
   "source": [
    "#re.findall('\\d+',line1)"
   ]
  },
  {
   "cell_type": "code",
   "execution_count": 42,
   "id": "a6c62d0d",
   "metadata": {},
   "outputs": [
    {
     "name": "stdout",
     "output_type": "stream",
     "text": [
      "['10.00', '.']\n"
     ]
    }
   ],
   "source": [
    "y = re.findall('[0-9.]+',line1)\n",
    "print(y)"
   ]
  },
  {
   "cell_type": "code",
   "execution_count": 43,
   "id": "8f3b1ac4",
   "metadata": {},
   "outputs": [
    {
     "name": "stdout",
     "output_type": "stream",
     "text": [
      "['$10.00']\n"
     ]
    }
   ],
   "source": [
    "y = re.findall('\\$[0-9.]+',line1)\n",
    "print(y)"
   ]
  },
  {
   "cell_type": "markdown",
   "id": "88483177",
   "metadata": {},
   "source": []
  },
  {
   "cell_type": "code",
   "execution_count": 48,
   "id": "021a9676",
   "metadata": {},
   "outputs": [
    {
     "name": "stdout",
     "output_type": "stream",
     "text": [
      "<re.Match object; span=(27, 30), match='345'>\n",
      "345\n",
      "Start Index: 27\n",
      "End Index: 30\n"
     ]
    }
   ],
   "source": [
    "import re\n",
    "s=\"This is the first sentence 34567\"\n",
    "s1=\"This is the second sentence\"\n",
    "match = re.search('(\\d{3})',s)\n",
    "print(match)\n",
    "print(match.group())\n",
    "print('Start Index:', match.start())\n",
    "print('End Index:', match.end())"
   ]
  },
  {
   "cell_type": "code",
   "execution_count": 49,
   "id": "258ba885",
   "metadata": {},
   "outputs": [
    {
     "name": "stdout",
     "output_type": "stream",
     "text": [
      "['Python', 'pandas']\n"
     ]
    }
   ],
   "source": [
    "import re\n",
    "target_string = \"Jessa loves Python and pandas\"\n",
    "# Match six-letter word\n",
    "pattern = r\"\\w{6}\"\n",
    "p=re.findall(r\"\\w{6}\",target_string)\n",
    "\n",
    "print(p)"
   ]
  },
  {
   "cell_type": "code",
   "execution_count": 50,
   "id": "129f0eca",
   "metadata": {},
   "outputs": [
    {
     "name": "stdout",
     "output_type": "stream",
     "text": [
      "<re.Match object; span=(0, 6), match='Jessas'>\n",
      "Jessas\n",
      "['Jessas', 'Python', 'pandas']\n"
     ]
    }
   ],
   "source": [
    "import re\n",
    "\n",
    "target_string = \"Jessas loves Python and pandas\"\n",
    "# Match six-letter word\n",
    "pattern = r\"\\w{6}\"\n",
    "\n",
    "# match() method   --> re.match() method looks for the regex pattern only at the beginning \n",
    "#of the target string and returns match object if match found; otherwise, it will return None.\n",
    "result = re.match(pattern, target_string)\n",
    "print(result)\n",
    "# Output None\n",
    "\n",
    "# search() method ->Matches pattern anywhere in the string. Return only first match\n",
    "result = re.search(pattern, target_string)\n",
    "print(result.group()) \n",
    "# Output 'Python'\n",
    "\n",
    "# findall() method -->Returns all matches to the pattern\n",
    "result = re.findall(pattern, target_string)\n",
    "print(result) \n",
    "# Output ['Python', 'pandas'] "
   ]
  },
  {
   "cell_type": "code",
   "execution_count": 51,
   "id": "9c46275e",
   "metadata": {},
   "outputs": [
    {
     "name": "stdout",
     "output_type": "stream",
     "text": [
      "Matching number:  1993\n"
     ]
    }
   ],
   "source": [
    "# Example to match the four-digit number at the end of the string\n",
    "target_string = \"Emma is a basketball player who was born on June 17, 1993\"\n",
    "\n",
    "# match at the end\n",
    "result = re.search(r\"\\d{4}$\", target_string)\n",
    "print(\"Matching number: \", result.group())  "
   ]
  },
  {
   "cell_type": "code",
   "execution_count": 52,
   "id": "a2787075",
   "metadata": {},
   "outputs": [
    {
     "name": "stdout",
     "output_type": "stream",
     "text": [
      "<re.Match object; span=(0, 5), match='Jessa'>\n",
      "Jessa\n",
      "0\n",
      "End index:  5\n",
      "(0, 5)\n"
     ]
    }
   ],
   "source": [
    "import re\n",
    "\n",
    "target_string = \"Jessa and Kelly\"\n",
    "\n",
    "# Match five-letter word\n",
    "res = re.match(r\"\\w{5}\", target_string)\n",
    "\n",
    "# printing entire match object\n",
    "print(res)\n",
    "\n",
    "\n",
    "# Extract Matching value\n",
    "print(res.group(0))\n",
    "\n",
    "\n",
    "# Start index of a match\n",
    "print(res.start())\n",
    "\n",
    "\n",
    "# End index of a match\n",
    "print(\"End index: \", res.end())  # 5\n",
    "\n",
    "# Start and end index of a match\n",
    "pos = res.span()\n",
    "print(pos)\n"
   ]
  },
  {
   "cell_type": "markdown",
   "id": "2960ce25",
   "metadata": {},
   "source": [
    "### Executables"
   ]
  },
  {
   "cell_type": "markdown",
   "id": "fd8ed990",
   "metadata": {},
   "source": [
    "An executable is a file that contains a program - that is, a particular kind of file that is capable of being executed or run as a program in the computer."
   ]
  },
  {
   "cell_type": "markdown",
   "id": "baee4659",
   "metadata": {},
   "source": [
    "#### Convert .py file into .exe file"
   ]
  },
  {
   "cell_type": "code",
   "execution_count": null,
   "id": "5b9da7b1",
   "metadata": {},
   "outputs": [],
   "source": [
    "!pip install pyinstaller"
   ]
  },
  {
   "cell_type": "code",
   "execution_count": null,
   "id": "af4b638e",
   "metadata": {},
   "outputs": [],
   "source": [
    "Go to command powershell."
   ]
  }
 ],
 "metadata": {
  "kernelspec": {
   "display_name": "Python 3 (ipykernel)",
   "language": "python",
   "name": "python3"
  },
  "language_info": {
   "codemirror_mode": {
    "name": "ipython",
    "version": 3
   },
   "file_extension": ".py",
   "mimetype": "text/x-python",
   "name": "python",
   "nbconvert_exporter": "python",
   "pygments_lexer": "ipython3",
   "version": "3.9.7"
  }
 },
 "nbformat": 4,
 "nbformat_minor": 5
}
