{
 "cells": [
  {
   "cell_type": "raw",
   "id": "c3652f00",
   "metadata": {},
   "source": [
    "#1. Write a Pandas program to extract items at given positions of a given series.\n",
    "\n",
    "Sample Input: input1: Series of list, input 2: position (list)\n",
    "\n",
    "a b c d e f g h i j k l m n o p q r s t u v w x y z \n",
    "\n",
    "0 5 9 \n",
    "\n",
    "Sample Output \n",
    "\n",
    "0     a \n",
    "\n",
    "4     f \n",
    "\n",
    "8     j \n"
   ]
  },
  {
   "cell_type": "code",
   "execution_count": null,
   "id": "de608548",
   "metadata": {},
   "outputs": [],
   "source": [
    "#2. Write a Pandas program to add, subtract, multiple and divide two Pandas Series.\n",
    "\n",
    "Sample Series: [2, 4, 6, 8, 10], [1, 3, 5, 7, 9]"
   ]
  },
  {
   "cell_type": "code",
   "execution_count": null,
   "id": "08c76720",
   "metadata": {},
   "outputs": [],
   "source": [
    "#3.\n",
    "Write a Pandas program to change the data type of given a column or a Series.\n",
    "\n",
    "Sample Series:\n",
    "Original Data Series:\n",
    "0 100\n",
    "1 200\n",
    "2 python\n",
    "3 300.12\n",
    "4 400\n",
    "dtype: object\n",
    "Change the said data type to numeric:\n",
    "0 100.00\n",
    "1 200.00\n",
    "2 NaN\n",
    "3 300.12\n",
    "4 400.00\n",
    "dtype: float64"
   ]
  },
  {
   "cell_type": "code",
   "execution_count": null,
   "id": "779457ab",
   "metadata": {},
   "outputs": [],
   "source": [
    "#4. Write a Pandas program to change the order of index of a given series."
   ]
  },
  {
   "cell_type": "code",
   "execution_count": null,
   "id": "d4b5dd48",
   "metadata": {},
   "outputs": [],
   "source": []
  }
 ],
 "metadata": {
  "kernelspec": {
   "display_name": "Python 3 (ipykernel)",
   "language": "python",
   "name": "python3"
  },
  "language_info": {
   "codemirror_mode": {
    "name": "ipython",
    "version": 3
   },
   "file_extension": ".py",
   "mimetype": "text/x-python",
   "name": "python",
   "nbconvert_exporter": "python",
   "pygments_lexer": "ipython3",
   "version": "3.9.7"
  }
 },
 "nbformat": 4,
 "nbformat_minor": 5
}
