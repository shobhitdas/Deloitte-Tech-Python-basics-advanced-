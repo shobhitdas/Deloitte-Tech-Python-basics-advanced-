{
 "cells": [
  {
   "cell_type": "code",
   "execution_count": 1,
   "id": "113d2e77",
   "metadata": {},
   "outputs": [
    {
     "name": "stdout",
     "output_type": "stream",
     "text": [
      "[ 6 12 18 24 30]\n"
     ]
    }
   ],
   "source": [
    "## 1. Create a ndarray of first five multiples of 6\n",
    "\n",
    "import numpy as np\n",
    "arr = np.array([6,12,18,24,30])\n",
    "print(arr)"
   ]
  },
  {
   "cell_type": "code",
   "execution_count": 3,
   "id": "823d1508",
   "metadata": {},
   "outputs": [
    {
     "name": "stdout",
     "output_type": "stream",
     "text": [
      "Array:  [[[ 6 12 18 24 30]]]\n",
      "Dimensions of array:  3\n"
     ]
    }
   ],
   "source": [
    "## 2. Convert the 1D array created in Q1 to 3D, and display the number of dimensions of the latter\n",
    "\n",
    "arr_1 = np.array([[[6,12,18,24,30]]])\n",
    "print(\"Array: \", arr_1)\n",
    "print(\"Dimensions of array: \", arr_1.ndim)"
   ]
  },
  {
   "cell_type": "code",
   "execution_count": 4,
   "id": "9658ccf1",
   "metadata": {},
   "outputs": [
    {
     "name": "stdout",
     "output_type": "stream",
     "text": [
      "Array:  [[[ 6 12 18 24 30]]]\n",
      "Dimensions of array:  3\n"
     ]
    }
   ],
   "source": [
    "## Alternative solution to Q2\n",
    "\n",
    "arr_1 = np.array([6,12,18,24,30], ndmin=3)\n",
    "print(\"Array: \", arr_1)\n",
    "print(\"Dimensions of array: \", arr_1.ndim)"
   ]
  },
  {
   "cell_type": "code",
   "execution_count": 5,
   "id": "ba9b3d14",
   "metadata": {},
   "outputs": [
    {
     "name": "stdout",
     "output_type": "stream",
     "text": [
      "[[ 2  3  5  7 11]\n",
      " [ 4  6  8  9 10]]\n"
     ]
    }
   ],
   "source": [
    "## 3. Create a 2D array where first 5 prime numbers occupy the 1st dimension and the first 5 composite numbers in the 2nd dimension\n",
    "\n",
    "arr_2 = np.array([[2,3,5,7,11],[4,6,8,9,10]])\n",
    "print(arr_2)"
   ]
  },
  {
   "cell_type": "code",
   "execution_count": 6,
   "id": "a385ae1b",
   "metadata": {},
   "outputs": [
    {
     "name": "stdout",
     "output_type": "stream",
     "text": [
      "10\n"
     ]
    }
   ],
   "source": [
    "## 4. From the array created in Q3, retrieve the last element from 2nd dimension\n",
    "\n",
    "print(arr_2[1,-1])"
   ]
  },
  {
   "cell_type": "code",
   "execution_count": 7,
   "id": "979111db",
   "metadata": {},
   "outputs": [
    {
     "name": "stdout",
     "output_type": "stream",
     "text": [
      "[[3 5 7]\n",
      " [6 8 9]]\n"
     ]
    }
   ],
   "source": [
    "## 5. Retrieve the 2nd, 3rd and 4th elements from both dimensions of the 2D array created in Q3\n",
    "\n",
    "print(arr_2[0:2, 1:4])"
   ]
  },
  {
   "cell_type": "code",
   "execution_count": 8,
   "id": "ee4238be",
   "metadata": {},
   "outputs": [
    {
     "name": "stdout",
     "output_type": "stream",
     "text": [
      "int32\n"
     ]
    }
   ],
   "source": [
    "## 6. Display the data type of the array created in Q1, and change it to float\n",
    "\n",
    "arr = np.array([6,12,18,24,30])\n",
    "print(arr.dtype)"
   ]
  },
  {
   "cell_type": "code",
   "execution_count": 9,
   "id": "a0eb7be9",
   "metadata": {},
   "outputs": [
    {
     "name": "stdout",
     "output_type": "stream",
     "text": [
      "[ 6. 12. 18. 24. 30.]\n"
     ]
    }
   ],
   "source": [
    "new_arr = arr.astype(float)\n",
    "print(new_arr)"
   ]
  },
  {
   "cell_type": "code",
   "execution_count": 11,
   "id": "a920297b",
   "metadata": {},
   "outputs": [
    {
     "name": "stdout",
     "output_type": "stream",
     "text": [
      "1D array of zeros:  [0. 0. 0. 0. 0. 0. 0. 0. 0. 0. 0. 0.]\n",
      "2D array of zeros: \n",
      " [[0. 0. 0. 0.]\n",
      " [0. 0. 0. 0.]\n",
      " [0. 0. 0. 0.]]\n"
     ]
    }
   ],
   "source": [
    "## 7. Create a 1D array of twelve zeros and reshape it to a 2D array of shape (3,4)\n",
    "\n",
    "arr = np.zeros(12)\n",
    "print(\"1D array of zeros: \", arr)\n",
    "new_arr = arr.reshape(3,4)\n",
    "print(\"2D array of zeros: \\n\", new_arr)"
   ]
  },
  {
   "cell_type": "code",
   "execution_count": 12,
   "id": "46d762fe",
   "metadata": {},
   "outputs": [
    {
     "name": "stdout",
     "output_type": "stream",
     "text": [
      "[0. 0. 0. 0. 0. 0. 0. 0. 0. 0. 0. 0.]\n"
     ]
    }
   ],
   "source": [
    "## 8. Flatten the 2D array that you created in the previous question back to 1D\n",
    "\n",
    "arr_1d = new_arr.reshape(-1)\n",
    "print(arr_1d)"
   ]
  },
  {
   "cell_type": "code",
   "execution_count": 13,
   "id": "1863e22f",
   "metadata": {},
   "outputs": [
    {
     "name": "stdout",
     "output_type": "stream",
     "text": [
      "(array([0, 3], dtype=int64),)\n"
     ]
    }
   ],
   "source": [
    "## 9. Consider an array [24,45,67,90,123,367]. Find the indexes where the values are even\n",
    "\n",
    "arr = np.array([24,45,67,90,123,367])\n",
    "a = np.where(arr%2 == 0)\n",
    "print(a)"
   ]
  },
  {
   "cell_type": "code",
   "execution_count": 6,
   "id": "0ca99620",
   "metadata": {},
   "outputs": [
    {
     "name": "stdout",
     "output_type": "stream",
     "text": [
      "[[ 1  3  5  7  9]\n",
      " [ 2  4  6  8 10]]\n"
     ]
    }
   ],
   "source": [
    "## 10. Create two arrays, one with first 5 odd numbers and the other with first 5 even numbers. \n",
    "##     Then concatenate both the arrays along columns\n",
    "import numpy as np\n",
    "arr1 = np.array([1,3,5,7,9])\n",
    "arr2 = np.array([2,4,6,8,10])\n",
    "arr3 = np.vstack((arr1,arr2))\n",
    "\n",
    "print(arr3)"
   ]
  },
  {
   "cell_type": "code",
   "execution_count": 15,
   "id": "1806e726",
   "metadata": {},
   "outputs": [
    {
     "name": "stdout",
     "output_type": "stream",
     "text": [
      "[-1 -1 -1 -1 -1]\n"
     ]
    }
   ],
   "source": [
    "## 11. Subtract the even number array from the odd number array created in Q10\n",
    "\n",
    "arr1 = np.array([1,3,5,7,9])\n",
    "arr2 = np.array([2,4,6,8,10])\n",
    "arr3 = np.subtract(arr1,arr2)\n",
    "print(arr3)"
   ]
  },
  {
   "cell_type": "code",
   "execution_count": 8,
   "id": "de90a2bd",
   "metadata": {},
   "outputs": [
    {
     "name": "stdout",
     "output_type": "stream",
     "text": [
      "Matrix multiplication: \n",
      " [[ 109  264]\n",
      " [ 441 1096]]\n",
      "Transpose: \n",
      " [[ 109  441]\n",
      " [ 264 1096]]\n",
      "[[ 109  441]\n",
      " [ 264 1096]]\n"
     ]
    }
   ],
   "source": [
    "## 12. Create two matrices of the squares and cubes of first 4 natural numbers, and perform matrix multiplication. \n",
    "##     Also, obtain the transpose of the matrix resulting from the multiplication\n",
    "\n",
    "arr1 = np.array([[1,4],[9,16]])\n",
    "arr2 = np.array([[1,8],[27,64]])\n",
    "arr3 = np.dot(arr1,arr2)\n",
    "print(\"Matrix multiplication: \\n\", arr3)\n",
    "print(\"Transpose: \\n\", arr3.T)          \n",
    "# alternatively, arr3.transpose()\n",
    "print(arr3.transpose())"
   ]
  },
  {
   "cell_type": "code",
   "execution_count": null,
   "id": "bd5ef022",
   "metadata": {},
   "outputs": [],
   "source": [
    "n=10\n",
    "n1=[]\n",
    "n2=[]\n",
    "for i in range(2,n+1):\n",
    "    for j in range(2,int(i**0.5)+1):\n",
    "        \n",
    "        if i%j==0:\n",
    "            n1.append(i)\n",
    "            break\n",
    "    else:\n",
    "            n2.append(i)\n",
    "          \n",
    "print(n1)\n",
    "print(n2)\n",
    "import numpy as np\n",
    "n1=np.array(n1)\n",
    "n2=np.array(n2)\n",
    "y=np.array([n1,n2])\n",
    "print(y)"
   ]
  },
  {
   "cell_type": "code",
   "execution_count": 17,
   "id": "f1dbf9fa",
   "metadata": {},
   "outputs": [],
   "source": [
    "## end of notebook"
   ]
  }
 ],
 "metadata": {
  "kernelspec": {
   "display_name": "Python 3 (ipykernel)",
   "language": "python",
   "name": "python3"
  },
  "language_info": {
   "codemirror_mode": {
    "name": "ipython",
    "version": 3
   },
   "file_extension": ".py",
   "mimetype": "text/x-python",
   "name": "python",
   "nbconvert_exporter": "python",
   "pygments_lexer": "ipython3",
   "version": "3.9.7"
  }
 },
 "nbformat": 4,
 "nbformat_minor": 5
}
