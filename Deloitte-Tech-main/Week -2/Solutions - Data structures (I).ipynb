{
 "cells": [
  {
   "cell_type": "markdown",
   "id": "156c3101",
   "metadata": {},
   "source": [
    "# Solution II "
   ]
  },
  {
   "cell_type": "code",
   "execution_count": null,
   "id": "4f01980b",
   "metadata": {},
   "outputs": [],
   "source": [
    "#Find the largest item from a given list\n",
    "x = [4, 6, 8, 24, 12, 2]\n",
    "max(x)"
   ]
  },
  {
   "cell_type": "code",
   "execution_count": null,
   "id": "ae92a9c1",
   "metadata": {},
   "outputs": [],
   "source": [
    " #Reverse a list in Python\n",
    "list1 = [100, 200, 300, 400, 500]\n",
    "sorted(list1,reverse=True)"
   ]
  },
  {
   "cell_type": "code",
   "execution_count": null,
   "id": "a0f6a33f",
   "metadata": {},
   "outputs": [],
   "source": [
    "Turn every item of a list into its square\n",
    "Given a list of numbers. write a program to turn every item of a list into its square.\n",
    "numbers = [1, 2, 3, 4, 5, 6, 7]\n",
    "Expected output:\n",
    "\n",
    "[1, 4, 9, 16, 25, 36, 49]"
   ]
  },
  {
   "cell_type": "code",
   "execution_count": null,
   "id": "c5be4948",
   "metadata": {},
   "outputs": [],
   "source": [
    "numbers = [1, 2, 3, 4, 5, 6, 7]\n",
    "[x**2 for x in numbers]"
   ]
  },
  {
   "cell_type": "raw",
   "id": "78dc34a6",
   "metadata": {},
   "source": [
    "Rename key of a dictionary\n",
    "Write a program to rename a key city to a location in the following dictionary.\n",
    "sample_dict = {\n",
    "  \"name\": \"Kelly\",\n",
    "  \"age\":25,\n",
    "  \"salary\": 8000,\n",
    "  \"city\": \"New york\"\n",
    "}\n",
    "Expected output:\n",
    "\n",
    "{'name': 'Kelly', 'age': 25, 'salary': 8000, 'location': 'New york'}"
   ]
  },
  {
   "cell_type": "code",
   "execution_count": null,
   "id": "01d3c1dd",
   "metadata": {},
   "outputs": [],
   "source": [
    "sample_dict = {\n",
    "  \"name\": \"Kelly\",\n",
    "  \"age\":25,\n",
    "  \"salary\": 8000,\n",
    "  \"city\": \"New york\"\n",
    "}\n",
    "sample_dict['location']=sample_dict.pop('city')\n",
    "sample_dict"
   ]
  },
  {
   "cell_type": "raw",
   "id": "405b251b",
   "metadata": {},
   "source": [
    "Access value 20 from the tuple\n",
    "The given tuple is a nested tuple. write a Python program to print the value 20.\n",
    "\n",
    "\n",
    "tuple1 = (\"Orange\", [10, 20, 30], (5, 15, 25))"
   ]
  },
  {
   "cell_type": "code",
   "execution_count": null,
   "id": "464c92cf",
   "metadata": {},
   "outputs": [],
   "source": [
    "tuple1 = (\"Orange\", [10, 20, 30], (5, 15, 25))\n",
    "tuple1[1][1]"
   ]
  },
  {
   "cell_type": "raw",
   "id": "cf43b8a2",
   "metadata": {},
   "source": [
    "Swap two tuples in Python\n",
    "Given:\n",
    "\n",
    "tuple1 = (11, 22)\n",
    "tuple2 = (99, 88)"
   ]
  },
  {
   "cell_type": "code",
   "execution_count": null,
   "id": "23bad253",
   "metadata": {},
   "outputs": [],
   "source": [
    "tuple1 = (11, 22)\n",
    "tuple2 = (99, 88)\n",
    "tuple3=()\n",
    "tuple3=tuple1\n",
    "tuple1=tuple2\n",
    "tuple3\n",
    "tuple2"
   ]
  },
  {
   "cell_type": "raw",
   "id": "78a02e89",
   "metadata": {},
   "source": [
    "Counts the number of occurrences of item 50 from a tuple\n",
    "Given:\n",
    "\n",
    "tuple1 = (50, 10, 60, 70, 50)\n",
    "tuple1.count()"
   ]
  },
  {
   "cell_type": "code",
   "execution_count": null,
   "id": "704f9c8d",
   "metadata": {},
   "outputs": [],
   "source": [
    "count=0\n",
    "tuple1 = (50, 10, 60, 70, 50)\n",
    "for i in tuple1:\n",
    "    if i==50:\n",
    "        count=count+1\n",
    "print(count)"
   ]
  },
  {
   "cell_type": "code",
   "execution_count": null,
   "id": "1595ab0c",
   "metadata": {},
   "outputs": [],
   "source": [
    "tuple1.count(50)"
   ]
  },
  {
   "cell_type": "code",
   "execution_count": null,
   "id": "64bfecb5",
   "metadata": {},
   "outputs": [],
   "source": []
  },
  {
   "cell_type": "code",
   "execution_count": null,
   "id": "684a824b",
   "metadata": {},
   "outputs": [],
   "source": []
  },
  {
   "cell_type": "code",
   "execution_count": null,
   "id": "15ebc4ab",
   "metadata": {},
   "outputs": [],
   "source": []
  },
  {
   "cell_type": "code",
   "execution_count": null,
   "id": "5d70d650",
   "metadata": {},
   "outputs": [],
   "source": []
  },
  {
   "cell_type": "code",
   "execution_count": 9,
   "id": "a547df98",
   "metadata": {},
   "outputs": [],
   "source": [
    "def areRotations(string1, string2):\n",
    "    size1 = len(string1)\n",
    "    size2 = len(string2)\n",
    "    temp = ''\n",
    " \n",
    "    # Check if sizes of two strings are same\n",
    "    if size1 != size2:\n",
    "        return 0\n",
    " \n",
    "    # Create a temp string with value str1.str1\n",
    "    temp = string1 + string1\n",
    " \n",
    "    # Now check if str2 is a substring of temp\n",
    "    # string.count returns the number of occurrences of\n",
    "    # the second string in temp\n",
    "    if (temp.count(string2)> 0):\n",
    "        print(\"Strings are rotations of each other\")\n",
    "    else:\n",
    "        print(\"Strings are not rotations of each other\")\n"
   ]
  },
  {
   "cell_type": "code",
   "execution_count": 10,
   "id": "2db301e2",
   "metadata": {},
   "outputs": [
    {
     "name": "stdout",
     "output_type": "stream",
     "text": [
      "Strings are not rotations of each other\n"
     ]
    }
   ],
   "source": [
    "areRotations('Hello','IHell')"
   ]
  },
  {
   "cell_type": "code",
   "execution_count": null,
   "id": "20e6e3c7",
   "metadata": {},
   "outputs": [],
   "source": [
    "### LMS Problems"
   ]
  },
  {
   "cell_type": "code",
   "execution_count": null,
   "id": "0fd07328",
   "metadata": {},
   "outputs": [],
   "source": [
    "## Write a Python program to sort a given dictionary by key.\n",
    "\n",
    "data = {'banana': 80,'cherry': 20,'apple': 60,'grapes':120}\n",
    "sorted_result = sorted(data.items())\n",
    "\n",
    "print(sorted_result)"
   ]
  },
  {
   "cell_type": "code",
   "execution_count": 13,
   "id": "68e758c7",
   "metadata": {},
   "outputs": [
    {
     "data": {
      "text/plain": [
       "dict_items([('banana', 80), ('cherry', 200), ('apple', 60), ('grapes', 120)])"
      ]
     },
     "execution_count": 13,
     "metadata": {},
     "output_type": "execute_result"
    }
   ],
   "source": [
    "data.items()"
   ]
  },
  {
   "cell_type": "code",
   "execution_count": 18,
   "id": "d53c3157",
   "metadata": {},
   "outputs": [
    {
     "name": "stdout",
     "output_type": "stream",
     "text": [
      "[15, 14, 13, 12, 11, 10]\n"
     ]
    }
   ],
   "source": [
    "#Write a python program to create a list and print all the items in reverse index order.\n",
    "lst = [10, 11, 12, 13, 14, 15]\n",
    "lst.reverse()\n",
    "print(lst)"
   ]
  },
  {
   "cell_type": "code",
   "execution_count": 20,
   "id": "a4b3bc3a",
   "metadata": {},
   "outputs": [
    {
     "data": {
      "text/plain": [
       "[0, 1, 4, 7, 23, 3, 12, 43, 87, 90]"
      ]
     },
     "execution_count": 20,
     "metadata": {},
     "output_type": "execute_result"
    }
   ],
   "source": [
    "#Write a Python function that takes two sorted lists and return merged List.\n",
    "List_1=[7,23,4,0,1]\n",
    "List_2=[90,3,12,87,43]\n",
    "List_1.sort()\n",
    "List_2.sort()\n",
    "List_1+List_2"
   ]
  },
  {
   "cell_type": "code",
   "execution_count": 21,
   "id": "0ca0a3fb",
   "metadata": {},
   "outputs": [
    {
     "data": {
      "text/plain": [
       "{2, 3, 4, 6, 7}"
      ]
     },
     "execution_count": 21,
     "metadata": {},
     "output_type": "execute_result"
    }
   ],
   "source": [
    "#Write a Python program to remove duplicates from a list\n",
    "List_3=[2,3,4,3,6,2,7,4]\n",
    "new_list=set(List_3)\n",
    "new_list"
   ]
  },
  {
   "cell_type": "code",
   "execution_count": 23,
   "id": "38ea3643",
   "metadata": {},
   "outputs": [
    {
     "name": "stdout",
     "output_type": "stream",
     "text": [
      "No\n"
     ]
    }
   ],
   "source": [
    "#Write a python function to check whether the list is Ascending order or not.\n",
    "n=[56,90,87,54]    #assign list values from input\n",
    "if sorted(n) == n: #for descending, use sorted(n, reverse=True)\n",
    "    print(\"Yes\")\n",
    "else:\n",
    "    print(\"No\")"
   ]
  },
  {
   "cell_type": "code",
   "execution_count": null,
   "id": "f62b3797",
   "metadata": {},
   "outputs": [],
   "source": []
  }
 ],
 "metadata": {
  "kernelspec": {
   "display_name": "Python 3 (ipykernel)",
   "language": "python",
   "name": "python3"
  },
  "language_info": {
   "codemirror_mode": {
    "name": "ipython",
    "version": 3
   },
   "file_extension": ".py",
   "mimetype": "text/x-python",
   "name": "python",
   "nbconvert_exporter": "python",
   "pygments_lexer": "ipython3",
   "version": "3.9.7"
  }
 },
 "nbformat": 4,
 "nbformat_minor": 5
}
