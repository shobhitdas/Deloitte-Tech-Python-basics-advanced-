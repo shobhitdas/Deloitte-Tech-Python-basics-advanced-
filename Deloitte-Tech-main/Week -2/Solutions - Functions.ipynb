{
 "cells": [
  {
   "cell_type": "code",
   "execution_count": null,
   "id": "a91564f3",
   "metadata": {},
   "outputs": [],
   "source": [
    "#Write a program to create a function that takes two arguments, name and age, and print their value.\n",
    "# demo is the function name\n",
    "def demo(name, age):\n",
    "    # print value\n",
    "    print(name, age)\n",
    "\n",
    "# call function\n",
    "demo(\"Ben\", 25)"
   ]
  },
  {
   "cell_type": "code",
   "execution_count": 41,
   "id": "0a1788ad",
   "metadata": {},
   "outputs": [
    {
     "name": "stdout",
     "output_type": "stream",
     "text": [
      "Name: Jessa salary: 9000\n"
     ]
    }
   ],
   "source": [
    "# function with default argument\n",
    "def show_employee(name, salary=9000):\n",
    "    print(\"Name:\", name, \"salary:\", salary)\n",
    "\n",
    "#show_employee(\"Ben\", 12000)\n",
    "show_employee(\"Jessa\")"
   ]
  },
  {
   "cell_type": "code",
   "execution_count": 39,
   "id": "c2334b4d",
   "metadata": {},
   "outputs": [
    {
     "name": "stdout",
     "output_type": "stream",
     "text": [
      "Emma 26\n"
     ]
    }
   ],
   "source": [
    "def display_student(name, age):\n",
    "    print(name, age)\n",
    "\n",
    "# call using original name\n",
    "#display_student(\"Emma\", 26)\n",
    "\n",
    "# assign new name\n",
    "showStudent = display_student\n",
    "# call using new name\n",
    "showStudent(\"Emma\", 26)"
   ]
  },
  {
   "cell_type": "code",
   "execution_count": 42,
   "id": "552de121",
   "metadata": {},
   "outputs": [
    {
     "name": "stdout",
     "output_type": "stream",
     "text": [
      "Input a number to compute the factiorial : 4\n",
      "24\n"
     ]
    }
   ],
   "source": [
    "def factorial(n):\n",
    "    if n == 0:\n",
    "        return 1\n",
    "    else:\n",
    "        return n * factorial(n-1)\n",
    "n=int(input(\"Input a number to compute the factiorial : \"))\n",
    "print(factorial(n))"
   ]
  },
  {
   "cell_type": "code",
   "execution_count": 43,
   "id": "5930f491",
   "metadata": {},
   "outputs": [
    {
     "name": "stdout",
     "output_type": "stream",
     "text": [
      "False\n"
     ]
    }
   ],
   "source": [
    "def test_prime(n):\n",
    "    if (n==1):\n",
    "        return False\n",
    "    elif (n==2):\n",
    "        return True;\n",
    "    else:\n",
    "        for x in range(2,n):\n",
    "            if(n % x==0):\n",
    "                return False\n",
    "        return True             \n",
    "print(test_prime(9))"
   ]
  },
  {
   "cell_type": "code",
   "execution_count": 44,
   "id": "a39760a5",
   "metadata": {},
   "outputs": [
    {
     "name": "stdout",
     "output_type": "stream",
     "text": [
      "25\n"
     ]
    }
   ],
   "source": [
    "r = lambda a : a + 15\n",
    "print(r(10))"
   ]
  },
  {
   "cell_type": "code",
   "execution_count": null,
   "id": "a444d360",
   "metadata": {},
   "outputs": [],
   "source": [
    "r = lambda x, y : x * y\n",
    "print(r(12, 4))"
   ]
  },
  {
   "cell_type": "code",
   "execution_count": 45,
   "id": "d4873e28",
   "metadata": {},
   "outputs": [
    {
     "name": "stdout",
     "output_type": "stream",
     "text": [
      "Area 6\n",
      "Perimeter 10\n"
     ]
    }
   ],
   "source": [
    "def area_peri(w,h):\n",
    "    # calculate the area\n",
    "    Area = w * h\n",
    "    print(\"Area\",Area)\n",
    "# calculate the Perimeter\n",
    "    Perimeter = 2 * (w + h)\n",
    "    print(\"Perimeter\",Perimeter)\n",
    "area_peri(2,3)"
   ]
  },
  {
   "cell_type": "markdown",
   "id": "4df3df6f",
   "metadata": {},
   "source": [
    "### for loop"
   ]
  },
  {
   "cell_type": "code",
   "execution_count": null,
   "id": "53573a51",
   "metadata": {},
   "outputs": [],
   "source": [
    "#Print characters from a string that are present at an even index number\n",
    "\n",
    "s='pynative'\n",
    "for i in range(0,len(s),2):\n",
    "    print(s[i])\n",
    "    "
   ]
  },
  {
   "cell_type": "code",
   "execution_count": null,
   "id": "f2bbe794",
   "metadata": {},
   "outputs": [],
   "source": [
    "#Write a program to print first 10 even numbers in reverse order.\n",
    "for i in range(20,0,-2):\n",
    "      print(i)"
   ]
  },
  {
   "cell_type": "code",
   "execution_count": null,
   "id": "7742e2ea",
   "metadata": {},
   "outputs": [],
   "source": [
    "#Write a program to print multiples of a number accepted from user. using for loop\n",
    "\n",
    "num = int(input(\"Enter any number\"))\n",
    "for i in range(1,11):\n",
    "           print(num*i)"
   ]
  },
  {
   "cell_type": "code",
   "execution_count": null,
   "id": "10e0b489",
   "metadata": {},
   "outputs": [],
   "source": [
    "#Write a program to find the factorial of a number.using for loop\n",
    "num=int(input(\"Enter any number\"))\n",
    "f=1\n",
    "for i in range(1,num+1):\n",
    "    f=f*i\n",
    "print(\"Factorial is\",f)"
   ]
  },
  {
   "cell_type": "code",
   "execution_count": null,
   "id": "8c743860",
   "metadata": {},
   "outputs": [],
   "source": [
    "#Write a program to display all the numbers which are divisible by 11 but not by 2 between 100 and 500.\n",
    "\n",
    "for i in range(100,500):\n",
    "\n",
    "    if i%11==0 and i%2!=0:\n",
    "\n",
    "        print(i)"
   ]
  },
  {
   "cell_type": "markdown",
   "id": "ae56ffe0",
   "metadata": {},
   "source": [
    "### while loop"
   ]
  },
  {
   "cell_type": "code",
   "execution_count": null,
   "id": "e59917a9",
   "metadata": {},
   "outputs": [],
   "source": [
    "#Print First 10 natural numbers using while loop\n",
    "i = 1\n",
    "while i <= 10:\n",
    "    print(i)\n",
    "    i += 1"
   ]
  },
  {
   "cell_type": "code",
   "execution_count": null,
   "id": "41c4444d",
   "metadata": {},
   "outputs": [],
   "source": [
    "#Write a program to count the total number of digits in a number using a while loop.\n",
    "n=int(input(\"Enter number:\"))\n",
    "count=0\n",
    "while(n>0):\n",
    "    count=count+1\n",
    "    n=n//10\n",
    "print(\"The number of digits in the number are:\",count)"
   ]
  },
  {
   "cell_type": "code",
   "execution_count": null,
   "id": "8a5f5815",
   "metadata": {},
   "outputs": [],
   "source": [
    "#Finding the sum of even numbers using while loop\n",
    "i = 0\n",
    "sum = 0\n",
    "n = int(input(\"Enter the number n: \"))\n",
    "\n",
    "while  i <= n:\n",
    "    if i % 2 == 0:\n",
    "        sum += i\n",
    "    i += 1\n",
    "        \n",
    "print(\"Sum of even numbers till n:\",sum)"
   ]
  },
  {
   "cell_type": "code",
   "execution_count": null,
   "id": "5822b99b",
   "metadata": {},
   "outputs": [],
   "source": [
    "#Finding the 10 multiples of a number using while loop\n",
    "n = int(input(\"Enter an integer: \"))\n",
    "\n",
    "i = 1\n",
    "while i <= 10:\n",
    "    mul = i*n\n",
    "    i += 1\n",
    "    print(mul)"
   ]
  },
  {
   "cell_type": "code",
   "execution_count": null,
   "id": "d51fecda",
   "metadata": {},
   "outputs": [],
   "source": [
    "#Printing the square of numbers using while loop. n=1,2,3,4,5\n",
    "n = 1\n",
    "\n",
    "while n <= 5:\n",
    "    squareNum = n**2\n",
    "    print(n,squareNum)\n",
    "    n += 1"
   ]
  },
  {
   "cell_type": "code",
   "execution_count": null,
   "id": "d9427159",
   "metadata": {},
   "outputs": [],
   "source": [
    "#Finding the average of 5 numbers using while loop\n",
    "p = 0\n",
    "sum = 0\n",
    "count = 0\n",
    "\n",
    "while p <5:\n",
    "    count += 1\n",
    "    f = int(input(\"Enter the number \"))\n",
    "    sum += f\n",
    "    p += 1\n",
    "  \n",
    "average = sum/count\n",
    "print(\"Average of given Numbers:\",average)"
   ]
  },
  {
   "cell_type": "code",
   "execution_count": null,
   "id": "5275b458",
   "metadata": {},
   "outputs": [],
   "source": [
    "##Printing all letters except some using Python while loop\n",
    "i = 0 \n",
    "word = \"Hello\"\n",
    "\n",
    "#print all letters except y and o\n",
    "\n",
    "while i < len(word):\n",
    "    if word[i] == \"e\" or word[i] ==\"o\":\n",
    "        i += 1\n",
    "        continue\n",
    "\n",
    "    print(word[i])\n",
    "    i += 1"
   ]
  },
  {
   "cell_type": "code",
   "execution_count": null,
   "id": "956d683a",
   "metadata": {},
   "outputs": [],
   "source": [
    "#Write a program to find the sum of the digits of a number accepted from user\n",
    "n=int(input(\"Enter a number:\"))\n",
    "tot=0\n",
    "while(n>0):\n",
    "    r=n%10\n",
    "    tot=tot+r\n",
    "    n=n//10\n",
    "print(\"The total sum of digits is:\",tot)"
   ]
  },
  {
   "cell_type": "markdown",
   "id": "a9bee3fb",
   "metadata": {},
   "source": [
    "#### Additional problems "
   ]
  },
  {
   "cell_type": "code",
   "execution_count": null,
   "id": "6c91bee5",
   "metadata": {},
   "outputs": [],
   "source": [
    "tax = 0\n",
    "pr=int(input(\"Enter the price of bike\"))\n",
    "if pr > 100000:\n",
    "     tax = 15/100*pr\n",
    "elif pr >50000 and pr <=100000:\n",
    "     tax = 10/100*pr\n",
    "else:\n",
    "     tax = 5/100*pr"
   ]
  },
  {
   "cell_type": "code",
   "execution_count": null,
   "id": "2bdbe30c",
   "metadata": {},
   "outputs": [],
   "source": [
    "num=int(input(\"Enter any number between 1 to 7 : \"))\n",
    "if num==1:\n",
    "    print(\"Sunday\")\n",
    "elif num==2:\n",
    "    print(\"Monday\")\n",
    "elif num==3:\n",
    "    print(\"Tuesday\")\n",
    "elif num==4:\n",
    "   print(\"Wednesday\")\n",
    "elif num==5:\n",
    "   print(\"Thursday\")\n",
    "elif num==6:\n",
    "   print(\"Friday\")\n",
    "elif num==2:\n",
    "   print(\"Saturday\")\n",
    "else:\n",
    "   print(\"Please enter number between 1 to 7\")"
   ]
  },
  {
   "cell_type": "code",
   "execution_count": null,
   "id": "434655c1",
   "metadata": {},
   "outputs": [],
   "source": [
    "age=int(input(\"Enter your age\"))\n",
    "if age >=60:\n",
    "    print(\"Senior Citizen\")\n",
    "else\n",
    "    print(\"Not a Senior Citizen\")"
   ]
  },
  {
   "cell_type": "code",
   "execution_count": null,
   "id": "71a962ed",
   "metadata": {},
   "outputs": [],
   "source": [
    "num1 = int(input(\"Enter first number\"))\n",
    "if num1%2==0 and num1%3==0:\n",
    "      print(\"Number is divisible by 2 and 3 both\")\n",
    "else:\n",
    "      print(\"Number is not divisible by both\")"
   ]
  },
  {
   "cell_type": "code",
   "execution_count": null,
   "id": "cfd11eb4",
   "metadata": {},
   "outputs": [],
   "source": [
    "temp = int(input(\"Enter temperature of water\"))\n",
    "if temp >=100:\n",
    "    print(\"Water is boiling\")\n",
    "else:\n",
    "    print(\"Water is not boiling\")"
   ]
  },
  {
   "cell_type": "code",
   "execution_count": null,
   "id": "fd2b4ea5",
   "metadata": {},
   "outputs": [],
   "source": [
    "ch=input(\"Enter any character\")\n",
    "vow=\"aeiouAEIOU\"\n",
    "if ch in vow:\n",
    "     print(\"Entered character is vowel\")\n",
    "else:\n",
    "     print(\"Entered character is not vowel\")"
   ]
  },
  {
   "cell_type": "code",
   "execution_count": null,
   "id": "0af942e1",
   "metadata": {},
   "outputs": [],
   "source": [
    "nd = int(input(\"Enter total number of working days\"))\n",
    "na = int(input(\"Enter number of days  absent\"))\n",
    "per=(nd-na)/nd*100\n",
    "print(\"Your attendance is \",per)\n",
    "if per <75 :\n",
    "     print(\"You are not eligible for exams\")\n",
    "else:\n",
    "     print(\"You are eligible for writing exam\")"
   ]
  },
  {
   "cell_type": "code",
   "execution_count": null,
   "id": "c27cd947",
   "metadata": {},
   "outputs": [],
   "source": [
    "age=int(input(\"Enter your age\"))\n",
    "sex=input(\"Enter sex(M/F) \")\n",
    "nd = int(input(\"Enter number of days\"))\n",
    "if age >=18 and age < 30 and sex.upper( ) == 'M':\n",
    "     amt = nd*700\n",
    "     print(\"Total wages is : \", amt)\n",
    "elif age >=18 and age < 30 and sex.upper( ) == 'F':\n",
    "     amt = nd*750\n",
    "     print(\"Total wages is : \", amt)\n",
    "elif age >=30 and age <= 40 and sex.upper( ) == 'M':\n",
    "     amt = nd * 800\n",
    "     print(\"Total wages is : \", amt)\n",
    "elif age >=30 and age <= 40 and sex.upper( ) == 'F':\n",
    "     amt = nd * 850\n",
    "     print(\"Total wages is : \", amt)\n",
    "else:\n",
    "     print(\"Enter appropriate age\")"
   ]
  },
  {
   "cell_type": "code",
   "execution_count": null,
   "id": "f7597a8e",
   "metadata": {},
   "outputs": [],
   "source": [
    "### Functions"
   ]
  },
  {
   "cell_type": "code",
   "execution_count": 20,
   "id": "2ec69b2a",
   "metadata": {},
   "outputs": [],
   "source": [
    "def alternating(li):\n",
    "    l=len(li)\n",
    "    if l==0 or l==1:\n",
    "        return None\n",
    "    if li[0]==li[1]:\n",
    "        return False\n",
    "    elif li[0]>li[1]:\n",
    "        for i in range (2,l):\n",
    "            if i%2==0:\n",
    "                if li[i]<=li[i-1]:\n",
    "                    return True\n",
    "                else:\n",
    "                    return False\n",
    "        return True\n",
    "    elif li[0]<li[1]:\n",
    "        for i in range (2,l):\n",
    "             if i%2==0:\n",
    "                if li[i]>=li[i-1]:\n",
    "                    return True\n",
    "            else:\n",
    "                if li[i]<=li[i-1]:\n",
    "                    return False \n",
    "        return True\n",
    "        "
   ]
  },
  {
   "cell_type": "code",
   "execution_count": 25,
   "id": "7de33a37",
   "metadata": {},
   "outputs": [
    {
     "data": {
      "text/plain": [
       "False"
      ]
     },
     "execution_count": 25,
     "metadata": {},
     "output_type": "execute_result"
    }
   ],
   "source": [
    "l=[3,4,6,5]\n",
    "alternating(l)"
   ]
  },
  {
   "cell_type": "code",
   "execution_count": 26,
   "id": "bb9070c6",
   "metadata": {},
   "outputs": [],
   "source": [
    "def alternating(li):\n",
    "    l=len(li)\n",
    "    if l==0 or l==1:\n",
    "        return True\n",
    "    if li[0]==li[1]:\n",
    "        return False\n",
    "    elif li[0]>li[1]:         #start-down-up...\n",
    "        for i in range(2,l):\n",
    "            if i%2==0:\n",
    "                if li[i]<=li[i-1]:\n",
    "                    return True\n",
    "            else:\n",
    "                if li[i]>=li[i-1]:\n",
    "                    return False\n",
    "        return True\n",
    "    elif li[0]<li[1]:         #start-up-down...\n",
    "        for i in range(2,l):\n",
    "            if i%2==0:\n",
    "                if li[i]>=li[i-1]:\n",
    "                    return True\n",
    "            else:\n",
    "                if li[i]<=li[i-1]:\n",
    "                    return False\n",
    "        return True"
   ]
  },
  {
   "cell_type": "code",
   "execution_count": 28,
   "id": "fc33c464",
   "metadata": {},
   "outputs": [
    {
     "data": {
      "text/plain": [
       "False"
      ]
     },
     "execution_count": 28,
     "metadata": {},
     "output_type": "execute_result"
    }
   ],
   "source": [
    "l=[3,6,3,2]\n",
    "alternating(l)"
   ]
  },
  {
   "cell_type": "code",
   "execution_count": 31,
   "id": "ccdf1665",
   "metadata": {},
   "outputs": [],
   "source": [
    "def descending(li):\n",
    "    ls=len(li)\n",
    "    if l==0 or l==1:\n",
    "        return True\n",
    "    else:\n",
    "        for i in range(1,ls):\n",
    "            if li[i]>li[i-1]:\n",
    "                return False\n",
    "        return True"
   ]
  },
  {
   "cell_type": "code",
   "execution_count": 34,
   "id": "c40febfe",
   "metadata": {},
   "outputs": [
    {
     "data": {
      "text/plain": [
       "True"
      ]
     },
     "execution_count": 34,
     "metadata": {},
     "output_type": "execute_result"
    }
   ],
   "source": [
    "# list of numbers are in descending order\n",
    "li=[7,6,5,4,3]\n",
    "descending(li)"
   ]
  },
  {
   "cell_type": "code",
   "execution_count": null,
   "id": "1559cb59",
   "metadata": {},
   "outputs": [],
   "source": [
    "def response(test):\n",
    "    z=test.upper()\n",
    "    print(z)\n",
    "test=input()\n",
    "response(test)"
   ]
  },
  {
   "cell_type": "code",
   "execution_count": 37,
   "id": "2ddded43",
   "metadata": {},
   "outputs": [
    {
     "name": "stdout",
     "output_type": "stream",
     "text": [
      "4\n",
      "50.24\n"
     ]
    }
   ],
   "source": [
    "def area(radius):\n",
    "    area=3.14*radius*radius\n",
    "    print(area)\n",
    "radius=int(input())\n",
    "area(radius)"
   ]
  },
  {
   "cell_type": "code",
   "execution_count": 36,
   "id": "db7fda13",
   "metadata": {},
   "outputs": [
    {
     "name": "stdout",
     "output_type": "stream",
     "text": [
      "there\n",
      "THERE\n"
     ]
    }
   ],
   "source": [
    "def response(test):\n",
    "    \n",
    "    z=test.upper()\n",
    "    print(z)\n",
    "test=input()\n",
    "response(test)"
   ]
  },
  {
   "cell_type": "code",
   "execution_count": null,
   "id": "f81d8796",
   "metadata": {},
   "outputs": [],
   "source": []
  }
 ],
 "metadata": {
  "kernelspec": {
   "display_name": "Python 3 (ipykernel)",
   "language": "python",
   "name": "python3"
  },
  "language_info": {
   "codemirror_mode": {
    "name": "ipython",
    "version": 3
   },
   "file_extension": ".py",
   "mimetype": "text/x-python",
   "name": "python",
   "nbconvert_exporter": "python",
   "pygments_lexer": "ipython3",
   "version": "3.9.7"
  }
 },
 "nbformat": 4,
 "nbformat_minor": 5
}
