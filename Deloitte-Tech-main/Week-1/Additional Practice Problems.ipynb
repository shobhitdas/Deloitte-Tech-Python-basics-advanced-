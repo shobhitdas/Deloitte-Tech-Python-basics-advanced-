{
 "cells": [
  {
   "cell_type": "code",
   "execution_count": null,
   "id": "05529040",
   "metadata": {},
   "outputs": [],
   "source": [
    "## If else"
   ]
  },
  {
   "cell_type": "raw",
   "id": "2b3b4868",
   "metadata": {},
   "source": [
    "Write a program to accept the cost price of a bike and display the road tax to be paid according to the following criteria :\n",
    "    \n",
    "        Cost price (in Rs)                                       Tax\n",
    "        > 100000                                                  15 %\n",
    "        > 50000 and <= 100000                                    10%\n",
    "        <= 50000                                                  5%"
   ]
  },
  {
   "cell_type": "raw",
   "id": "39c0d63d",
   "metadata": {},
   "source": [
    "Write a program to accept a number from 1 to 7 and display the name of the day like 1 for Sunday , 2 for Monday and so on."
   ]
  },
  {
   "cell_type": "markdown",
   "id": "3b00dedb",
   "metadata": {},
   "source": [
    " Write a program to check whether a person is senior citizen or not."
   ]
  },
  {
   "cell_type": "code",
   "execution_count": null,
   "id": "8f3a62a3",
   "metadata": {},
   "outputs": [],
   "source": [
    "Write a program to whether a number (accepted from user) is divisible by 2 and 3 both."
   ]
  },
  {
   "cell_type": "markdown",
   "id": "f36e71ea",
   "metadata": {},
   "source": [
    "Accept the temperature in degree Celsius of water and check whether it is boiling or not (boiling point of water in 100 oC."
   ]
  },
  {
   "cell_type": "code",
   "execution_count": null,
   "id": "611f32b8",
   "metadata": {},
   "outputs": [],
   "source": [
    "Write a program to check a character is vowel or not."
   ]
  },
  {
   "cell_type": "raw",
   "id": "aedb3b2c",
   "metadata": {},
   "source": [
    "Accept the following from the user and calculate the percentage of class attended:\n",
    "\n",
    "a.     Total number of working days\n",
    "\n",
    "b.     Total number of days for absent\n",
    "\n",
    "    After calculating percentage show that, If the percentage is less than 75, than student will not be able to sit in exam."
   ]
  },
  {
   "cell_type": "raw",
   "id": "28cade38",
   "metadata": {},
   "source": [
    "Accept the age, sex (‘M’, ‘F’), number of days and display the wages accordingly\n",
    "\n",
    "        Age\t        Sex\t                    Wage/day\n",
    ">=18 and <30\t      M\t                      700\n",
    "                      F\t                      750\n",
    ">=30 and <=40\t      M\t                      800\n",
    "                      F\t                      850\n",
    "##if else\n",
    "If age does not fall in any range then display the following message: “Enter appropriate age”"
   ]
  },
  {
   "cell_type": "code",
   "execution_count": null,
   "id": "af8cf6c3",
   "metadata": {},
   "outputs": [],
   "source": []
  },
  {
   "cell_type": "markdown",
   "id": "3cc5f6a3",
   "metadata": {},
   "source": [
    "Define a Python function alternating(li) that returns True if the values in the input list alternately go up and down (in a strict manner). "
   ]
  },
  {
   "cell_type": "raw",
   "id": "4fae3501",
   "metadata": {},
   "source": [
    "Define a Python function \"descending(l)\" that returns True\n",
    "   if each element in its input list is at most as big as the one before it"
   ]
  },
  {
   "cell_type": "code",
   "execution_count": null,
   "id": "73875bf6",
   "metadata": {},
   "outputs": [],
   "source": [
    "Define a function that accepts lowercase words and returns uppercase words."
   ]
  },
  {
   "cell_type": "code",
   "execution_count": null,
   "id": "7f6a8242",
   "metadata": {},
   "outputs": [],
   "source": [
    "Define a function that accepts radius and returns the area of a circle."
   ]
  }
 ],
 "metadata": {
  "kernelspec": {
   "display_name": "Python 3 (ipykernel)",
   "language": "python",
   "name": "python3"
  },
  "language_info": {
   "codemirror_mode": {
    "name": "ipython",
    "version": 3
   },
   "file_extension": ".py",
   "mimetype": "text/x-python",
   "name": "python",
   "nbconvert_exporter": "python",
   "pygments_lexer": "ipython3",
   "version": "3.9.7"
  }
 },
 "nbformat": 4,
 "nbformat_minor": 5
}
