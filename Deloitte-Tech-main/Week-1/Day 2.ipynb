{
 "cells": [
  {
   "cell_type": "markdown",
   "id": "74acefbb",
   "metadata": {},
   "source": [
    "### Language Overview\n",
    "    \n",
    "           - Variables\n",
    "           \n",
    "           - statements & Expressions\n",
    "           \n",
    "           - whitespace & comments\n",
    "                           \n",
    "\n",
    "### Types and Values\n",
    "\n",
    "           - Data Types\n",
    "           \n",
    "           - user input & output\n",
    "    \n",
    "           - type() & id()"
   ]
  },
  {
   "cell_type": "markdown",
   "id": "4bce987d",
   "metadata": {},
   "source": [
    "#### Variables\n",
    "Variables are containers for storing data (storing data values)"
   ]
  },
  {
   "cell_type": "code",
   "execution_count": 2,
   "id": "a2e20001",
   "metadata": {},
   "outputs": [],
   "source": [
    "# create a variable\n",
    "a=10"
   ]
  },
  {
   "cell_type": "code",
   "execution_count": 3,
   "id": "7da85cfa",
   "metadata": {},
   "outputs": [
    {
     "data": {
      "text/plain": [
       "int"
      ]
     },
     "execution_count": 3,
     "metadata": {},
     "output_type": "execute_result"
    }
   ],
   "source": [
    "type(a)"
   ]
  },
  {
   "cell_type": "code",
   "execution_count": 5,
   "id": "ac75c4de",
   "metadata": {},
   "outputs": [],
   "source": [
    "### Assign multiple values to multiple variables\n",
    "a=5;b=6;c=7"
   ]
  },
  {
   "cell_type": "code",
   "execution_count": 6,
   "id": "88c5ecc5",
   "metadata": {},
   "outputs": [],
   "source": [
    "### Assign same value to multiple variables\n",
    "a=b=c=10"
   ]
  },
  {
   "cell_type": "code",
   "execution_count": 8,
   "id": "51cc2294",
   "metadata": {},
   "outputs": [],
   "source": [
    "#python is case sensitive\n",
    "Var1=34\n",
    "var1=45\n",
    "new=78"
   ]
  },
  {
   "cell_type": "code",
   "execution_count": 10,
   "id": "3b08fe5b",
   "metadata": {},
   "outputs": [
    {
     "data": {
      "text/plain": [
       "78"
      ]
     },
     "execution_count": 10,
     "metadata": {},
     "output_type": "execute_result"
    }
   ],
   "source": [
    "new"
   ]
  },
  {
   "cell_type": "markdown",
   "id": "0284f775",
   "metadata": {},
   "source": [
    "#### Keywords & Constants"
   ]
  },
  {
   "cell_type": "markdown",
   "id": "0bf71d55",
   "metadata": {},
   "source": [
    "Keywords are the reserved words in Python.\n",
    "\n",
    "We cannot use a keyword as a variable name, function name or any other identifier. They are used to define the syntax and structure of the Python language."
   ]
  },
  {
   "cell_type": "raw",
   "id": "b2a1946b",
   "metadata": {},
   "source": [
    "All the keywords except True, False and None are in lowercase and they must be written as they are.\n",
    "\n",
    "The list of all the keywords is given below.\n",
    "\n",
    "False\tawait\telse\timport\tpass\n",
    "\n",
    "None\tbreak\texcept\tin\traise\n",
    "\n",
    "True\tclass\tfinally\tis\treturn\n",
    "\n",
    "and\tcontinue\tfor\tlambda\ttry\n",
    "\n",
    "as\tdef\tfrom\tnonlocal\twhile\n",
    "\n",
    "assert\tdel\tglobal\tnot\twith\n",
    "\n",
    "async\telif\tif\tor\tyield\n"
   ]
  },
  {
   "cell_type": "markdown",
   "id": "519bb05e",
   "metadata": {},
   "source": [
    "A constant is a type of variable whose value cannot be changed."
   ]
  },
  {
   "cell_type": "markdown",
   "id": "a415699c",
   "metadata": {},
   "source": [
    "#### Statements and Expressions"
   ]
  },
  {
   "cell_type": "markdown",
   "id": "bb17b285",
   "metadata": {},
   "source": [
    "An Expression is a sequence or combination of values, variables, operators and function calls that always produces or returns a result value.\n",
    "– An Expression always evaluates (calculate) to itself."
   ]
  },
  {
   "cell_type": "markdown",
   "id": "8f04b5e9",
   "metadata": {},
   "source": [
    " z = x + y\n",
    "In the above example = and + are operators.\n",
    "\n",
    "So, x + y is an expression."
   ]
  },
  {
   "cell_type": "markdown",
   "id": "11ca2032",
   "metadata": {},
   "source": [
    "Any Instruction that a python interpreter can execute (carry out) is called a Statement."
   ]
  },
  {
   "cell_type": "markdown",
   "id": "27e7fcf7",
   "metadata": {},
   "source": [
    "Each and every line or a sentence in any programming language is called an instruction.\n",
    "In simple words – A Statement is the smallest executable unit of code that has an effect, like creating a variable or displaying a value.\n",
    "Each and every line of code that we write in any programming language is called a statement"
   ]
  },
  {
   "cell_type": "raw",
   "id": "80ee9151",
   "metadata": {},
   "source": [
    "Difference between Expressions and Statements in Python:\n",
    "\n",
    "Expression\t  \n",
    "\n",
    "                                                                    Statement\n",
    "                                                                    \n",
    "An expression evaluates to a value\t                          A statement executes something\n",
    "The evaluation of a statement does not changes state\t      The execution of a statement changes state\n",
    "Evaluation of an expression always Produces or returns\n",
    "a result value.\t                                              Execution of a statement may or may not produces or displays a                                                                 result value, it only does whatever the statement says.\n",
    "Every expression can’t be a statement.\t                      Every statement can be an expression.\n",
    "\n",
    "Example: >>> a + 16\n",
    ">>> 20\t                                                      Example:  >>> x = 3\n",
    "                                                               >>> print(x)\n",
    "\n",
    "                                                                 Output: 3"
   ]
  },
  {
   "cell_type": "markdown",
   "id": "ff734e94",
   "metadata": {},
   "source": [
    "#### Whitespace & Comment"
   ]
  },
  {
   "cell_type": "raw",
   "id": "98a621d5",
   "metadata": {},
   "source": [
    "Indentation: A code block (body of a function, loop, etc.) starts with indentation.\n",
    "Generally, four whitespaces are used for indentation and are preferred over tabs.\n",
    "\n",
    "Comment: A Python comment is a line of text that appears in a program but is not executed by the program."
   ]
  },
  {
   "cell_type": "raw",
   "id": "98d2e914",
   "metadata": {},
   "source": [
    "Single line comments: Python single-line comment starts with a hashtag symbol with no white spaces (#) and lasts till the end of the line. If the comment exceeds one line then put a hashtag on the next line and continue the comment.\n",
    "Multi-line string as a comment: Python multi-line comment is a piece of text enclosed in a delimiter (“””) on each end of the comment. Again there should be no white space between delimiter (“””)."
   ]
  },
  {
   "cell_type": "code",
   "execution_count": 11,
   "id": "54faf0a8",
   "metadata": {},
   "outputs": [
    {
     "data": {
      "text/plain": [
       "10"
      ]
     },
     "execution_count": 11,
     "metadata": {},
     "output_type": "execute_result"
    }
   ],
   "source": [
    "\"\"\" This is the sentence\n",
    "for comments\n",
    "\"\"\"\n",
    "a"
   ]
  },
  {
   "cell_type": "markdown",
   "id": "ff092167",
   "metadata": {},
   "source": [
    "### Types and Values\n",
    "#### Data types"
   ]
  },
  {
   "cell_type": "markdown",
   "id": "4a612851",
   "metadata": {},
   "source": [
    "- numeric (int,float)\n",
    "\n",
    "- bool\n",
    "\n",
    "- complex\n",
    "\n",
    "- string\n"
   ]
  },
  {
   "cell_type": "code",
   "execution_count": 12,
   "id": "e818ec02",
   "metadata": {},
   "outputs": [],
   "source": [
    "### int\n",
    "x=18\n"
   ]
  },
  {
   "cell_type": "code",
   "execution_count": 13,
   "id": "b0a28b86",
   "metadata": {},
   "outputs": [
    {
     "data": {
      "text/plain": [
       "int"
      ]
     },
     "execution_count": 13,
     "metadata": {},
     "output_type": "execute_result"
    }
   ],
   "source": [
    "# check the data type\n",
    "type(x)"
   ]
  },
  {
   "cell_type": "code",
   "execution_count": 14,
   "id": "29d09fb5",
   "metadata": {},
   "outputs": [],
   "source": [
    "### float\n",
    "y=1.6"
   ]
  },
  {
   "cell_type": "code",
   "execution_count": 15,
   "id": "2ad266da",
   "metadata": {},
   "outputs": [
    {
     "data": {
      "text/plain": [
       "float"
      ]
     },
     "execution_count": 15,
     "metadata": {},
     "output_type": "execute_result"
    }
   ],
   "source": [
    "type(y)"
   ]
  },
  {
   "cell_type": "code",
   "execution_count": 16,
   "id": "4742723b",
   "metadata": {},
   "outputs": [
    {
     "data": {
      "text/plain": [
       "19.6"
      ]
     },
     "execution_count": 16,
     "metadata": {},
     "output_type": "execute_result"
    }
   ],
   "source": [
    "# add integer value and float value and check the data type\n",
    "z=x+y\n",
    "z"
   ]
  },
  {
   "cell_type": "code",
   "execution_count": 17,
   "id": "1181198d",
   "metadata": {},
   "outputs": [
    {
     "data": {
      "text/plain": [
       "float"
      ]
     },
     "execution_count": 17,
     "metadata": {},
     "output_type": "execute_result"
    }
   ],
   "source": [
    "type(z)"
   ]
  },
  {
   "cell_type": "code",
   "execution_count": 18,
   "id": "7ac5980b",
   "metadata": {},
   "outputs": [
    {
     "data": {
      "text/plain": [
       "bool"
      ]
     },
     "execution_count": 18,
     "metadata": {},
     "output_type": "execute_result"
    }
   ],
   "source": [
    "### bool\n",
    "B=True\n",
    "type(B)"
   ]
  },
  {
   "cell_type": "code",
   "execution_count": 19,
   "id": "f52c6e89",
   "metadata": {},
   "outputs": [
    {
     "data": {
      "text/plain": [
       "complex"
      ]
     },
     "execution_count": 19,
     "metadata": {},
     "output_type": "execute_result"
    }
   ],
   "source": [
    "### complex\n",
    "C=3+5j\n",
    "type(C)"
   ]
  },
  {
   "cell_type": "code",
   "execution_count": 20,
   "id": "ae67a230",
   "metadata": {},
   "outputs": [
    {
     "data": {
      "text/plain": [
       "str"
      ]
     },
     "execution_count": 20,
     "metadata": {},
     "output_type": "execute_result"
    }
   ],
   "source": [
    "### string\n",
    "S=\"Hello\"\n",
    "type(S)"
   ]
  },
  {
   "cell_type": "code",
   "execution_count": 21,
   "id": "299b39a4",
   "metadata": {},
   "outputs": [
    {
     "ename": "TypeError",
     "evalue": "can only concatenate str (not \"int\") to str",
     "output_type": "error",
     "traceback": [
      "\u001b[1;31m---------------------------------------------------------------------------\u001b[0m",
      "\u001b[1;31mTypeError\u001b[0m                                 Traceback (most recent call last)",
      "\u001b[1;32m~\\AppData\\Local\\Temp/ipykernel_2940/1960233521.py\u001b[0m in \u001b[0;36m<module>\u001b[1;34m\u001b[0m\n\u001b[0;32m      1\u001b[0m \u001b[1;31m### Cannot add intobject to string object\u001b[0m\u001b[1;33m\u001b[0m\u001b[1;33m\u001b[0m\u001b[0m\n\u001b[1;32m----> 2\u001b[1;33m \u001b[0mS\u001b[0m\u001b[1;33m+\u001b[0m\u001b[1;36m5\u001b[0m\u001b[1;33m\u001b[0m\u001b[1;33m\u001b[0m\u001b[0m\n\u001b[0m",
      "\u001b[1;31mTypeError\u001b[0m: can only concatenate str (not \"int\") to str"
     ]
    }
   ],
   "source": [
    "### Cannot add intobject to string object\n",
    "S+5"
   ]
  },
  {
   "cell_type": "code",
   "execution_count": 25,
   "id": "d14e430b",
   "metadata": {},
   "outputs": [
    {
     "name": "stdout",
     "output_type": "stream",
     "text": [
      "10\n",
      "Hello\n",
      "18\n"
     ]
    }
   ],
   "source": [
    "#output\n",
    "print(a)\n",
    "print(S)\n",
    "print(x)"
   ]
  },
  {
   "cell_type": "code",
   "execution_count": 24,
   "id": "5dbd322f",
   "metadata": {},
   "outputs": [
    {
     "data": {
      "text/plain": [
       "18"
      ]
     },
     "execution_count": 24,
     "metadata": {},
     "output_type": "execute_result"
    }
   ],
   "source": [
    "a\n",
    "S\n",
    "x"
   ]
  },
  {
   "cell_type": "code",
   "execution_count": 26,
   "id": "9aa3df85",
   "metadata": {},
   "outputs": [
    {
     "name": "stdout",
     "output_type": "stream",
     "text": [
      "The value of a is 10\n"
     ]
    }
   ],
   "source": [
    "# different formats of output\n",
    "print(\"The value of a is\",a)"
   ]
  },
  {
   "cell_type": "code",
   "execution_count": 27,
   "id": "0c05013e",
   "metadata": {},
   "outputs": [
    {
     "name": "stdout",
     "output_type": "stream",
     "text": [
      "The value of a is 10\n"
     ]
    }
   ],
   "source": [
    "print(\"The value of a is {}\".format(a))"
   ]
  },
  {
   "cell_type": "code",
   "execution_count": 28,
   "id": "76b14aaf",
   "metadata": {},
   "outputs": [
    {
     "name": "stdout",
     "output_type": "stream",
     "text": [
      "welcome\n",
      "to all\n"
     ]
    }
   ],
   "source": [
    "print(\"welcome\")\n",
    "print(\"to all\")"
   ]
  },
  {
   "cell_type": "code",
   "execution_count": 31,
   "id": "a53698e4",
   "metadata": {},
   "outputs": [
    {
     "name": "stdout",
     "output_type": "stream",
     "text": [
      "welcome, to all\n"
     ]
    }
   ],
   "source": [
    "# with end parameter end =''\n",
    "print(\"welcome\",end=', ')\n",
    "print(\"to all\")"
   ]
  },
  {
   "cell_type": "code",
   "execution_count": 32,
   "id": "5e01e829",
   "metadata": {},
   "outputs": [
    {
     "name": "stdout",
     "output_type": "stream",
     "text": [
      "45\n"
     ]
    }
   ],
   "source": [
    "## user input \n",
    "## input() function\n",
    "input1= input()"
   ]
  },
  {
   "cell_type": "code",
   "execution_count": 33,
   "id": "61683ed4",
   "metadata": {},
   "outputs": [
    {
     "data": {
      "text/plain": [
       "str"
      ]
     },
     "execution_count": 33,
     "metadata": {},
     "output_type": "execute_result"
    }
   ],
   "source": [
    "type(input1)"
   ]
  },
  {
   "cell_type": "code",
   "execution_count": null,
   "id": "9dc85c97",
   "metadata": {},
   "outputs": [],
   "source": [
    "# Type casting"
   ]
  },
  {
   "cell_type": "code",
   "execution_count": 34,
   "id": "b3c4c910",
   "metadata": {},
   "outputs": [
    {
     "name": "stdout",
     "output_type": "stream",
     "text": [
      "45\n"
     ]
    }
   ],
   "source": [
    "input1=int(input())"
   ]
  },
  {
   "cell_type": "code",
   "execution_count": 35,
   "id": "80bb8738",
   "metadata": {},
   "outputs": [
    {
     "data": {
      "text/plain": [
       "int"
      ]
     },
     "execution_count": 35,
     "metadata": {},
     "output_type": "execute_result"
    }
   ],
   "source": [
    "type(input1)"
   ]
  },
  {
   "cell_type": "code",
   "execution_count": 36,
   "id": "f234d805",
   "metadata": {},
   "outputs": [
    {
     "name": "stdout",
     "output_type": "stream",
     "text": [
      "3.4\n"
     ]
    }
   ],
   "source": [
    "input2=float(input())"
   ]
  },
  {
   "cell_type": "code",
   "execution_count": 37,
   "id": "be5c9894",
   "metadata": {},
   "outputs": [
    {
     "data": {
      "text/plain": [
       "float"
      ]
     },
     "execution_count": 37,
     "metadata": {},
     "output_type": "execute_result"
    }
   ],
   "source": [
    "type(input2)"
   ]
  },
  {
   "cell_type": "code",
   "execution_count": 38,
   "id": "0fc2a4ba",
   "metadata": {},
   "outputs": [
    {
     "name": "stdout",
     "output_type": "stream",
     "text": [
      "we\n",
      "er\n"
     ]
    }
   ],
   "source": [
    "## multiple inputs\n",
    "input1=input()\n",
    "input2=input()"
   ]
  },
  {
   "cell_type": "code",
   "execution_count": null,
   "id": "a507c8d1",
   "metadata": {},
   "outputs": [],
   "source": [
    "# split() method to write multiple imputs in a single line"
   ]
  },
  {
   "cell_type": "code",
   "execution_count": 39,
   "id": "ef3137ef",
   "metadata": {},
   "outputs": [
    {
     "name": "stdout",
     "output_type": "stream",
     "text": [
      "enter two inputs23 34\n"
     ]
    }
   ],
   "source": [
    "input3=input(\"enter two inputs\").split(' ')"
   ]
  },
  {
   "cell_type": "code",
   "execution_count": 41,
   "id": "10a33b70",
   "metadata": {},
   "outputs": [
    {
     "name": "stdout",
     "output_type": "stream",
     "text": [
      "23 34\n"
     ]
    }
   ],
   "source": [
    "input4=input().split()"
   ]
  },
  {
   "cell_type": "markdown",
   "id": "bde8b7b3",
   "metadata": {},
   "source": [
    "#### type() and id()"
   ]
  },
  {
   "cell_type": "markdown",
   "id": "d1852bc8",
   "metadata": {},
   "source": [
    "The id() function returns a unique id for the specified object.\n",
    "\n",
    "All objects in Python has its own unique id.\n",
    "\n",
    "The id is assigned to the object when it is created.\n",
    "###### syntax: id(object)"
   ]
  },
  {
   "cell_type": "markdown",
   "id": "e0b82a32",
   "metadata": {},
   "source": [
    "id() function returns the identity of the object. type() function returns the type of the object"
   ]
  },
  {
   "cell_type": "code",
   "execution_count": 42,
   "id": "621bf982",
   "metadata": {},
   "outputs": [
    {
     "data": {
      "text/plain": [
       "3033369569872"
      ]
     },
     "execution_count": 42,
     "metadata": {},
     "output_type": "execute_result"
    }
   ],
   "source": [
    "id(a)"
   ]
  },
  {
   "cell_type": "code",
   "execution_count": null,
   "id": "795f2ee1",
   "metadata": {},
   "outputs": [],
   "source": []
  },
  {
   "cell_type": "code",
   "execution_count": null,
   "id": "de269afb",
   "metadata": {},
   "outputs": [],
   "source": [
    "### Hands-on - Exercise"
   ]
  },
  {
   "cell_type": "code",
   "execution_count": 44,
   "id": "18428158",
   "metadata": {},
   "outputs": [
    {
     "name": "stdout",
     "output_type": "stream",
     "text": [
      "23\n",
      "34\n"
     ]
    }
   ],
   "source": [
    "#Accept numbers from a user\n",
    "a1=int(input())\n",
    "a2=int(input())"
   ]
  },
  {
   "cell_type": "code",
   "execution_count": 45,
   "id": "00e2ea90",
   "metadata": {},
   "outputs": [
    {
     "name": "stdout",
     "output_type": "stream",
     "text": [
      "3.45677\n",
      "3.46\n"
     ]
    }
   ],
   "source": [
    "#Display float number with 2 decimal places using print()\n",
    "a3=float(input())\n",
    "print(round(a3,2))"
   ]
  },
  {
   "cell_type": "code",
   "execution_count": 47,
   "id": "2632a029",
   "metadata": {},
   "outputs": [],
   "source": [
    "#Accept a list of 5 float numbers as an input from the user\n"
   ]
  },
  {
   "cell_type": "code",
   "execution_count": 50,
   "id": "0c4944dc",
   "metadata": {},
   "outputs": [
    {
     "name": "stdout",
     "output_type": "stream",
     "text": [
      "enter three strings:hello,welcome,all\n"
     ]
    }
   ],
   "source": [
    "#Accept any three string from one input() call \n",
    "a4=input(\"enter three strings:\" ).split(',')"
   ]
  },
  {
   "cell_type": "code",
   "execution_count": 52,
   "id": "121d2faa",
   "metadata": {},
   "outputs": [
    {
     "name": "stdout",
     "output_type": "stream",
     "text": [
      "['__abs__', '__add__', '__and__', '__bool__', '__ceil__', '__class__', '__delattr__', '__dir__', '__divmod__', '__doc__', '__eq__', '__float__', '__floor__', '__floordiv__', '__format__', '__ge__', '__getattribute__', '__getnewargs__', '__gt__', '__hash__', '__index__', '__init__', '__init_subclass__', '__int__', '__invert__', '__le__', '__lshift__', '__lt__', '__mod__', '__mul__', '__ne__', '__neg__', '__new__', '__or__', '__pos__', '__pow__', '__radd__', '__rand__', '__rdivmod__', '__reduce__', '__reduce_ex__', '__repr__', '__rfloordiv__', '__rlshift__', '__rmod__', '__rmul__', '__ror__', '__round__', '__rpow__', '__rrshift__', '__rshift__', '__rsub__', '__rtruediv__', '__rxor__', '__setattr__', '__sizeof__', '__str__', '__sub__', '__subclasshook__', '__truediv__', '__trunc__', '__xor__', 'as_integer_ratio', 'bit_length', 'conjugate', 'denominator', 'from_bytes', 'imag', 'numerator', 'real', 'to_bytes']\n"
     ]
    }
   ],
   "source": [
    "num=46\n",
    "print(dir(num))"
   ]
  },
  {
   "cell_type": "code",
   "execution_count": 53,
   "id": "914507fc",
   "metadata": {},
   "outputs": [
    {
     "name": "stdout",
     "output_type": "stream",
     "text": [
      "70\n",
      "60\n",
      "130.0\n"
     ]
    }
   ],
   "source": [
    "#Accept two float numbers and find the sum.\n",
    "a5=float(input())\n",
    "a6=float(input())\n",
    "print(a5+a6)"
   ]
  },
  {
   "cell_type": "code",
   "execution_count": null,
   "id": "0397e5a8",
   "metadata": {},
   "outputs": [],
   "source": [
    "# Get two inputs in a single line by using user input function\n",
    "a7=input().split(' ')"
   ]
  },
  {
   "cell_type": "code",
   "execution_count": null,
   "id": "c4c26471",
   "metadata": {},
   "outputs": [],
   "source": [
    "#Make a Python program that prints your name.\n",
    "print(\" \")"
   ]
  },
  {
   "cell_type": "code",
   "execution_count": 55,
   "id": "914c0a7d",
   "metadata": {},
   "outputs": [
    {
     "name": "stdout",
     "output_type": "stream",
     "text": [
      "6\n",
      "8\n",
      "10\n"
     ]
    }
   ],
   "source": [
    "# Make a program that displays several numbers.\n",
    "a=6;b=8;c=10\n",
    "print(a);print(b);print(c)"
   ]
  },
  {
   "cell_type": "code",
   "execution_count": 57,
   "id": "3ed3dd45",
   "metadata": {},
   "outputs": [
    {
     "name": "stdout",
     "output_type": "stream",
     "text": [
      "64\n",
      "32\n",
      "96\n"
     ]
    }
   ],
   "source": [
    "# Make a program that solves and shows the summation of 64 + 32\n",
    "a8=int(input())\n",
    "a9=int(input())\n",
    "print(a8+a9)"
   ]
  },
  {
   "cell_type": "code",
   "execution_count": 58,
   "id": "0b9bee9c",
   "metadata": {},
   "outputs": [
    {
     "name": "stdout",
     "output_type": "stream",
     "text": [
      "lucky\n"
     ]
    }
   ],
   "source": [
    "#Try to print the word ‘lucky’ inside s\n",
    "s=\"lucky\"\n",
    "print(s)"
   ]
  },
  {
   "cell_type": "code",
   "execution_count": 60,
   "id": "18486a47",
   "metadata": {},
   "outputs": [
    {
     "name": "stdout",
     "output_type": "stream",
     "text": [
      "prefered language Python\n"
     ]
    }
   ],
   "source": [
    "# Make a program that asks the users preferred programming language.\n",
    "prog=input(\"prefered language \")"
   ]
  },
  {
   "cell_type": "code",
   "execution_count": 61,
   "id": "13d3aa5a",
   "metadata": {},
   "outputs": [
    {
     "name": "stdout",
     "output_type": "stream",
     "text": [
      "123\n"
     ]
    },
    {
     "data": {
      "text/plain": [
       "'1231'"
      ]
     },
     "execution_count": 61,
     "metadata": {},
     "output_type": "execute_result"
    }
   ],
   "source": [
    "# Get string object '123' from user input function and add value 1.\n",
    "a10=input()\n",
    "a10+\"1\"\n",
    "# a10+str(1)"
   ]
  },
  {
   "cell_type": "code",
   "execution_count": null,
   "id": "369df9b9",
   "metadata": {},
   "outputs": [],
   "source": []
  }
 ],
 "metadata": {
  "kernelspec": {
   "display_name": "Python 3 (ipykernel)",
   "language": "python",
   "name": "python3"
  },
  "language_info": {
   "codemirror_mode": {
    "name": "ipython",
    "version": 3
   },
   "file_extension": ".py",
   "mimetype": "text/x-python",
   "name": "python",
   "nbconvert_exporter": "python",
   "pygments_lexer": "ipython3",
   "version": "3.9.7"
  }
 },
 "nbformat": 4,
 "nbformat_minor": 5
}
