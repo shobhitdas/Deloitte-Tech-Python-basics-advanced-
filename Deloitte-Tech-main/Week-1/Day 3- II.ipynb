{
 "cells": [
  {
   "cell_type": "code",
   "execution_count": null,
   "id": "5fb80eaf",
   "metadata": {},
   "outputs": [],
   "source": [
    "### Loops\n",
    "     \n",
    "        - For loop\n",
    "        \n",
    "        - While loop\n",
    "        \n",
    "        - control statements\n",
    "\n",
    "### Functions\n",
    "\n",
    "        - Introduction\n",
    "    \n",
    "        - Types of functions\n",
    "        \n",
    "        - Function arguments\n",
    "        \n",
    "        - keyword arguments\n",
    "        \n",
    "        - Generators\n",
    "        \n",
    "    "
   ]
  },
  {
   "cell_type": "markdown",
   "id": "5088b525",
   "metadata": {},
   "source": [
    "#### Loops\n",
    "  - For loop"
   ]
  },
  {
   "attachments": {
    "forLoop.webp": {
     "image/webp": "[encoded data removed]"
    }
   },
   "cell_type": "markdown",
   "id": "0bac99a7",
   "metadata": {},
   "source": [
    "The for loop in Python is used to iterate over a sequence (list, tuple, string) or other iterable objects. Iterating over a sequence is called traversal.\n",
    "Loop continues until we reach the last item in the sequence. The body of for loop is separated from the rest of the code using indentation![forLoop.webp](attachment:forLoop.webp)"
   ]
  },
  {
   "cell_type": "code",
   "execution_count": null,
   "id": "9f6a76c5",
   "metadata": {},
   "outputs": [],
   "source": [
    "### For loop\n",
    "#syntax: for i in iterbale:\n",
    "             #statements"
   ]
  },
  {
   "cell_type": "code",
   "execution_count": 1,
   "id": "6337a822",
   "metadata": {},
   "outputs": [
    {
     "name": "stdout",
     "output_type": "stream",
     "text": [
      "\n",
      "String Iteration\n",
      "J\n",
      "i\n",
      "g\n",
      "s\n",
      "a\n",
      "w\n"
     ]
    }
   ],
   "source": [
    "# Iterating over a String\n",
    "print(\"\\nString Iteration\")   \n",
    "s = \"Jigsaw\"\n",
    "for i in s :\n",
    "    print(i)"
   ]
  },
  {
   "cell_type": "markdown",
   "id": "1056dc5a",
   "metadata": {},
   "source": [
    "#### The range() function\n",
    "We can generate a sequence of numbers using range() function"
   ]
  },
  {
   "cell_type": "code",
   "execution_count": 2,
   "id": "91b475d3",
   "metadata": {},
   "outputs": [
    {
     "name": "stdout",
     "output_type": "stream",
     "text": [
      "0\n",
      "1\n",
      "2\n",
      "3\n"
     ]
    }
   ],
   "source": [
    "# Iterating over range 0 to n-1\n",
    " \n",
    "n = 4\n",
    "for i in range(n):\n",
    "    print(i)"
   ]
  },
  {
   "cell_type": "code",
   "execution_count": 3,
   "id": "de9a5f5c",
   "metadata": {},
   "outputs": [
    {
     "name": "stdout",
     "output_type": "stream",
     "text": [
      "W\n",
      "o\n",
      "r\n",
      "l\n",
      "d\n"
     ]
    }
   ],
   "source": [
    "# Use the string index number to loop through the string\n",
    "t = 'World'\n",
    "\n",
    "for i in range(len(t)):                   # range() takes 0 to len(t)\n",
    "    print(t[i])"
   ]
  },
  {
   "attachments": {
    "whileLoopFlowchart.webp": {
     "image/webp": "[encoded data removed]"
    }
   },
   "cell_type": "markdown",
   "id": "ec717bb4",
   "metadata": {},
   "source": [
    "#### while loop\n",
    "\n",
    "The while loop in Python is used to iterate over a block of code as long as the test expression (condition) is true.\n",
    "\n",
    "##### syntax: while expression:\n",
    "             #statements\n",
    "![whileLoopFlowchart.webp](attachment:whileLoopFlowchart.webp)"
   ]
  },
  {
   "cell_type": "code",
   "execution_count": null,
   "id": "1d7be26d",
   "metadata": {},
   "outputs": [],
   "source": [
    "# print 'Hello'3 times\n",
    "count=0\n",
    "while (count<3):\n",
    "    count=count+1\n",
    "    print(\"Hello\")"
   ]
  },
  {
   "cell_type": "code",
   "execution_count": 4,
   "id": "1a4a431c",
   "metadata": {},
   "outputs": [
    {
     "name": "stdout",
     "output_type": "stream",
     "text": [
      "The sum is 55\n"
     ]
    }
   ],
   "source": [
    "# Program to add natural\n",
    "# numbers up to n\n",
    "# sum = 1+2+3+...+n\n",
    "\n",
    "# To take input from the user,\n",
    "# n = int(input(\"Enter n: \"))\n",
    "\n",
    "n = 10\n",
    "\n",
    "# initialize sum and counter\n",
    "sum = 0\n",
    "i = 1\n",
    "\n",
    "while i <= n:\n",
    "    sum = sum + i\n",
    "    i = i+1    # update counter\n",
    "\n",
    "# print the sum\n",
    "print(\"The sum is\", sum)"
   ]
  },
  {
   "cell_type": "code",
   "execution_count": 5,
   "id": "5bdc1e68",
   "metadata": {},
   "outputs": [
    {
     "name": "stdout",
     "output_type": "stream",
     "text": [
      "55\n"
     ]
    }
   ],
   "source": [
    "n=10\n",
    "sum=0\n",
    "i=1\n",
    "for i in range(11):\n",
    "    sum=sum+i\n",
    "    i=i+1\n",
    "print(sum)\n",
    "\n"
   ]
  },
  {
   "cell_type": "markdown",
   "id": "2cfc8124",
   "metadata": {},
   "source": [
    "### Control statements (Continue, break and pass)\n",
    "Control statements in python are used to control the order of execution of the program based on the values and logic\n",
    "\n",
    "1) Break Statement:\n",
    "The break statement is used to terminate the loop containing it, the control of the program will come out of that loop.\n",
    "\n",
    "2) Continue Statement:\n",
    "When the program encounters a continue statement, it will skip the statements which are present after the continue statement inside the loop and proceed with the next iterations.\n",
    "\n",
    "3) Pass Statement:\n",
    "Pass statement is python is a null operation, which is used when the statement is required syntactically"
   ]
  },
  {
   "cell_type": "code",
   "execution_count": 6,
   "id": "45da8137",
   "metadata": {},
   "outputs": [
    {
     "name": "stdout",
     "output_type": "stream",
     "text": [
      "J\n",
      "i\n",
      "g\n",
      "s\n",
      "a\n",
      "out of for loop\n"
     ]
    }
   ],
   "source": [
    "# break\n",
    "# stop the iteration when letter is 'a' or 'e'\n",
    "s='Jigsaw-Unext'\n",
    "for letter in s:\n",
    "    print(letter)\n",
    "    if letter == 'a' or letter=='e':\n",
    "        break\n",
    "print('out of for loop')"
   ]
  },
  {
   "cell_type": "code",
   "execution_count": null,
   "id": "d1303c97",
   "metadata": {},
   "outputs": [],
   "source": [
    "# while loop\n",
    "i=0\n",
    "while True:\n",
    "    print(s[i])\n",
    "    if s[i] == 'a'or s[i]=='e':\n",
    "        break\n",
    "    i+=1\n",
    "print('out of while loop')"
   ]
  },
  {
   "cell_type": "markdown",
   "id": "ec25a099",
   "metadata": {},
   "source": [
    "##### continue statement"
   ]
  },
  {
   "cell_type": "code",
   "execution_count": 7,
   "id": "41435395",
   "metadata": {},
   "outputs": [
    {
     "name": "stdout",
     "output_type": "stream",
     "text": [
      "1 2 3 4 5 7 8 9 10 "
     ]
    }
   ],
   "source": [
    "\n",
    "for i in range(1,11):\n",
    "    # if i==6, then continue to next iteration without printing\n",
    "    if i==6:\n",
    "        continue\n",
    "    else:\n",
    "        print(i , end=\" \")"
   ]
  },
  {
   "cell_type": "code",
   "execution_count": 8,
   "id": "ba21757b",
   "metadata": {},
   "outputs": [],
   "source": [
    "#### pass statment\n",
    "### null statement\n",
    "# pass statement can be used in empty functions\n",
    "def newfunction():\n",
    "    pass"
   ]
  },
  {
   "cell_type": "code",
   "execution_count": 9,
   "id": "3f36e2e5",
   "metadata": {},
   "outputs": [],
   "source": [
    "# pass statement can be used in empty class\n",
    "class gk:\n",
    "    pass"
   ]
  },
  {
   "cell_type": "code",
   "execution_count": 10,
   "id": "789a2c9b",
   "metadata": {},
   "outputs": [],
   "source": [
    "#pass statement can be used in for loop\n",
    "n=10\n",
    "for i in range(n):\n",
    "    pass"
   ]
  },
  {
   "cell_type": "markdown",
   "id": "6b1e8ec3",
   "metadata": {},
   "source": [
    "### Functions"
   ]
  },
  {
   "cell_type": "markdown",
   "id": "8a6762e7",
   "metadata": {},
   "source": [
    "In Python, a function is a group of related statements that performs a specific task.\n",
    "\n",
    "Functions help break our program into smaller and modular chunks. As our program grows larger and larger, functions make it more organized and manageable."
   ]
  },
  {
   "cell_type": "markdown",
   "id": "9b0aa6b5",
   "metadata": {},
   "source": [
    "#### Function arguments\n",
    "Information can be passed into functions as arguments. Arguments are specified after the function name, inside the parentheses. You can add as many arguments.\n",
    "A parameter is the variable listed inside the parentheses in the function definition. An argument is the value that are sent to the function when it is called."
   ]
  },
  {
   "cell_type": "markdown",
   "id": "bef75d91",
   "metadata": {},
   "source": [
    "- user defined function\n",
    "\n",
    "- built -in - function\n",
    "\n",
    "- Anonymous function (lambda function)"
   ]
  },
  {
   "cell_type": "raw",
   "id": "246cbcbd",
   "metadata": {},
   "source": [
    "##### user defined function\n",
    "def function_name(parameters):\n",
    "\t\"\"\"docstring\"\"\"\n",
    "\tstatement(s)"
   ]
  },
  {
   "cell_type": "code",
   "execution_count": 11,
   "id": "da9770b8",
   "metadata": {},
   "outputs": [],
   "source": [
    "def fun():\n",
    "    print(\"welcome to the Program\")"
   ]
  },
  {
   "cell_type": "code",
   "execution_count": 12,
   "id": "3a421541",
   "metadata": {},
   "outputs": [
    {
     "name": "stdout",
     "output_type": "stream",
     "text": [
      "welcome to the Program\n"
     ]
    }
   ],
   "source": [
    "fun()"
   ]
  },
  {
   "cell_type": "code",
   "execution_count": 13,
   "id": "51415fa7",
   "metadata": {},
   "outputs": [],
   "source": [
    "def square(x):\n",
    "    return x**2"
   ]
  },
  {
   "cell_type": "code",
   "execution_count": 14,
   "id": "563a2a51",
   "metadata": {},
   "outputs": [
    {
     "data": {
      "text/plain": [
       "16"
      ]
     },
     "execution_count": 14,
     "metadata": {},
     "output_type": "execute_result"
    }
   ],
   "source": [
    "square(4)"
   ]
  },
  {
   "cell_type": "code",
   "execution_count": 15,
   "id": "57b9c676",
   "metadata": {},
   "outputs": [],
   "source": [
    "# define a function to check whether given number is even or odd\n",
    "def evenodd(x):\n",
    "    if (x%2==0):\n",
    "        print(\"even\")\n",
    "    else:\n",
    "        print(\"odd\")"
   ]
  },
  {
   "cell_type": "code",
   "execution_count": 16,
   "id": "66f20eda",
   "metadata": {},
   "outputs": [
    {
     "name": "stdout",
     "output_type": "stream",
     "text": [
      "odd\n"
     ]
    }
   ],
   "source": [
    "evenodd(5)"
   ]
  },
  {
   "cell_type": "code",
   "execution_count": 17,
   "id": "b3c2d0ed",
   "metadata": {},
   "outputs": [],
   "source": [
    "# with default arguments\n",
    "def myfunc(x,y=50):\n",
    "    print(x)\n",
    "    print(y)"
   ]
  },
  {
   "cell_type": "code",
   "execution_count": 18,
   "id": "f04bfc99",
   "metadata": {},
   "outputs": [
    {
     "name": "stdout",
     "output_type": "stream",
     "text": [
      "5\n",
      "50\n"
     ]
    }
   ],
   "source": [
    "myfunc(5)"
   ]
  },
  {
   "cell_type": "code",
   "execution_count": null,
   "id": "226d4977",
   "metadata": {},
   "outputs": [],
   "source": [
    "def myfunc(x,y=50):\n",
    "    return x+y"
   ]
  },
  {
   "cell_type": "code",
   "execution_count": null,
   "id": "5f677dca",
   "metadata": {},
   "outputs": [],
   "source": [
    "myfunc(40)"
   ]
  },
  {
   "cell_type": "code",
   "execution_count": 19,
   "id": "3888dd45",
   "metadata": {},
   "outputs": [
    {
     "name": "stdout",
     "output_type": "stream",
     "text": [
      "hello sheetal welcome\n"
     ]
    }
   ],
   "source": [
    "def fun2(name,msg='welcome'):\n",
    "    print('hello',name,msg)\n",
    "fun2(\"sheetal\")"
   ]
  },
  {
   "cell_type": "code",
   "execution_count": null,
   "id": "ffd5bfcf",
   "metadata": {},
   "outputs": [],
   "source": [
    "### Built in functions\n",
    "type(), print(), min(), max(),len()......"
   ]
  },
  {
   "cell_type": "markdown",
   "id": "f4662b37",
   "metadata": {},
   "source": [
    "##### Anonymous function: Lambda function"
   ]
  },
  {
   "cell_type": "code",
   "execution_count": 20,
   "id": "bcbc91ef",
   "metadata": {},
   "outputs": [],
   "source": [
    "# syntax: lambda arguments:expression\n",
    "square1=lambda x:x**2"
   ]
  },
  {
   "cell_type": "code",
   "execution_count": 21,
   "id": "6d3f657f",
   "metadata": {},
   "outputs": [
    {
     "data": {
      "text/plain": [
       "9"
      ]
     },
     "execution_count": 21,
     "metadata": {},
     "output_type": "execute_result"
    }
   ],
   "source": [
    "square1(3)"
   ]
  },
  {
   "cell_type": "code",
   "execution_count": null,
   "id": "5ba69ec8",
   "metadata": {},
   "outputs": [],
   "source": [
    "sum1=lambda x,y:x+y"
   ]
  },
  {
   "cell_type": "code",
   "execution_count": null,
   "id": "8caeee13",
   "metadata": {},
   "outputs": [],
   "source": [
    "sum1(2,3)"
   ]
  },
  {
   "attachments": {
    "keyword-300x176.png": {
     "image/png": "[encoded data removed]"
    }
   },
   "cell_type": "markdown",
   "id": "4a11e986",
   "metadata": {},
   "source": [
    "#### Keyword arguments\n",
    "Keyword arguments (or named arguments) are values that, when passed into a function, are identifiable by specific parameter names. A keyword argument is preceded by a parameter and the assignment operator, = .![keyword-300x176.png](attachment:keyword-300x176.png)"
   ]
  },
  {
   "cell_type": "markdown",
   "id": "19e11ce8",
   "metadata": {},
   "source": [
    "The special syntax *args in function definitions in python is used to pass a variable number of arguments to a function. It is used to pass a non-key worded, variable-length argument list. "
   ]
  },
  {
   "cell_type": "code",
   "execution_count": 22,
   "id": "289df84c",
   "metadata": {},
   "outputs": [
    {
     "name": "stdout",
     "output_type": "stream",
     "text": [
      "Hello\n",
      "Welcome\n",
      "to\n",
      "Jigsaw\n"
     ]
    }
   ],
   "source": [
    "#Python program to illustrate *args for a variable number of arguments\n",
    "def myFun(*args):\n",
    "    for arg in args:\n",
    "        print(arg)\n",
    "  \n",
    "  \n",
    "myFun('Hello', 'Welcome', 'to', 'Jigsaw')"
   ]
  },
  {
   "cell_type": "code",
   "execution_count": null,
   "id": "a166c33a",
   "metadata": {},
   "outputs": [],
   "source": [
    "#Python program to illustrate *args with a first extra argument\n",
    "def myFun(arg1, *args):\n",
    "    print(\"First argument :\", arg1)\n",
    "    for arg in args:\n",
    "        print(\"Next argument through *argv :\", arg)\n",
    "  \n",
    "  \n",
    "myFun('Hello', 'Welcome', 'to', 'Jigsaw')"
   ]
  },
  {
   "cell_type": "raw",
   "id": "21f73c7a",
   "metadata": {},
   "source": [
    "The special syntax **kwargs in function definitions in python is used to pass a keyworded, variable-length argument list. We use the name kwargs with the double star. The reason is that the double star allows us to pass through keyword arguments (and any number of them)."
   ]
  },
  {
   "cell_type": "code",
   "execution_count": null,
   "id": "7a1ff151",
   "metadata": {},
   "outputs": [],
   "source": [
    "#Python program to illustrate *kwargs for a variable number of keyword arguments.\n",
    "def myFun(**kwargs):\n",
    "    for key, value in kwargs.items():\n",
    "        print((key, value))\n",
    "  \n",
    "  \n",
    "# Driver code\n",
    "myFun(first='Hi', mid='welcome', last='all')"
   ]
  },
  {
   "cell_type": "code",
   "execution_count": null,
   "id": "9570780c",
   "metadata": {},
   "outputs": [],
   "source": [
    "#Python program to illustrate  **kwargs for a variable number of keyword arguments with one extra argument.\n",
    "def myFun(arg1, **kwargs):\n",
    "    for key, value in kwargs.items():\n",
    "        print((key, value))\n",
    "  \n",
    "  \n",
    "# Driver code\n",
    "myFun(\"Hi\", first='welcome', mid='to', last='Program')"
   ]
  },
  {
   "cell_type": "code",
   "execution_count": null,
   "id": "9f49fedd",
   "metadata": {},
   "outputs": [],
   "source": [
    "#Using both *args and **kwargs to call a function\n",
    "def myFun(arg1, arg2, arg3):\n",
    "    print(\"arg1:\", arg1)\n",
    "    print(\"arg2:\", arg2)\n",
    "    print(\"arg3:\", arg3)\n",
    "  \n",
    "  \n",
    "# Now we can use *args or **kwargs to\n",
    "# pass arguments to this function :\n",
    "args = (\"Geeks\", \"for\", \"Geeks\")\n",
    "myFun(*args)\n",
    "  \n",
    "kwargs = {\"arg1\": \"Geeks\", \"arg2\": \"for\", \"arg3\": \"Geeks\"}\n",
    "myFun(**kwargs)"
   ]
  },
  {
   "cell_type": "markdown",
   "id": "e6046430",
   "metadata": {},
   "source": [
    "#### Generators\n",
    "\n",
    "- Generator function\n",
    "- Generator object"
   ]
  },
  {
   "cell_type": "markdown",
   "id": "abeb31ed",
   "metadata": {},
   "source": [
    "Generator-Function : A generator-function is defined like a normal function, but whenever it needs to generate a value, it does so with the yield keyword rather than return. If the body of a def contains yield, the function automatically becomes a generator function.\n",
    "\n",
    "Generator-Object : Generator functions return a generator object. Generator objects are used either by calling the next method on the generator object or using the generator object in a “for in” loop."
   ]
  },
  {
   "cell_type": "code",
   "execution_count": 27,
   "id": "7f120814",
   "metadata": {},
   "outputs": [
    {
     "name": "stdout",
     "output_type": "stream",
     "text": [
      "1\n",
      "2\n",
      "3\n"
     ]
    }
   ],
   "source": [
    "def simpleGeneratorFun():\n",
    "    yield 1            \n",
    "    yield 2            \n",
    "    yield 3            \n",
    "   \n",
    "# Driver code to check above generator function\n",
    "for value in simpleGeneratorFun(): \n",
    "    print(value)"
   ]
  },
  {
   "cell_type": "code",
   "execution_count": 28,
   "id": "93b4feea",
   "metadata": {},
   "outputs": [
    {
     "data": {
      "text/plain": [
       "1"
      ]
     },
     "execution_count": 28,
     "metadata": {},
     "output_type": "execute_result"
    }
   ],
   "source": [
    "y=simpleGeneratorFun()\n",
    "next(y)"
   ]
  },
  {
   "cell_type": "code",
   "execution_count": 31,
   "id": "c8405b6a",
   "metadata": {},
   "outputs": [
    {
     "name": "stdout",
     "output_type": "stream",
     "text": [
      "<generator object simpleGeneratorFun at 0x000002668B57B3C0>\n"
     ]
    }
   ],
   "source": [
    "simpleGeneratorFun()"
   ]
  },
  {
   "cell_type": "code",
   "execution_count": 29,
   "id": "a565e1ce",
   "metadata": {},
   "outputs": [
    {
     "data": {
      "text/plain": [
       "2"
      ]
     },
     "execution_count": 29,
     "metadata": {},
     "output_type": "execute_result"
    }
   ],
   "source": [
    "next(y)"
   ]
  },
  {
   "cell_type": "code",
   "execution_count": 25,
   "id": "bc75795a",
   "metadata": {},
   "outputs": [
    {
     "name": "stdout",
     "output_type": "stream",
     "text": [
      "[1, 2, 3]\n"
     ]
    }
   ],
   "source": [
    "x=simpleGeneratorFun()\n",
    "print(list(x))"
   ]
  },
  {
   "cell_type": "code",
   "execution_count": 32,
   "id": "086c7b5f",
   "metadata": {},
   "outputs": [],
   "source": [
    "def mygenerator():\n",
    "    print('First item')\n",
    "    yield 10\n",
    "\n",
    "    print('Second item')\n",
    "    yield 20\n",
    "\n",
    "    print('Last item')\n",
    "    yield 30"
   ]
  },
  {
   "cell_type": "code",
   "execution_count": 33,
   "id": "01bffd0e",
   "metadata": {},
   "outputs": [
    {
     "name": "stdout",
     "output_type": "stream",
     "text": [
      "First item\n"
     ]
    },
    {
     "data": {
      "text/plain": [
       "10"
      ]
     },
     "execution_count": 33,
     "metadata": {},
     "output_type": "execute_result"
    }
   ],
   "source": [
    "new1=mygenerator()\n",
    "next(new1)"
   ]
  },
  {
   "cell_type": "markdown",
   "id": "fb7a4c03",
   "metadata": {},
   "source": [
    "##### Note:\n",
    "The generator function cannot include the return keyword. If you include it, then it will terminate the function. The difference between yield and return is that yield returns a value and pauses the execution while maintaining the internal states, whereas the return statement returns a value and terminates the execution of the function."
   ]
  },
  {
   "cell_type": "code",
   "execution_count": 34,
   "id": "5dc4f281",
   "metadata": {},
   "outputs": [],
   "source": [
    "def mygenerator():\n",
    "    print('First item')\n",
    "    yield 10\n",
    "\n",
    "    return\n",
    "\n",
    "    print('Second item')\n",
    "    yield 20\n",
    "\n",
    "    print('Last item')\n",
    "    yield 30"
   ]
  },
  {
   "cell_type": "code",
   "execution_count": 35,
   "id": "c595d0a7",
   "metadata": {},
   "outputs": [
    {
     "name": "stdout",
     "output_type": "stream",
     "text": [
      "First item\n"
     ]
    },
    {
     "data": {
      "text/plain": [
       "10"
      ]
     },
     "execution_count": 35,
     "metadata": {},
     "output_type": "execute_result"
    }
   ],
   "source": [
    "gen=mygenerator()\n",
    "next(gen)"
   ]
  },
  {
   "cell_type": "code",
   "execution_count": 36,
   "id": "a871db8d",
   "metadata": {},
   "outputs": [
    {
     "ename": "StopIteration",
     "evalue": "",
     "output_type": "error",
     "traceback": [
      "\u001b[1;31m---------------------------------------------------------------------------\u001b[0m",
      "\u001b[1;31mStopIteration\u001b[0m                             Traceback (most recent call last)",
      "\u001b[1;32m~\\AppData\\Local\\Temp/ipykernel_14916/4293081279.py\u001b[0m in \u001b[0;36m<module>\u001b[1;34m\u001b[0m\n\u001b[1;32m----> 1\u001b[1;33m \u001b[0mnext\u001b[0m\u001b[1;33m(\u001b[0m\u001b[0mgen\u001b[0m\u001b[1;33m)\u001b[0m\u001b[1;33m\u001b[0m\u001b[1;33m\u001b[0m\u001b[0m\n\u001b[0m",
      "\u001b[1;31mStopIteration\u001b[0m: "
     ]
    }
   ],
   "source": [
    "next(gen)"
   ]
  },
  {
   "cell_type": "code",
   "execution_count": 37,
   "id": "9febb479",
   "metadata": {},
   "outputs": [
    {
     "name": "stdout",
     "output_type": "stream",
     "text": [
      "First item\n",
      "[10]\n"
     ]
    }
   ],
   "source": [
    "y=mygenerator()\n",
    "print(list(y))"
   ]
  },
  {
   "cell_type": "code",
   "execution_count": null,
   "id": "ce432875",
   "metadata": {},
   "outputs": [],
   "source": [
    "#Use For Loop with Generator Function\n",
    "def get_sequence_upto(x):\n",
    "    for i in range(x):\n",
    "        yield i"
   ]
  },
  {
   "cell_type": "code",
   "execution_count": null,
   "id": "a1fdfee3",
   "metadata": {},
   "outputs": [],
   "source": [
    "seq = get_sequence_upto(5) \n",
    "next(seq)"
   ]
  },
  {
   "cell_type": "code",
   "execution_count": 38,
   "id": "245b77e7",
   "metadata": {},
   "outputs": [],
   "source": [
    "# square of sequence of values\n",
    "def square_of_sequence(x):\n",
    "    for i in range(x):\n",
    "        yield i*i   "
   ]
  },
  {
   "cell_type": "code",
   "execution_count": 39,
   "id": "7bdedf9b",
   "metadata": {},
   "outputs": [
    {
     "name": "stdout",
     "output_type": "stream",
     "text": [
      "0\n",
      "1\n"
     ]
    }
   ],
   "source": [
    "s=square_of_sequence(4)\n",
    "print(next(s))\n",
    "print(next(s))"
   ]
  },
  {
   "cell_type": "code",
   "execution_count": null,
   "id": "dccf28e5",
   "metadata": {},
   "outputs": [],
   "source": [
    "def simpleGeneratorFun():\n",
    "    yield 1\n",
    "    yield 2\n",
    "    yield 3\n",
    "#### Generator Object\n",
    "x=simpleGeneratorFun()\n",
    "# x is a generator object\n",
    "#list()\n",
    "#next()"
   ]
  }
 ],
 "metadata": {
  "kernelspec": {
   "display_name": "Python 3 (ipykernel)",
   "language": "python",
   "name": "python3"
  },
  "language_info": {
   "codemirror_mode": {
    "name": "ipython",
    "version": 3
   },
   "file_extension": ".py",
   "mimetype": "text/x-python",
   "name": "python",
   "nbconvert_exporter": "python",
   "pygments_lexer": "ipython3",
   "version": "3.9.7"
  }
 },
 "nbformat": 4,
 "nbformat_minor": 5
}
