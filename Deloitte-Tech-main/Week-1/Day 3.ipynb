{
 "cells": [
  {
   "cell_type": "markdown",
   "id": "1bb3753a",
   "metadata": {},
   "source": [
    "### Conditional Statements \n",
    "\n",
    "                - if, if else, elif,nested if\n",
    "\n",
    "### Operators\n",
    "\n",
    "                - Arithmetic \n",
    "                \n",
    "                - Bitwise\n",
    "                \n",
    "                - Boolean/Logical\n",
    "                \n",
    "                - Relational\n",
    "                \n",
    "                - Operators precedence\n"
   ]
  },
  {
   "cell_type": "markdown",
   "id": "22c0c811",
   "metadata": {},
   "source": [
    "### Conditional Statements\n",
    "\n",
    "#1) if statements\n",
    "\n",
    "#2) if-else statements\n",
    "\n",
    "#3) elif statements\n",
    "\n",
    "#4) Nested if-else statements"
   ]
  },
  {
   "attachments": {
    "if_statement_flowchart.webp": {
     "image/webp": "[encoded data removed]"
    }
   },
   "cell_type": "markdown",
   "id": "4fe8d8d6",
   "metadata": {},
   "source": [
    "Python if statement is one of the most commonly used conditional statements in programming languages. It decides whether certain statements need to be executed or not. It checks for a given condition, if the condition is true, then the set of code present inside the ” if ” block will be executed otherwise not.\n",
    "\n",
    "#syntax: if condition:\n",
    "             ## statements\n",
    "             ![if_statement_flowchart.webp](attachment:if_statement_flowchart.webp)"
   ]
  },
  {
   "cell_type": "code",
   "execution_count": null,
   "id": "3c4c78d2",
   "metadata": {},
   "outputs": [],
   "source": [
    "#1. Check the given number is less than 15 or not.\n",
    "num=int(input())\n",
    "if num<15:\n",
    "    print(num,'is less than 15')\n",
    "print('exit')\n"
   ]
  },
  {
   "cell_type": "code",
   "execution_count": null,
   "id": "40169591",
   "metadata": {},
   "outputs": [],
   "source": [
    "#2.If the number is positive, then print an appropriate message\n",
    "n=18\n",
    "if n>0:\n",
    "    print(n, 'is positive number')"
   ]
  },
  {
   "cell_type": "markdown",
   "id": "46f4263f",
   "metadata": {},
   "source": [
    "##### if-else statement \n",
    "evaluates the Boolean expression. If the condition is TRUE then, the code present in the “ if “ block will be executed otherwise the code of the “else“ block will be executed"
   ]
  },
  {
   "attachments": {
    "if-else_statement_flowchart.webp": {
     "image/webp": "[encoded data removed]"
    }
   },
   "cell_type": "markdown",
   "id": "7f8adb16",
   "metadata": {},
   "source": [
    "Syntax:\n",
    "\n",
    "If (EXPRESSION == TRUE):\n",
    "\n",
    "        Statement (Body of the block)\n",
    "        \n",
    "else:\n",
    "\n",
    "        Statement (Body of the block)\n",
    "![if-else_statement_flowchart.webp](attachment:if-else_statement_flowchart.webp)"
   ]
  },
  {
   "cell_type": "code",
   "execution_count": null,
   "id": "84504e23",
   "metadata": {},
   "outputs": [],
   "source": [
    "# Program checks if the number is positive or negative\n",
    "# And displays an appropriate message\n",
    "num=int(input())\n",
    "if num>0:\n",
    "    print(num,'is positive')\n",
    "else:\n",
    "    print(num,'is negative')"
   ]
  },
  {
   "cell_type": "code",
   "execution_count": null,
   "id": "ef2a41f9",
   "metadata": {},
   "outputs": [],
   "source": [
    "# Try these two variations as well. \n",
    "# num = -5\n",
    "# num = 0"
   ]
  },
  {
   "cell_type": "code",
   "execution_count": null,
   "id": "894fd4df",
   "metadata": {},
   "outputs": [],
   "source": [
    "## Check whether given number is even or odd (%)num%2=0\n",
    "num=int(input())\n",
    "if num%2==0:\n",
    "    print(num, 'is even')\n",
    "else:\n",
    "    print(num,'is odd')"
   ]
  },
  {
   "attachments": {
    "Python_if_elif_else_statement.webp": {
     "image/webp": "[encoded data removed]"
    }
   },
   "cell_type": "markdown",
   "id": "e367072b",
   "metadata": {},
   "source": [
    "#### elif statements\n",
    " “elif” statement is used to check multiple conditions only if the given condition is false. It’s similar to an “if-else” statement and the only difference is that in “else” we will not check the condition but in “elif” we will check the condition.\n",
    " \n",
    " Syntax:\n",
    "\n",
    "if (condition):\n",
    "\n",
    "            #Set of statement to execute if condition is true\n",
    "            \n",
    "elif (condition):\n",
    "\n",
    "            #Set of statements to be executed when if condition is false and elif condition is true\n",
    "else:\n",
    "\n",
    "       #Set of statement to be executed when both if and elif conditions are false\n",
    " ![Python_if_elif_else_statement.webp](attachment:Python_if_elif_else_statement.webp)"
   ]
  },
  {
   "cell_type": "code",
   "execution_count": null,
   "id": "11f856b2",
   "metadata": {},
   "outputs": [],
   "source": [
    "'''check if the number is positive or\n",
    "negative or zero and \n",
    "display an appropriate message'''\n"
   ]
  },
  {
   "cell_type": "code",
   "execution_count": null,
   "id": "c77376da",
   "metadata": {},
   "outputs": [],
   "source": [
    "num =-9\n",
    "\n",
    "# Try these two variations as well:\n",
    "# num = 0\n",
    "# num = -4.5\n",
    "\n",
    "if num>0:\n",
    "    print('positive')\n",
    "elif num==0:\n",
    "    print('zero')\n",
    "else:\n",
    "    print('negative')"
   ]
  },
  {
   "cell_type": "markdown",
   "id": "917eaf46",
   "metadata": {},
   "source": [
    "check if the given score is greater than 80 then print 'distinction' if the score is between 60 and 80 then print 'First class' or print 'Pass'."
   ]
  },
  {
   "cell_type": "code",
   "execution_count": null,
   "id": "75e8be4c",
   "metadata": {},
   "outputs": [],
   "source": [
    "score=int(input())\n",
    "if score>80:\n",
    "    print(\"distinction\")\n",
    "elif 60<score<=80:\n",
    "    print('First class')\n",
    "else:\n",
    "    print('Pass')"
   ]
  },
  {
   "cell_type": "markdown",
   "id": "2a402c6d",
   "metadata": {},
   "source": [
    "#### Nested if-else statements\n",
    "Nested “if-else” statements mean that an “if” statement or “if-else” statement is present inside another if or if-else block"
   ]
  },
  {
   "cell_type": "markdown",
   "id": "64cfea59",
   "metadata": {},
   "source": [
    "if(condition):\n",
    "\n",
    "           #Statements to execute if condition is true\n",
    "           if(condition):\n",
    "           \n",
    "                    #Statements to execute if condition is true\n",
    "           #end of nested if\n",
    "           \n",
    "#end of if"
   ]
  },
  {
   "cell_type": "code",
   "execution_count": null,
   "id": "cc78d9ba",
   "metadata": {},
   "outputs": [],
   "source": [
    "'''In this program, we input a number\n",
    "check if the number is positive or\n",
    "negative or zero and display\n",
    "an appropriate message\n",
    "This time we use nested if statement'''\n",
    "\n",
    "n=int(input())\n",
    "if n>=0:\n",
    "    if n==0:\n",
    "        print('zero')\n",
    "    else:\n",
    "        print('postive')\n",
    "else:\n",
    "    print('negative')"
   ]
  },
  {
   "cell_type": "code",
   "execution_count": null,
   "id": "9599c499",
   "metadata": {},
   "outputs": [],
   "source": [
    "### Hands - on- Exercise"
   ]
  },
  {
   "cell_type": "code",
   "execution_count": 25,
   "id": "9943b1ae",
   "metadata": {},
   "outputs": [
    {
     "name": "stdout",
     "output_type": "stream",
     "text": [
      "12\n",
      "given number lies between 5 and 15\n"
     ]
    }
   ],
   "source": [
    "# check whether the given number is lies between 5 and 15 or not.\n",
    "num=int(input())\n",
    "if num>5:\n",
    "    if num<=15:\n",
    "        print('given number lies between 5 and 15')\n",
    "    else:\n",
    "        print(' given number is greater than 15')\n",
    "else:\n",
    "    print('given number is less than 5')"
   ]
  },
  {
   "cell_type": "code",
   "execution_count": 26,
   "id": "3be7dc3f",
   "metadata": {},
   "outputs": [
    {
     "name": "stdout",
     "output_type": "stream",
     "text": [
      "20\n",
      "eligible\n"
     ]
    }
   ],
   "source": [
    "# Write a program to check whether a person is eligible for voting or not. (accept age from user)\n",
    "age=int(input())\n",
    "if age>=18:\n",
    "    print('eligible')\n",
    "else:\n",
    "    print('not eligible')"
   ]
  },
  {
   "cell_type": "code",
   "execution_count": 27,
   "id": "0f9d8ad0",
   "metadata": {},
   "outputs": [
    {
     "name": "stdout",
     "output_type": "stream",
     "text": [
      "49\n",
      "49 is divisible by 7\n"
     ]
    }
   ],
   "source": [
    "#Write a program to check whether a number is divisible by 7 or not.\n",
    "num=int(input())\n",
    "if num%7==0:\n",
    "    print(num,'is divisible by 7')\n",
    "else:\n",
    "    print(num, 'is not divisible by 7')"
   ]
  },
  {
   "cell_type": "markdown",
   "id": "db334f41",
   "metadata": {},
   "source": [
    "Write a program to check whether the last digit of a number( entered by user ) is \n",
    "divisible by 3 or not."
   ]
  },
  {
   "cell_type": "code",
   "execution_count": 31,
   "id": "5083ddc6",
   "metadata": {},
   "outputs": [
    {
     "name": "stdout",
     "output_type": "stream",
     "text": [
      "Enter any number13\n",
      "Last digit of number is not divisible by 3 \n"
     ]
    }
   ],
   "source": [
    "num=int(input(\"Enter any number\"))\n",
    "Id=num%10 # it returns the last digit\n",
    "if num%3==0:\n",
    "     print(\"Last digit of number is divisible by 3 \")\n",
    "else:\n",
    "     print(\"Last digit of number is not divisible by 3 \")"
   ]
  },
  {
   "cell_type": "markdown",
   "id": "7990b4d7",
   "metadata": {},
   "source": [
    "Accept any city from the user and display monument of that city.\n",
    "                  City                                 Monument\n",
    "                  Delhi                               Red Fort\n",
    "                  Agra                                Taj Mahal\n",
    "                  Jaipur                              Jal Mahal"
   ]
  },
  {
   "cell_type": "code",
   "execution_count": 32,
   "id": "0acfd28f",
   "metadata": {},
   "outputs": [
    {
     "name": "stdout",
     "output_type": "stream",
     "text": [
      "Enter name of the citydelhi\n",
      "Monument name is : Red Fort\n"
     ]
    }
   ],
   "source": [
    "city = input(\"Enter name of the city\")\n",
    "if city.lower()==\"delhi\":\n",
    "    print(\"Monument name is : Red Fort\")\n",
    "elif city.lower()==\"agra\":\n",
    "    print(\"Monument name is : Taj Mahal\")\n",
    "elif city.lower()==\"jaipur\":\n",
    "    print(\"Monument name is : Jal Mahal\")\n",
    "else:\n",
    "    print(\"Enter correct name of city\")"
   ]
  },
  {
   "cell_type": "code",
   "execution_count": 33,
   "id": "634dcbf1",
   "metadata": {},
   "outputs": [
    {
     "name": "stdout",
     "output_type": "stream",
     "text": [
      "Hello\n"
     ]
    }
   ],
   "source": [
    "#Write the output of the following if a = 9\n",
    "a=9        \n",
    "if (a > 5 and a <=10):    \n",
    "    print(\"Hello\")    \n",
    "else:    \n",
    "     print(\"Bye\")"
   ]
  },
  {
   "cell_type": "code",
   "execution_count": null,
   "id": "0748ab71",
   "metadata": {},
   "outputs": [],
   "source": [
    "# check whether the given number is of one digited or two digited or three digited or more than three digited.\n",
    "n = int(input(\"Enter any number:\"))\n",
    "if n>0 and n<10:\n",
    "    print(\"One digit number\")\n",
    "elif n>10 and n<100:\n",
    "    print(\"Two digit number\")\n",
    "elif n>100 and n<1000:\n",
    "    print(\"Three digit number\")\n",
    "else:\n",
    "    print(\"More than three digit number\")"
   ]
  },
  {
   "cell_type": "code",
   "execution_count": 40,
   "id": "d1fc656b",
   "metadata": {},
   "outputs": [
    {
     "name": "stdout",
     "output_type": "stream",
     "text": [
      "Enter no1:12\n",
      "Enter no2:16\n",
      "Enter no3:12\n",
      "No2 is maximum\n"
     ]
    }
   ],
   "source": [
    "# Find maximum number out of given three numbers.\n",
    "n1,n2,n3 = int(input(\"Enter no1:\")),int(input(\"Enter no2:\")),int(input(\"Enter no3:\"))\n",
    "if n1>n2 and n1>n3:\n",
    "    print(\"No1 is maximum\")\n",
    "elif n2>n1 and n2>n3:\n",
    "    print(\"No2 is maximum\")\n",
    "elif n3>n1 and n3>n2:\n",
    "    print(\"No3 is maximum\")\n",
    "elif n1==n2 and n1>n3:\n",
    "    print(n1, 'is the maximum')\n",
    "elif n2==n3 and n2>n1:\n",
    "    print(n2, 'is the maximum')\n",
    "elif n1==n3 and n3>n2:\n",
    "    print(n3, 'is the maximum')\n",
    "else:\n",
    "    print(\"All are equal\")"
   ]
  },
  {
   "cell_type": "code",
   "execution_count": null,
   "id": "e2dab13e",
   "metadata": {},
   "outputs": [],
   "source": []
  },
  {
   "cell_type": "code",
   "execution_count": null,
   "id": "f89eec1a",
   "metadata": {},
   "outputs": [],
   "source": []
  },
  {
   "cell_type": "markdown",
   "id": "4a90a2e4",
   "metadata": {},
   "source": [
    "### Operators \n",
    "\n",
    "Operators are used to perform operations on variables and values.OPERATORS: Are the special symbols. Eg- + , * , /, etc.\n",
    "\n",
    "- Arithmetic operators\n",
    "- Bitwise operators\n",
    "- Boolean operators\n",
    "- Assignment operators\n",
    "- Relational operators\n",
    "- Operators precedence"
   ]
  },
  {
   "cell_type": "markdown",
   "id": "606ffde7",
   "metadata": {},
   "source": [
    "#### Arithmetic operators"
   ]
  },
  {
   "cell_type": "raw",
   "id": "9f966d27",
   "metadata": {},
   "source": [
    "Operator\tDescription\tSyntax\n",
    "+\t          Addition: adds two operands\tx + y\n",
    "–\t          Subtraction: subtracts two operands\tx – y\n",
    "*\t          Multiplication: multiplies two operands\tx * y\n",
    "/\t          Division (float): divides the first operand by the second\tx / y\n",
    "//\t          Division (floor): divides the first operand by the second\tx // y\n",
    "%\t          Modulus: returns the remainder when the first operand is divided by the second\tx % y\n",
    "**\t          Power: Returns first raised to power second\tx ** y\n"
   ]
  },
  {
   "cell_type": "code",
   "execution_count": 42,
   "id": "2108ebec",
   "metadata": {},
   "outputs": [],
   "source": [
    "a=6\n",
    "b=8"
   ]
  },
  {
   "cell_type": "code",
   "execution_count": 51,
   "id": "92a92689",
   "metadata": {},
   "outputs": [],
   "source": [
    "# addition\n",
    "add=a+b"
   ]
  },
  {
   "cell_type": "code",
   "execution_count": 52,
   "id": "528788d7",
   "metadata": {},
   "outputs": [],
   "source": [
    "#subtraction\n",
    "sub=a-b\n",
    "#abs(a-b)"
   ]
  },
  {
   "cell_type": "code",
   "execution_count": 53,
   "id": "42340996",
   "metadata": {},
   "outputs": [],
   "source": [
    "#multiplication\n",
    "mul=a*b"
   ]
  },
  {
   "cell_type": "code",
   "execution_count": 54,
   "id": "a6f0d692",
   "metadata": {},
   "outputs": [],
   "source": [
    "#division\n",
    "div1=a/b"
   ]
  },
  {
   "cell_type": "code",
   "execution_count": 55,
   "id": "c95f5c82",
   "metadata": {},
   "outputs": [],
   "source": [
    "div2=a//b"
   ]
  },
  {
   "cell_type": "code",
   "execution_count": null,
   "id": "5c1a7df2",
   "metadata": {},
   "outputs": [],
   "source": [
    "#modulo of both number "
   ]
  },
  {
   "cell_type": "code",
   "execution_count": 57,
   "id": "507a635e",
   "metadata": {},
   "outputs": [],
   "source": [
    "R=a%b"
   ]
  },
  {
   "cell_type": "code",
   "execution_count": 58,
   "id": "7bc5816d",
   "metadata": {},
   "outputs": [],
   "source": [
    "#power\n",
    "x=2\n",
    "y=3\n",
    "P=x**y"
   ]
  },
  {
   "cell_type": "code",
   "execution_count": 59,
   "id": "d87cff68",
   "metadata": {},
   "outputs": [
    {
     "name": "stdout",
     "output_type": "stream",
     "text": [
      "14\n",
      "-2\n",
      "48\n",
      "0.75\n",
      "0\n",
      "6\n",
      "8\n"
     ]
    }
   ],
   "source": [
    "#print results\n",
    "print(add);print(sub);print(mul);print(div1);print(div2);print(R);print(P)"
   ]
  },
  {
   "cell_type": "code",
   "execution_count": null,
   "id": "10f9b307",
   "metadata": {},
   "outputs": [],
   "source": [
    "#### Bitwise operators"
   ]
  },
  {
   "cell_type": "raw",
   "id": "89ebcdba",
   "metadata": {},
   "source": [
    "In Python, bitwise operators are used to performing bitwise calculations on integers. The integers are first converted into binary and then operations are performed on bit by bit, hence the name bitwise operators\n",
    "\n",
    "OPERATOR\t       DESCRIPTION\tSYNTAX\n",
    "\n",
    "&\t               Bitwise AND\tx & y\n",
    "\n",
    "|\t               Bitwise OR\tx | y\n",
    "\n",
    "~\t               Bitwise NOT\t~x\n"
   ]
  },
  {
   "cell_type": "markdown",
   "id": "aa393e49",
   "metadata": {},
   "source": [
    "Bitwise AND operator: Returns 1 if both the bits are 1 else 0."
   ]
  },
  {
   "cell_type": "code",
   "execution_count": 60,
   "id": "8a0ed924",
   "metadata": {},
   "outputs": [
    {
     "data": {
      "text/plain": [
       "0"
      ]
     },
     "execution_count": 60,
     "metadata": {},
     "output_type": "execute_result"
    }
   ],
   "source": [
    "a=10\n",
    "b=4\n",
    "a & b"
   ]
  },
  {
   "cell_type": "code",
   "execution_count": null,
   "id": "b0389a42",
   "metadata": {},
   "outputs": [],
   "source": []
  },
  {
   "cell_type": "markdown",
   "id": "cc96d5a4",
   "metadata": {},
   "source": [
    "Bitwise or operator: Returns 1 if either of the bit is 1 else 0."
   ]
  },
  {
   "cell_type": "code",
   "execution_count": 61,
   "id": "bc33e689",
   "metadata": {},
   "outputs": [
    {
     "data": {
      "text/plain": [
       "14"
      ]
     },
     "execution_count": 61,
     "metadata": {},
     "output_type": "execute_result"
    }
   ],
   "source": [
    "a=10\n",
    "b=4\n",
    "a|b"
   ]
  },
  {
   "cell_type": "markdown",
   "id": "c9f1b7dd",
   "metadata": {},
   "source": [
    "Bitwise not operator: Returns one’s complement of the number.\n",
    "1's complement: flipping the bits\n",
    "2's complement: add 1 to 1's complement"
   ]
  },
  {
   "cell_type": "code",
   "execution_count": 62,
   "id": "e8500c0d",
   "metadata": {},
   "outputs": [
    {
     "data": {
      "text/plain": [
       "-11"
      ]
     },
     "execution_count": 62,
     "metadata": {},
     "output_type": "execute_result"
    }
   ],
   "source": [
    "a=10\n",
    "~a"
   ]
  },
  {
   "cell_type": "code",
   "execution_count": null,
   "id": "c9544fa0",
   "metadata": {},
   "outputs": [],
   "source": [
    "#### Relational operators"
   ]
  },
  {
   "cell_type": "raw",
   "id": "091f92c1",
   "metadata": {},
   "source": [
    "Operator\t                             Description\t                                      Syntax\n",
    "<\t                               Less than: True if the left operand is less than the right\tx < y\n",
    "==\t                               Equal to: True if both operands are equal\t                x == y\n",
    "!=\t                               Not equal to – True if operands are not equal\t            x != y\n",
    ">=\t                               Greater than or equal to: True if left operand is            x >= y\n",
    "                                     greater than or equal to the right\t"
   ]
  },
  {
   "cell_type": "code",
   "execution_count": 63,
   "id": "192cd3cf",
   "metadata": {},
   "outputs": [
    {
     "data": {
      "text/plain": [
       "True"
      ]
     },
     "execution_count": 63,
     "metadata": {},
     "output_type": "execute_result"
    }
   ],
   "source": [
    "a=13\n",
    "b=33\n",
    "a<b"
   ]
  },
  {
   "cell_type": "code",
   "execution_count": 64,
   "id": "43523dca",
   "metadata": {},
   "outputs": [
    {
     "data": {
      "text/plain": [
       "False"
      ]
     },
     "execution_count": 64,
     "metadata": {},
     "output_type": "execute_result"
    }
   ],
   "source": [
    "a>b"
   ]
  },
  {
   "cell_type": "code",
   "execution_count": 65,
   "id": "a1ffc9f3",
   "metadata": {},
   "outputs": [
    {
     "data": {
      "text/plain": [
       "True"
      ]
     },
     "execution_count": 65,
     "metadata": {},
     "output_type": "execute_result"
    }
   ],
   "source": [
    "a!=b"
   ]
  },
  {
   "cell_type": "code",
   "execution_count": 66,
   "id": "751a5cfd",
   "metadata": {},
   "outputs": [
    {
     "data": {
      "text/plain": [
       "False"
      ]
     },
     "execution_count": 66,
     "metadata": {},
     "output_type": "execute_result"
    }
   ],
   "source": [
    "a==b"
   ]
  },
  {
   "cell_type": "code",
   "execution_count": null,
   "id": "7dc9c43c",
   "metadata": {},
   "outputs": [],
   "source": []
  },
  {
   "cell_type": "code",
   "execution_count": null,
   "id": "0516f3e5",
   "metadata": {},
   "outputs": [],
   "source": []
  },
  {
   "cell_type": "markdown",
   "id": "d14777cc",
   "metadata": {},
   "source": [
    "#### Boolean operators\n",
    "The logical operators and, or and not are also referred to as boolean operators."
   ]
  },
  {
   "cell_type": "raw",
   "id": "c16e3c08",
   "metadata": {},
   "source": [
    "Operator\t             Description\t                                              Example\n",
    "and\t             Returns True if both statements are true\t                     x < 5 and x < 10\n",
    "or\t             Returns True if one of the statements is true\t                 x < 5 or x < 4\n",
    "not\t             Reverse the result, returns False if the result is true \t     not(x < 5 and x < 10)"
   ]
  },
  {
   "cell_type": "markdown",
   "id": "18e4a018",
   "metadata": {},
   "source": [
    "##### and operator\n",
    "returns true if both operands return true."
   ]
  },
  {
   "cell_type": "code",
   "execution_count": 68,
   "id": "23ccc26a",
   "metadata": {},
   "outputs": [
    {
     "data": {
      "text/plain": [
       "False"
      ]
     },
     "execution_count": 68,
     "metadata": {},
     "output_type": "execute_result"
    }
   ],
   "source": [
    "a=50\n",
    "b=25\n",
    "a<60 and b<10"
   ]
  },
  {
   "cell_type": "code",
   "execution_count": null,
   "id": "300b6c3a",
   "metadata": {},
   "outputs": [],
   "source": []
  },
  {
   "cell_type": "code",
   "execution_count": 70,
   "id": "72042be5",
   "metadata": {},
   "outputs": [
    {
     "data": {
      "text/plain": [
       "True"
      ]
     },
     "execution_count": 70,
     "metadata": {},
     "output_type": "execute_result"
    }
   ],
   "source": [
    "##### or operator returns true if any one operand is true\n",
    "a=50\n",
    "b=25\n",
    "a>30 or a<10"
   ]
  },
  {
   "cell_type": "code",
   "execution_count": 71,
   "id": "62fef762",
   "metadata": {},
   "outputs": [
    {
     "data": {
      "text/plain": [
       "False"
      ]
     },
     "execution_count": 71,
     "metadata": {},
     "output_type": "execute_result"
    }
   ],
   "source": [
    "##### The not operator returns true if its operand is a false expression and returns false if it is true\n",
    "a=10\n",
    "not(a)"
   ]
  },
  {
   "cell_type": "code",
   "execution_count": 72,
   "id": "7efb39a7",
   "metadata": {},
   "outputs": [
    {
     "data": {
      "text/plain": [
       "True"
      ]
     },
     "execution_count": 72,
     "metadata": {},
     "output_type": "execute_result"
    }
   ],
   "source": [
    "a=0\n",
    "not(a)"
   ]
  },
  {
   "cell_type": "code",
   "execution_count": null,
   "id": "1076fe57",
   "metadata": {},
   "outputs": [],
   "source": [
    "#### Assignment operators"
   ]
  },
  {
   "cell_type": "raw",
   "id": "1eea61bd",
   "metadata": {},
   "source": [
    "Python Assignment Operators\n",
    "Operator\t                     Example\t        Same As\n",
    "+=\t                              x += 3\t     x = x + 3\n",
    "-=\t                              x -= 3\t     x = x - 3\n",
    "*=\t                              x *= 3\t     x = x * 3\n",
    "/=\t                              x /= 3\t     x = x / 3"
   ]
  },
  {
   "cell_type": "code",
   "execution_count": 76,
   "id": "c53d92cd",
   "metadata": {},
   "outputs": [
    {
     "name": "stdout",
     "output_type": "stream",
     "text": [
      "10\n",
      "10\n"
     ]
    }
   ],
   "source": [
    "a=10\n",
    "b=a\n",
    "print(a)\n",
    "print(b)"
   ]
  },
  {
   "cell_type": "code",
   "execution_count": 74,
   "id": "2f88603e",
   "metadata": {},
   "outputs": [],
   "source": [
    "#add and assign value\n",
    "b+=a"
   ]
  },
  {
   "cell_type": "code",
   "execution_count": 75,
   "id": "31623329",
   "metadata": {},
   "outputs": [
    {
     "data": {
      "text/plain": [
       "20"
      ]
     },
     "execution_count": 75,
     "metadata": {},
     "output_type": "execute_result"
    }
   ],
   "source": [
    "b"
   ]
  },
  {
   "cell_type": "code",
   "execution_count": 78,
   "id": "a9d9b9a0",
   "metadata": {},
   "outputs": [
    {
     "name": "stdout",
     "output_type": "stream",
     "text": [
      "1000\n"
     ]
    }
   ],
   "source": [
    "a*=b\n",
    "print(a)"
   ]
  },
  {
   "cell_type": "raw",
   "id": "0dafd633",
   "metadata": {},
   "source": [
    "PRECEDENCE:\n",
    "\n",
    "P – Parentheses\n",
    "E – Exponentiation\n",
    "M – Multiplication     (Multiplication and division have the same precedence)\n",
    "D – Division\n",
    "A – Addition     (Addition and subtraction have the same precedence)\n",
    "S – Subtraction"
   ]
  },
  {
   "cell_type": "markdown",
   "id": "b6a38b6c",
   "metadata": {},
   "source": [
    "For example, x = 7 + 3 * 2; here, x is assigned 13, not 20 because operator * has higher precedence than +, so it first multiplies 3*2 and then adds into 7.\n",
    "\n",
    "Here, operators with the highest precedence appear at the top of the table, those with the lowest appear at the bottom."
   ]
  },
  {
   "cell_type": "code",
   "execution_count": 79,
   "id": "843c2a66",
   "metadata": {},
   "outputs": [
    {
     "name": "stdout",
     "output_type": "stream",
     "text": [
      "Value of (a + b) * c / d is  90.0\n",
      "Value of ((a + b) * c) / d is  90.0\n",
      "Value of (a + b) * (c / d) is  90.0\n",
      "Value of a + (b * c) / d is  50.0\n"
     ]
    }
   ],
   "source": [
    "a = 20\n",
    "b = 10\n",
    "c = 15\n",
    "d = 5\n",
    "e = 0\n",
    "\n",
    "e = (a + b) * c / d       #( 30 * 15 ) / 5\n",
    "print (\"Value of (a + b) * c / d is \",  e)\n",
    "\n",
    "e = ((a + b) * c) / d     # (30 * 15 ) / 5\n",
    "print (\"Value of ((a + b) * c) / d is \",  e)\n",
    "\n",
    "e = (a + b) * (c / d);    # (30) * (15/5)\n",
    "print (\"Value of (a + b) * (c / d) is \",  e)\n",
    "\n",
    "e = a + (b * c) / d;      #  20 + (150/5)\n",
    "print (\"Value of a + (b * c) / d is \",  e)"
   ]
  },
  {
   "cell_type": "code",
   "execution_count": null,
   "id": "78bb0cca",
   "metadata": {},
   "outputs": [],
   "source": [
    "#### Hands-on -Exercise"
   ]
  },
  {
   "cell_type": "code",
   "execution_count": 1,
   "id": "64bd7961",
   "metadata": {},
   "outputs": [
    {
     "name": "stdout",
     "output_type": "stream",
     "text": [
      "12\n",
      "13\n",
      "12.5\n"
     ]
    }
   ],
   "source": [
    "# #  Find the average of two numbers entered by the user.\n",
    "a1=int(input())\n",
    "a2=int(input())\n",
    "avg=(a1+a2)/2\n",
    "print(avg)"
   ]
  },
  {
   "cell_type": "code",
   "execution_count": 3,
   "id": "39f4b2e8",
   "metadata": {},
   "outputs": [
    {
     "name": "stdout",
     "output_type": "stream",
     "text": [
      "23\n",
      "1\n"
     ]
    }
   ],
   "source": [
    "# Find the remainder when a number is divided by 2.\n",
    "x1=int(input())\n",
    "result=x1%2\n",
    "print(result)"
   ]
  },
  {
   "cell_type": "code",
   "execution_count": 4,
   "id": "1cb3757f",
   "metadata": {},
   "outputs": [
    {
     "data": {
      "text/plain": [
       "False"
      ]
     },
     "execution_count": 4,
     "metadata": {},
     "output_type": "execute_result"
    }
   ],
   "source": [
    "#Use comparison operators to find out whether a given variable a is greater than b or not. Take a=34, b=80.\n",
    "a=34\n",
    "b=80\n",
    "a>b"
   ]
  },
  {
   "cell_type": "code",
   "execution_count": 6,
   "id": "60b52beb",
   "metadata": {},
   "outputs": [
    {
     "name": "stdout",
     "output_type": "stream",
     "text": [
      "2\n",
      "4\n"
     ]
    }
   ],
   "source": [
    "# Calculate square of a number entered by the user.\n",
    "input1=int(input())\n",
    "print(input1**2)"
   ]
  },
  {
   "cell_type": "markdown",
   "id": "980228b8",
   "metadata": {},
   "source": [
    "Make a program that asks the number between 1 and 10. If the number is out of range the program should display “invalid number”."
   ]
  },
  {
   "cell_type": "code",
   "execution_count": 11,
   "id": "568b4f79",
   "metadata": {},
   "outputs": [
    {
     "name": "stdout",
     "output_type": "stream",
     "text": [
      "Please enter a number: 1\n",
      "valid points.\n"
     ]
    }
   ],
   "source": [
    "num = int(input(\"Please enter a number: \"))\n",
    "if num >=1 and num <10:\n",
    "    print(\"valid points.\")\n",
    "else:\n",
    "    print(\"Invalid points.\")"
   ]
  },
  {
   "cell_type": "markdown",
   "id": "d01234cb",
   "metadata": {},
   "source": [
    "Write a program to display \"Hello\" if a number entered by user is a multiple of five , \n",
    "otherwise print \"Bye\".\n"
   ]
  },
  {
   "cell_type": "code",
   "execution_count": 12,
   "id": "8f415afc",
   "metadata": {},
   "outputs": [
    {
     "name": "stdout",
     "output_type": "stream",
     "text": [
      "Enter your age25\n",
      "Hello\n"
     ]
    }
   ],
   "source": [
    "num=int(input(\"Enter your age\"))\n",
    "if num%5==0:\n",
    "   print(\"Hello\")\n",
    "else:\n",
    "   print(\"Bye\")"
   ]
  },
  {
   "cell_type": "raw",
   "id": "78899e79",
   "metadata": {},
   "source": [
    "Write a program to calculate the electricity bill (accept number of unit from user) according to the following criteria :\n",
    "             Unit                                                     Price  \n",
    "First 100 units                                               no charge\n",
    "Next 100 units                                              Rs 5 per unit\n",
    "After 200 units                                             Rs 10 per unit\n",
    "(For example if input unit is 350 than total bill amount is Rs2000)"
   ]
  },
  {
   "cell_type": "code",
   "execution_count": 13,
   "id": "a386282d",
   "metadata": {},
   "outputs": [
    {
     "name": "stdout",
     "output_type": "stream",
     "text": [
      "Enter number of electric unit350\n",
      "Amount to pay : 2000\n"
     ]
    }
   ],
   "source": [
    "amt=0\n",
    "nu=int(input(\"Enter number of electric unit\"))\n",
    "if nu<=100:\n",
    "     amt=0\n",
    "if nu>100 and nu<=200:\n",
    "     amt=(nu-100)*5\n",
    "if nu>200:\n",
    "     amt=(100*5)+(nu-200)*10\n",
    "print(\"Amount to pay :\",amt)\n"
   ]
  },
  {
   "cell_type": "markdown",
   "id": "0e1aaeda",
   "metadata": {},
   "source": [
    "Write a program to display the last digit of a number.\n",
    "(hint : any number % 10 will return the last digit)"
   ]
  },
  {
   "cell_type": "code",
   "execution_count": 16,
   "id": "ab646838",
   "metadata": {},
   "outputs": [
    {
     "name": "stdout",
     "output_type": "stream",
     "text": [
      "Enter any number43\n",
      "Last digit of number is  3\n"
     ]
    }
   ],
   "source": [
    "num=int(input(\"Enter any number\"))\n",
    "print(\"Last digit of number is \",num%10)"
   ]
  },
  {
   "cell_type": "code",
   "execution_count": 24,
   "id": "e955f890",
   "metadata": {},
   "outputs": [
    {
     "name": "stdout",
     "output_type": "stream",
     "text": [
      "Enter first number: 12\n",
      "Enter second number: 45\n",
      "Second number is greater than the First number.\n"
     ]
    }
   ],
   "source": [
    "#Take two int values from user and print greatest among them.\n",
    "num1 = int(input(\"Enter first number: \"))      \n",
    "num2 = int(input(\"Enter second number: \")) \n",
    " #Compare both the number \n",
    "if num1 >= num2:   \n",
    "    if num1 == num2:    \n",
    "        print(\"Both numbers are equal.\")       \n",
    "    else:  \n",
    "        print(\"First number is greater than the second number.\")\n",
    "else:   \n",
    "    print(\"Second number is greater than the First number.\") "
   ]
  },
  {
   "cell_type": "code",
   "execution_count": null,
   "id": "7b4aaa82",
   "metadata": {},
   "outputs": [],
   "source": [
    "---------------------------------------------------- End -------------------------------------------------------------"
   ]
  }
 ],
 "metadata": {
  "kernelspec": {
   "display_name": "Python 3 (ipykernel)",
   "language": "python",
   "name": "python3"
  },
  "language_info": {
   "codemirror_mode": {
    "name": "ipython",
    "version": 3
   },
   "file_extension": ".py",
   "mimetype": "text/x-python",
   "name": "python",
   "nbconvert_exporter": "python",
   "pygments_lexer": "ipython3",
   "version": "3.9.7"
  }
 },
 "nbformat": 4,
 "nbformat_minor": 5
}
