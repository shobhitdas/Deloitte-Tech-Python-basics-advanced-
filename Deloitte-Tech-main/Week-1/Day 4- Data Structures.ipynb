{
 "cells": [
  {
   "cell_type": "markdown",
   "id": "1a80b102",
   "metadata": {},
   "source": [
    "### Data Structures\n",
    "\n",
    "         - Lists\n",
    "    \n",
    "         - Tuple\n",
    "        \n",
    "         - Dictionary\n",
    "            \n",
    "         - Set\n",
    "        \n",
    "### List Comprehension"
   ]
  },
  {
   "cell_type": "markdown",
   "id": "42c2e01d",
   "metadata": {},
   "source": [
    "#### Data Structures in Python\n",
    "##### Lists"
   ]
  },
  {
   "cell_type": "code",
   "execution_count": null,
   "id": "8371ad4b",
   "metadata": {},
   "outputs": [],
   "source": [
    "An ordered sequence of values enclosed within [ ].\n",
    "\n",
    "- List can be created by [] or list()\n",
    "\n",
    "- Lists are mutable : Can do changes\n",
    "\n",
    "-  List can contain multiple data types\n",
    "\n",
    "- Lists are iterables"
   ]
  },
  {
   "cell_type": "code",
   "execution_count": null,
   "id": "93500aaa",
   "metadata": {},
   "outputs": [],
   "source": [
    "# Create an empty list\n"
   ]
  },
  {
   "cell_type": "code",
   "execution_count": null,
   "id": "9d2cc50f",
   "metadata": {},
   "outputs": [],
   "source": [
    "# create a list with int data types\n"
   ]
  },
  {
   "cell_type": "code",
   "execution_count": null,
   "id": "139194c1",
   "metadata": {},
   "outputs": [],
   "source": [
    "# create a list with string data type \n"
   ]
  },
  {
   "cell_type": "code",
   "execution_count": null,
   "id": "77d50381",
   "metadata": {},
   "outputs": [],
   "source": [
    "# create a list with mixed data types\n"
   ]
  },
  {
   "cell_type": "code",
   "execution_count": null,
   "id": "6872b83d",
   "metadata": {},
   "outputs": [],
   "source": [
    "# Lists are mutable\n",
    "# change the value '5' into '0' in the list ls3\n",
    "ls3=[5,6.5,'age',True]"
   ]
  },
  {
   "cell_type": "code",
   "execution_count": null,
   "id": "56313591",
   "metadata": {},
   "outputs": [],
   "source": [
    "# Extract 'age' from the list ls3\n"
   ]
  },
  {
   "cell_type": "code",
   "execution_count": null,
   "id": "18c666d3",
   "metadata": {},
   "outputs": [],
   "source": [
    "# Extract 'e'  from the list ls3\n"
   ]
  },
  {
   "cell_type": "code",
   "execution_count": null,
   "id": "ec42fa2a",
   "metadata": {},
   "outputs": [],
   "source": [
    "# Extract 'age',True from the list ls3\n"
   ]
  },
  {
   "cell_type": "code",
   "execution_count": null,
   "id": "21a8653f",
   "metadata": {},
   "outputs": [],
   "source": [
    "ls4= [25,31,[3,4],-5]\n",
    "# extract [3,4] from the list ls4.\n"
   ]
  },
  {
   "cell_type": "code",
   "execution_count": null,
   "id": "3d7e4da5",
   "metadata": {},
   "outputs": [],
   "source": [
    "first=[2,34,5,[56,81,[43,89],67],10]\n",
    "# extract [43,89]\n",
    "# extract 89\n"
   ]
  },
  {
   "cell_type": "code",
   "execution_count": null,
   "id": "656f9066",
   "metadata": {},
   "outputs": [],
   "source": [
    "# extract [43,89]\n"
   ]
  },
  {
   "cell_type": "code",
   "execution_count": null,
   "id": "c967437d",
   "metadata": {},
   "outputs": [],
   "source": [
    "# extract 89\n"
   ]
  },
  {
   "cell_type": "code",
   "execution_count": null,
   "id": "e10665e6",
   "metadata": {},
   "outputs": [],
   "source": [
    "#extend\n",
    "newlist1=[1,2,3]\n",
    "newlist2=[5,6]"
   ]
  },
  {
   "cell_type": "code",
   "execution_count": null,
   "id": "14698a94",
   "metadata": {},
   "outputs": [],
   "source": [
    "# append\n",
    "newlist3=[6,7,8]\n",
    "newlist4=[9,10]"
   ]
  },
  {
   "cell_type": "code",
   "execution_count": null,
   "id": "27788664",
   "metadata": {},
   "outputs": [],
   "source": []
  },
  {
   "cell_type": "code",
   "execution_count": null,
   "id": "c878f8a4",
   "metadata": {},
   "outputs": [],
   "source": [
    "# insert\n",
    "#syntax: listobject.insert(index,value)\n"
   ]
  },
  {
   "cell_type": "code",
   "execution_count": null,
   "id": "2911d35c",
   "metadata": {},
   "outputs": [],
   "source": []
  },
  {
   "cell_type": "code",
   "execution_count": null,
   "id": "096501e8",
   "metadata": {},
   "outputs": [],
   "source": [
    "\n"
   ]
  },
  {
   "cell_type": "code",
   "execution_count": null,
   "id": "180dd055",
   "metadata": {},
   "outputs": [],
   "source": [
    "#pop\n",
    "# listobject.pop(index) \n",
    "# list object.pop()--> removes last element in the list"
   ]
  },
  {
   "cell_type": "code",
   "execution_count": null,
   "id": "e71bd95a",
   "metadata": {},
   "outputs": [],
   "source": []
  },
  {
   "cell_type": "code",
   "execution_count": null,
   "id": "e6eb011c",
   "metadata": {},
   "outputs": [],
   "source": []
  },
  {
   "cell_type": "code",
   "execution_count": null,
   "id": "061feb1f",
   "metadata": {},
   "outputs": [],
   "source": [
    "## remove \n",
    "# syntax: listobject.remove(value)"
   ]
  },
  {
   "cell_type": "code",
   "execution_count": null,
   "id": "a3b90c02",
   "metadata": {},
   "outputs": [],
   "source": []
  },
  {
   "cell_type": "code",
   "execution_count": null,
   "id": "272e4cc4",
   "metadata": {},
   "outputs": [],
   "source": []
  },
  {
   "cell_type": "code",
   "execution_count": null,
   "id": "08b87b53",
   "metadata": {},
   "outputs": [],
   "source": [
    "# reverse\n",
    "# syntax: list object.reverse()\n"
   ]
  },
  {
   "cell_type": "code",
   "execution_count": null,
   "id": "900b4ded",
   "metadata": {},
   "outputs": [],
   "source": [
    "#index\n",
    "# returns the position of the element\n"
   ]
  },
  {
   "cell_type": "code",
   "execution_count": null,
   "id": "513faa70",
   "metadata": {},
   "outputs": [],
   "source": [
    "### Apply + * on list objects\n"
   ]
  },
  {
   "cell_type": "code",
   "execution_count": null,
   "id": "eb4f0435",
   "metadata": {},
   "outputs": [],
   "source": []
  },
  {
   "cell_type": "code",
   "execution_count": null,
   "id": "c4f15fc3",
   "metadata": {},
   "outputs": [],
   "source": [
    "# sort the list object in ascending order\n"
   ]
  },
  {
   "cell_type": "code",
   "execution_count": null,
   "id": "184d7bd4",
   "metadata": {},
   "outputs": [],
   "source": []
  },
  {
   "cell_type": "code",
   "execution_count": null,
   "id": "09927a0a",
   "metadata": {},
   "outputs": [],
   "source": []
  },
  {
   "cell_type": "code",
   "execution_count": null,
   "id": "3a4702cb",
   "metadata": {},
   "outputs": [],
   "source": [
    "#descending order\n"
   ]
  },
  {
   "cell_type": "code",
   "execution_count": null,
   "id": "85ba673d",
   "metadata": {},
   "outputs": [],
   "source": [
    "# Copy one list from the other list (or) creating a list from existing list by using '=' (or) copy() method\n",
    "ls9=[1,2,5,2,1,3,2,10]\n",
    "#create newlist from ls9."
   ]
  },
  {
   "cell_type": "code",
   "execution_count": null,
   "id": "620f4371",
   "metadata": {},
   "outputs": [],
   "source": []
  },
  {
   "cell_type": "code",
   "execution_count": null,
   "id": "77440f90",
   "metadata": {},
   "outputs": [],
   "source": []
  },
  {
   "cell_type": "code",
   "execution_count": null,
   "id": "69cca7b4",
   "metadata": {},
   "outputs": [],
   "source": []
  },
  {
   "cell_type": "code",
   "execution_count": null,
   "id": "f0af2028",
   "metadata": {},
   "outputs": [],
   "source": [
    "#spilit method\n"
   ]
  },
  {
   "cell_type": "code",
   "execution_count": null,
   "id": "2de11eb6",
   "metadata": {},
   "outputs": [],
   "source": [
    "# loop\n"
   ]
  },
  {
   "cell_type": "code",
   "execution_count": null,
   "id": "081bc98d",
   "metadata": {},
   "outputs": [],
   "source": [
    "#List comprehension\n",
    "# one line expression of for loop"
   ]
  },
  {
   "cell_type": "code",
   "execution_count": null,
   "id": "11ebb6fb",
   "metadata": {},
   "outputs": [],
   "source": [
    "a=[1,2,3,4]\n",
    "#list of square of elements of a\n",
    "#for loop\n"
   ]
  },
  {
   "cell_type": "code",
   "execution_count": null,
   "id": "b41d298d",
   "metadata": {},
   "outputs": [],
   "source": [
    "#list comprehension : syntax: [expression for if]\n"
   ]
  },
  {
   "cell_type": "code",
   "execution_count": null,
   "id": "89ff1c38",
   "metadata": {},
   "outputs": [],
   "source": []
  },
  {
   "cell_type": "code",
   "execution_count": null,
   "id": "7902a055",
   "metadata": {},
   "outputs": [],
   "source": [
    "cities=['Delhi','Pune','Chennai','Bangalore','Hyd']\n",
    "# create a list of elements which has length is greater than 6.\n"
   ]
  },
  {
   "cell_type": "code",
   "execution_count": null,
   "id": "587102a5",
   "metadata": {},
   "outputs": [],
   "source": [
    "L=[4,7,8,9]\n",
    "# Add value 5 to each element in the list\n"
   ]
  },
  {
   "cell_type": "code",
   "execution_count": null,
   "id": "74134009",
   "metadata": {},
   "outputs": [],
   "source": [
    "# Create a list of elements which is greater than 5 in the given list L\n"
   ]
  },
  {
   "cell_type": "code",
   "execution_count": null,
   "id": "c1a94998",
   "metadata": {},
   "outputs": [],
   "source": [
    "# Addition of two lists L1 and L2\n"
   ]
  },
  {
   "cell_type": "code",
   "execution_count": null,
   "id": "04ed4b7f",
   "metadata": {},
   "outputs": [],
   "source": []
  },
  {
   "cell_type": "markdown",
   "id": "68ce9949",
   "metadata": {},
   "source": [
    "### Tuple\n",
    "\n",
    "- A tuple is a sequence of items\n",
    "- tuple is created by using () or tuple()\n",
    "- tuple contains mixed data type\n",
    "- tuples are immutable\n",
    "- tuples are iterable"
   ]
  },
  {
   "cell_type": "code",
   "execution_count": null,
   "id": "79692679",
   "metadata": {},
   "outputs": [],
   "source": [
    "# empty tuple object\n"
   ]
  },
  {
   "cell_type": "code",
   "execution_count": null,
   "id": "53f28503",
   "metadata": {},
   "outputs": [],
   "source": []
  },
  {
   "cell_type": "code",
   "execution_count": null,
   "id": "fe19c1eb",
   "metadata": {},
   "outputs": [],
   "source": [
    "# extract '4' from t3\n"
   ]
  },
  {
   "cell_type": "code",
   "execution_count": null,
   "id": "b5ffc49f",
   "metadata": {},
   "outputs": [],
   "source": [
    "# immutable\n"
   ]
  },
  {
   "cell_type": "code",
   "execution_count": null,
   "id": "ed17f488",
   "metadata": {},
   "outputs": [],
   "source": []
  },
  {
   "cell_type": "code",
   "execution_count": null,
   "id": "3232f25a",
   "metadata": {},
   "outputs": [],
   "source": []
  },
  {
   "cell_type": "code",
   "execution_count": null,
   "id": "0f8d08ab",
   "metadata": {},
   "outputs": [],
   "source": []
  },
  {
   "cell_type": "code",
   "execution_count": null,
   "id": "4e887619",
   "metadata": {},
   "outputs": [],
   "source": [
    "#for loop\n"
   ]
  },
  {
   "cell_type": "code",
   "execution_count": null,
   "id": "5e523e9d",
   "metadata": {},
   "outputs": [],
   "source": [
    "### Dictionary\n",
    "- A collection of unordered set of key:value pairs.\n",
    "\n",
    "- Create dictionaries by using {} or dict()\n",
    "\n",
    "- Keys are unique.\n",
    "\n",
    "- values are accessed by using keys, not by index\n",
    "\n",
    "- Dictionaries are mutable.\n",
    "\n",
    "- Dicitonaries are iterables."
   ]
  },
  {
   "cell_type": "code",
   "execution_count": null,
   "id": "943bd3dc",
   "metadata": {},
   "outputs": [],
   "source": [
    "# empty dict:\n"
   ]
  },
  {
   "cell_type": "code",
   "execution_count": null,
   "id": "9e6efeb8",
   "metadata": {},
   "outputs": [],
   "source": []
  },
  {
   "cell_type": "code",
   "execution_count": null,
   "id": "49b3a49d",
   "metadata": {},
   "outputs": [],
   "source": []
  },
  {
   "cell_type": "code",
   "execution_count": null,
   "id": "bf07a54c",
   "metadata": {},
   "outputs": [],
   "source": []
  },
  {
   "cell_type": "code",
   "execution_count": null,
   "id": "c125613b",
   "metadata": {},
   "outputs": [],
   "source": []
  },
  {
   "cell_type": "code",
   "execution_count": null,
   "id": "7226655e",
   "metadata": {},
   "outputs": [],
   "source": [
    "#extract [5,6,7] from d4.\n"
   ]
  },
  {
   "cell_type": "code",
   "execution_count": null,
   "id": "712417d1",
   "metadata": {},
   "outputs": [],
   "source": [
    "#extract 6\n"
   ]
  },
  {
   "cell_type": "code",
   "execution_count": null,
   "id": "45b22e8c",
   "metadata": {},
   "outputs": [],
   "source": [
    "#extract 'b'\n"
   ]
  },
  {
   "cell_type": "code",
   "execution_count": null,
   "id": "4f754e21",
   "metadata": {},
   "outputs": [],
   "source": [
    "d5={'one':{'el_one':[3,4,6,{'el_two':'z'}]}}\n",
    "# extract 'z'\n"
   ]
  },
  {
   "cell_type": "code",
   "execution_count": null,
   "id": "46e055bb",
   "metadata": {},
   "outputs": [],
   "source": [
    "d6={'new':[9,4,5,['split','merge',10]],'old':('s',17,0),'mid':{'ram':4,'ravi':8}}\n",
    "#Extract 'merge'\n",
    "#extract 8"
   ]
  },
  {
   "cell_type": "code",
   "execution_count": null,
   "id": "bb456050",
   "metadata": {},
   "outputs": [],
   "source": [
    "# for loop\n"
   ]
  },
  {
   "cell_type": "code",
   "execution_count": null,
   "id": "957948fa",
   "metadata": {},
   "outputs": [],
   "source": [
    "#mutable\n"
   ]
  },
  {
   "cell_type": "code",
   "execution_count": null,
   "id": "a900fbef",
   "metadata": {},
   "outputs": [],
   "source": [
    "# using pop() method to rename the key names in the dictionary\n"
   ]
  },
  {
   "cell_type": "code",
   "execution_count": null,
   "id": "d64a8ac2",
   "metadata": {},
   "outputs": [],
   "source": [
    "### Sets\n",
    "- Unordered sequence of elements\n",
    "\n",
    "- create set objects by using {} or set()\n",
    "\n",
    "- sets are immutable\n"
   ]
  },
  {
   "cell_type": "code",
   "execution_count": null,
   "id": "90c3cf9a",
   "metadata": {},
   "outputs": [],
   "source": [
    "# create empty set\n"
   ]
  },
  {
   "cell_type": "code",
   "execution_count": null,
   "id": "b64ccae9",
   "metadata": {},
   "outputs": [],
   "source": [
    "s3={\"Monday\",\"Tuesday\",\"Wednesday\",\"Thursday\",\"Friday\"}\n"
   ]
  },
  {
   "cell_type": "code",
   "execution_count": null,
   "id": "5c4732f9",
   "metadata": {},
   "outputs": [],
   "source": [
    "s4=set([\"Monday\",\"Tuesday\",\"Wednesday\",\"Thursday\",\"Friday\"])\n"
   ]
  },
  {
   "cell_type": "code",
   "execution_count": null,
   "id": "c8190fe1",
   "metadata": {},
   "outputs": [],
   "source": [
    "# add element in the set s4.\n"
   ]
  },
  {
   "cell_type": "code",
   "execution_count": null,
   "id": "1e3e42c4",
   "metadata": {},
   "outputs": [],
   "source": [
    "#update\n"
   ]
  },
  {
   "cell_type": "code",
   "execution_count": null,
   "id": "e9b69e4c",
   "metadata": {},
   "outputs": [],
   "source": [
    "# removing the items\n"
   ]
  },
  {
   "cell_type": "code",
   "execution_count": null,
   "id": "c71f106e",
   "metadata": {},
   "outputs": [],
   "source": []
  },
  {
   "cell_type": "markdown",
   "id": "4547c28e",
   "metadata": {},
   "source": [
    "### Set operations\n",
    "- Union\n",
    "\n",
    "- Intersection\n",
    "\n",
    "- Difference\n",
    "\n",
    "- Symmetric difference"
   ]
  },
  {
   "cell_type": "code",
   "execution_count": null,
   "id": "848ebfb4",
   "metadata": {},
   "outputs": [],
   "source": [
    "#union\n",
    "Days1={'Monday',\"Tuesday\",\"Wednesday\",\"Thursday\",\"Sunday\"}\n",
    "Days2={\"Friday\",\"Saturday\",\"Sunday\"}\n"
   ]
  },
  {
   "cell_type": "code",
   "execution_count": null,
   "id": "21209f15",
   "metadata": {},
   "outputs": [],
   "source": [
    "#intersection\n"
   ]
  },
  {
   "cell_type": "code",
   "execution_count": null,
   "id": "ffb58a07",
   "metadata": {},
   "outputs": [],
   "source": [
    "# difference\n",
    "A={10,20,30,40,50}\n",
    "B={100,30,50,40,60}\n"
   ]
  },
  {
   "cell_type": "code",
   "execution_count": null,
   "id": "bcab2558",
   "metadata": {},
   "outputs": [],
   "source": []
  },
  {
   "cell_type": "code",
   "execution_count": null,
   "id": "42de055b",
   "metadata": {},
   "outputs": [],
   "source": []
  },
  {
   "cell_type": "code",
   "execution_count": null,
   "id": "60ef855b",
   "metadata": {},
   "outputs": [],
   "source": [
    "# Symmetric differnce\n"
   ]
  },
  {
   "cell_type": "code",
   "execution_count": null,
   "id": "849fc8e5",
   "metadata": {},
   "outputs": [],
   "source": []
  },
  {
   "cell_type": "code",
   "execution_count": null,
   "id": "53623187",
   "metadata": {},
   "outputs": [],
   "source": [
    "# for loop\n"
   ]
  },
  {
   "cell_type": "code",
   "execution_count": null,
   "id": "b6394772",
   "metadata": {},
   "outputs": [],
   "source": [
    "### map and filter function\n",
    "\n",
    "#map function: map square function\n",
    "b=[2,3,4]\n",
    "# map(fun,iterable)\n"
   ]
  },
  {
   "cell_type": "code",
   "execution_count": null,
   "id": "2acff138",
   "metadata": {},
   "outputs": [],
   "source": [
    "# filter function\n",
    "# filter the words from a list that dont start with the letter 's'\n",
    "seq=['soup','salad','food','great']\n"
   ]
  },
  {
   "cell_type": "markdown",
   "id": "e38584cc",
   "metadata": {},
   "source": [
    "--------------------------------------------------End--------------------------------------------------------------"
   ]
  }
 ],
 "metadata": {
  "kernelspec": {
   "display_name": "Python 3 (ipykernel)",
   "language": "python",
   "name": "python3"
  },
  "language_info": {
   "codemirror_mode": {
    "name": "ipython",
    "version": 3
   },
   "file_extension": ".py",
   "mimetype": "text/x-python",
   "name": "python",
   "nbconvert_exporter": "python",
   "pygments_lexer": "ipython3",
   "version": "3.9.7"
  }
 },
 "nbformat": 4,
 "nbformat_minor": 5
}
