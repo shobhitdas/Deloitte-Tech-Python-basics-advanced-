{
 "cells": [
  {
   "cell_type": "markdown",
   "id": "e5ecca0e",
   "metadata": {},
   "source": [
    "Python decorators allow you to change the behavior of a function without modifying the function itself"
   ]
  },
  {
   "cell_type": "code",
   "execution_count": null,
   "id": "1f1a643b",
   "metadata": {},
   "outputs": [],
   "source": [
    "def function_decorator(func):\n",
    "    def wrapped_func():\n",
    "        # Do something before the function is executed\n",
    "        func()\n",
    "        # Do something after the function has been executed\n",
    "    return wrapped_func"
   ]
  },
  {
   "cell_type": "raw",
   "id": "1140f3c9",
   "metadata": {},
   "source": [
    "function_decorator is the name of the decorator.\n",
    "wrapped_func is the name of the inner function, which is actually only used in this decorator definition.\n",
    "func is the function that is being decorated.\n",
    "\n",
    "Note: In the inner function wrapped_func, we can do whatever before and after the func is called"
   ]
  },
  {
   "cell_type": "code",
   "execution_count": null,
   "id": "3a6eb95c",
   "metadata": {},
   "outputs": [],
   "source": [
    "@function_decorator\n",
    "def func():\n",
    "    pass"
   ]
  },
  {
   "cell_type": "code",
   "execution_count": 1,
   "id": "ddb516ef",
   "metadata": {},
   "outputs": [],
   "source": [
    "def function_decorator(func):\n",
    "    def wrapped_func():\n",
    "        print('=' * 30)\n",
    "        func()\n",
    "        print('=' * 30)\n",
    "    return wrapped_func"
   ]
  },
  {
   "cell_type": "code",
   "execution_count": 2,
   "id": "47cf0ed2",
   "metadata": {},
   "outputs": [],
   "source": [
    "@function_decorator\n",
    "def test():\n",
    "    print('Hello World!')"
   ]
  },
  {
   "cell_type": "code",
   "execution_count": 3,
   "id": "9d286e4a",
   "metadata": {},
   "outputs": [
    {
     "name": "stdout",
     "output_type": "stream",
     "text": [
      "==============================\n",
      "Hello World!\n",
      "------------------------------\n"
     ]
    }
   ],
   "source": [
    "test()"
   ]
  },
  {
   "cell_type": "code",
   "execution_count": null,
   "id": "5453d460",
   "metadata": {},
   "outputs": [],
   "source": []
  }
 ],
 "metadata": {
  "kernelspec": {
   "display_name": "Python 3 (ipykernel)",
   "language": "python",
   "name": "python3"
  },
  "language_info": {
   "codemirror_mode": {
    "name": "ipython",
    "version": 3
   },
   "file_extension": ".py",
   "mimetype": "text/x-python",
   "name": "python",
   "nbconvert_exporter": "python",
   "pygments_lexer": "ipython3",
   "version": "3.9.7"
  }
 },
 "nbformat": 4,
 "nbformat_minor": 5
}
