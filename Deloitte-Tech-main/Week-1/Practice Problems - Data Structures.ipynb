{
 "cells": [
  {
   "cell_type": "code",
   "execution_count": null,
   "id": "eca3cc58",
   "metadata": {},
   "outputs": [],
   "source": [
    "#Find the largest item from a given list\n",
    "x = [4, 6, 8, 24, 12, 2]"
   ]
  },
  {
   "cell_type": "code",
   "execution_count": null,
   "id": "8799fc4b",
   "metadata": {},
   "outputs": [],
   "source": [
    " #Reverse a list in Python\n",
    "list1 = [100, 200, 300, 400, 500]"
   ]
  },
  {
   "cell_type": "code",
   "execution_count": null,
   "id": "7acf8815",
   "metadata": {},
   "outputs": [],
   "source": [
    "Turn every item of a list into its square\n",
    "Given a list of numbers. write a program to turn every item of a list into its square.\n",
    "numbers = [1, 2, 3, 4, 5, 6, 7]\n",
    "Expected output:\n",
    "\n",
    "[1, 4, 9, 16, 25, 36, 49]"
   ]
  },
  {
   "cell_type": "code",
   "execution_count": null,
   "id": "94ebca25",
   "metadata": {},
   "outputs": [],
   "source": [
    "Rename key of a dictionary\n",
    "Write a program to rename a key city to a location in the following dictionary.\n",
    "sample_dict = {\n",
    "  \"name\": \"Kelly\",\n",
    "  \"age\":25,\n",
    "  \"salary\": 8000,\n",
    "  \"city\": \"New york\"\n",
    "}\n",
    "Expected output:\n",
    "\n",
    "{'name': 'Kelly', 'age': 25, 'salary': 8000, 'location': 'New york'}"
   ]
  },
  {
   "cell_type": "code",
   "execution_count": null,
   "id": "568a59ca",
   "metadata": {},
   "outputs": [],
   "source": [
    "sample_dict = {\n",
    "  \"name\": \"Kelly\",\n",
    "  \"age\":25,\n",
    "  \"salary\": 8000,\n",
    "  \"city\": \"New york\"\n",
    "}\n",
    "sample_dict['location']=sample_dict.pop('city')\n",
    "sample_dict"
   ]
  },
  {
   "cell_type": "code",
   "execution_count": null,
   "id": "5c7788f2",
   "metadata": {},
   "outputs": [],
   "source": [
    "Access value 20 from the tuple\n",
    "The given tuple is a nested tuple. write a Python program to print the value 20.\n",
    "\n",
    "\n",
    "tuple1 = (\"Orange\", [10, 20, 30], (5, 15, 25))"
   ]
  },
  {
   "cell_type": "code",
   "execution_count": null,
   "id": "ed0edb00",
   "metadata": {},
   "outputs": [],
   "source": [
    "Swap two tuples in Python\n",
    "Given:\n",
    "\n",
    "tuple1 = (11, 22)\n",
    "tuple2 = (99, 88)"
   ]
  },
  {
   "cell_type": "code",
   "execution_count": null,
   "id": "d7e28716",
   "metadata": {},
   "outputs": [],
   "source": [
    "Counts the number of occurrences of item 50 from a tuple\n",
    "Given:\n",
    "\n",
    "tuple1 = (50, 10, 60, 70, 50)"
   ]
  },
  {
   "cell_type": "code",
   "execution_count": null,
   "id": "b4e15a60",
   "metadata": {},
   "outputs": [],
   "source": []
  },
  {
   "cell_type": "code",
   "execution_count": null,
   "id": "861f2007",
   "metadata": {},
   "outputs": [],
   "source": [
    "# set 2"
   ]
  },
  {
   "cell_type": "code",
   "execution_count": null,
   "id": "7cb2833e",
   "metadata": {},
   "outputs": [],
   "source": [
    "#1. figure out programatically how many times 'here'occurs\n",
    "#2. count how many time numbers occur in this sentence\n",
    "\n",
    "assign_txt=\"this is a sentence with a number 56 here and 72 here\"\n"
   ]
  },
  {
   "cell_type": "code",
   "execution_count": null,
   "id": "45652371",
   "metadata": {},
   "outputs": [],
   "source": [
    "#extract 'e' from the given list\n",
    "ls4=[3.5, 'Tiger', 10, [3,4]]"
   ]
  },
  {
   "cell_type": "code",
   "execution_count": null,
   "id": "077c9dee",
   "metadata": {},
   "outputs": [],
   "source": [
    "# Find the functions and methods associated with the list ls4"
   ]
  },
  {
   "cell_type": "code",
   "execution_count": null,
   "id": "a6f46acc",
   "metadata": {},
   "outputs": [],
   "source": [
    " #Given this nested list, use indexing to grab the word \"hello\"\n",
    "w = [1,2,[3,4],[5,[100,200,['hello']],23,11],1,7]"
   ]
  },
  {
   "cell_type": "code",
   "execution_count": null,
   "id": "d73744e8",
   "metadata": {},
   "outputs": [],
   "source": [
    " Given two lists. Create a third list by picking an odd-index element from the first list\n",
    "#and even index elements from second.\n",
    "listOne = [3, 6, 9, 12, 15, 18, 21]\n",
    "listTwo = [4, 8, 12, 16, 20, 24, 28]"
   ]
  },
  {
   "cell_type": "code",
   "execution_count": null,
   "id": "176660bf",
   "metadata": {},
   "outputs": [],
   "source": [
    ".Given an input list removes the element at index 4 and add it to the 2nd position and also,\n",
    "#at the end of the list\n",
    "sampleList = [54, 44, 27, 79, 91, 41]"
   ]
  },
  {
   "cell_type": "code",
   "execution_count": null,
   "id": "2d0189c4",
   "metadata": {},
   "outputs": [],
   "source": [
    "#Add the value 1 to each element in the given list: for loop and lambda function\n",
    "l=[1,2,3,4,5]"
   ]
  },
  {
   "cell_type": "code",
   "execution_count": null,
   "id": "75f56877",
   "metadata": {},
   "outputs": [],
   "source": [
    "#copy one list from the other OR creating one list from existing list\n",
    "list2=[1,2,5,2,1,3,2,10]"
   ]
  },
  {
   "cell_type": "code",
   "execution_count": null,
   "id": "a7f4056b",
   "metadata": {},
   "outputs": [],
   "source": [
    "#Reverse the given tuple\n",
    "tuple1 = (10, 20, 30, 40, 50)"
   ]
  },
  {
   "cell_type": "code",
   "execution_count": null,
   "id": "df8b5bc9",
   "metadata": {},
   "outputs": [],
   "source": [
    ".Access value 20 from the tuple\n",
    "tuple1 = (\"Orange\", [10, 20, 30], (5, 15, 25))"
   ]
  },
  {
   "cell_type": "code",
   "execution_count": null,
   "id": "08399a08",
   "metadata": {},
   "outputs": [],
   "source": [
    "#Copy specific elements from one tuple to a new tuple\n",
    "#Write a program to copy elements 44 and 55 from the following tuple into a new tuple\n",
    "tuple1 = (11, 22, 33, 44, 55, 66)"
   ]
  },
  {
   "cell_type": "code",
   "execution_count": null,
   "id": "3157f0cb",
   "metadata": {},
   "outputs": [],
   "source": [
    "#Convert two lists into a dictionary\n",
    "#Below are the two lists. Write a Python program to convert them into a dictionary in a way that \n",
    "#item from list1 is the key and item from list2 is the value\n",
    "keys = ['Ten', 'Twenty', 'Thirty']\n",
    "values = [10, 20, 30]"
   ]
  },
  {
   "cell_type": "code",
   "execution_count": null,
   "id": "5dd314f8",
   "metadata": {},
   "outputs": [],
   "source": [
    "Delete a list of keys from a dictionary\n",
    "sample_dict = {\n",
    "    \"name\": \"Kelly\",\n",
    "    \"age\": 25,\n",
    "    \"salary\": 8000,\n",
    "    \"city\": \"New york\"\n",
    "}\n",
    "\n",
    "# Keys to remove\n",
    "keys = [\"name\", \"salary\"]\n",
    "## use for loop"
   ]
  },
  {
   "cell_type": "code",
   "execution_count": null,
   "id": "9f70c2e7",
   "metadata": {},
   "outputs": [],
   "source": [
    "#Check if a value exists in a dictionary\n",
    "#Write a Python program to check if value 200 exists in the following dictionary.\n",
    "\n",
    "sample_dict = {'a': 100, 'b': 200, 'c': 300}"
   ]
  },
  {
   "cell_type": "markdown",
   "id": "046ab052",
   "metadata": {},
   "source": [
    "Write a program to add sample_list into a given set.\n",
    "sample_set = {\"Yellow\", \"Orange\", \"Black\"}\n",
    "sample_list = [\"Blue\", \"Green\", \"Red\"]"
   ]
  },
  {
   "cell_type": "code",
   "execution_count": null,
   "id": "66efa56d",
   "metadata": {},
   "outputs": [],
   "source": [
    "Return a new set of identical items from two sets\n",
    "set1 = {10, 20, 30, 40, 50}\n",
    "set2 = {30, 40, 50, 60, 70}"
   ]
  },
  {
   "cell_type": "code",
   "execution_count": null,
   "id": "42bd1dc9",
   "metadata": {},
   "outputs": [],
   "source": []
  },
  {
   "cell_type": "code",
   "execution_count": null,
   "id": "d189cdd8",
   "metadata": {},
   "outputs": [],
   "source": []
  },
  {
   "cell_type": "code",
   "execution_count": null,
   "id": "4c53ab62",
   "metadata": {},
   "outputs": [],
   "source": [
    "# set 3"
   ]
  },
  {
   "cell_type": "code",
   "execution_count": null,
   "id": "ff0838f6",
   "metadata": {},
   "outputs": [],
   "source": [
    "#apply lambda function to filter out vowles from a list\n",
    "\n",
    "alphabets = ['a', 'b', 'c', 'd', 'e', 'f', 'g', 'h', 'i']"
   ]
  },
  {
   "cell_type": "code",
   "execution_count": null,
   "id": "aa92f260",
   "metadata": {},
   "outputs": [],
   "source": [
    " #apply lambda function to find list of even numbers from a given list\n",
    "l2=[456,78,987,400,568,887]"
   ]
  },
  {
   "cell_type": "code",
   "execution_count": null,
   "id": "942ebc74",
   "metadata": {},
   "outputs": [],
   "source": [
    "#Use map() function to convert elements of lists into uppercase\n",
    "alist = ['learn', 'python', 'step', 'by', 'step']"
   ]
  },
  {
   "cell_type": "code",
   "execution_count": null,
   "id": "9d972215",
   "metadata": {},
   "outputs": [],
   "source": [
    "#Write a Python program to calculate the sum of a list of numbers.\n",
    "list1 = [11, 5, 17, 18, 23]"
   ]
  },
  {
   "cell_type": "raw",
   "id": "a07db03c",
   "metadata": {},
   "source": [
    "# Python program to check if strings are rotations of\n",
    "# each other or not\n",
    "str1 = \"ABACD\"\n",
    "str2 = \"CDABA\""
   ]
  },
  {
   "cell_type": "code",
   "execution_count": null,
   "id": "4e8cabb2",
   "metadata": {},
   "outputs": [],
   "source": [
    "### LMS Problems"
   ]
  },
  {
   "cell_type": "code",
   "execution_count": null,
   "id": "16060f0a",
   "metadata": {},
   "outputs": [],
   "source": []
  },
  {
   "cell_type": "code",
   "execution_count": null,
   "id": "d75cf877",
   "metadata": {},
   "outputs": [],
   "source": []
  },
  {
   "cell_type": "code",
   "execution_count": null,
   "id": "55e17342",
   "metadata": {},
   "outputs": [],
   "source": []
  }
 ],
 "metadata": {
  "kernelspec": {
   "display_name": "Python 3 (ipykernel)",
   "language": "python",
   "name": "python3"
  },
  "language_info": {
   "codemirror_mode": {
    "name": "ipython",
    "version": 3
   },
   "file_extension": ".py",
   "mimetype": "text/x-python",
   "name": "python",
   "nbconvert_exporter": "python",
   "pygments_lexer": "ipython3",
   "version": "3.9.7"
  }
 },
 "nbformat": 4,
 "nbformat_minor": 5
}
