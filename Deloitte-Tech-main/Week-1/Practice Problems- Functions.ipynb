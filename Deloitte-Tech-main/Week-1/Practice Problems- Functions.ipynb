{
 "cells": [
  {
   "cell_type": "markdown",
   "id": "6c76904e",
   "metadata": {},
   "source": [
    "#### Functions"
   ]
  },
  {
   "cell_type": "code",
   "execution_count": null,
   "id": "e478e4d2",
   "metadata": {},
   "outputs": [],
   "source": [
    "#Write a program to create a function that takes two arguments, name and age, and print their value."
   ]
  },
  {
   "cell_type": "raw",
   "id": "2fcd530d",
   "metadata": {},
   "source": [
    "Write a program to create a function show_employee() using the following conditions.\n",
    "\n",
    "It should accept the employee’s name and salary and display both.\n",
    "If the salary is missing in the function call then assign default value 9000 to salary\n",
    "\n",
    "Expected output:\n",
    "Name: Ben salary: 12000\n",
    "Name: Jessa salary: 9000"
   ]
  },
  {
   "cell_type": "raw",
   "id": "978b82df",
   "metadata": {},
   "source": [
    "\n",
    "Assign a different name to function and call it through the new name\n",
    "Below is the function display_student(name, age). Assign a new name show_tudent(name, age) to it and call it using the new name.\n",
    "\n",
    "def display_student(name, age):\n",
    "    print(name, age)\n",
    "\n",
    "display_student(\"Emma\", 26)\n",
    "\n",
    "##### You should be able to call the same function using\n",
    "\n",
    "show_student(name, age)"
   ]
  },
  {
   "cell_type": "raw",
   "id": "ea085a88",
   "metadata": {},
   "source": [
    "Write a Python function to calculate the factorial of a number (a non-negative integer). The function accepts the number as an argument."
   ]
  },
  {
   "cell_type": "markdown",
   "id": "8070010c",
   "metadata": {},
   "source": [
    "Write a Python function that takes a number as a parameter and check the number is prime or not."
   ]
  },
  {
   "cell_type": "raw",
   "id": "fa3460b8",
   "metadata": {},
   "source": [
    "Write a Python program to create a lambda function that adds 15 to a given number passed in as an argument, also create a lambda function that multiplies argument x with argument y and print the result."
   ]
  },
  {
   "cell_type": "raw",
   "id": "d5eaef92",
   "metadata": {},
   "source": [
    "Write a function to calculate area and perimeter of a rectangle."
   ]
  }
 ],
 "metadata": {
  "kernelspec": {
   "display_name": "Python 3 (ipykernel)",
   "language": "python",
   "name": "python3"
  },
  "language_info": {
   "codemirror_mode": {
    "name": "ipython",
    "version": 3
   },
   "file_extension": ".py",
   "mimetype": "text/x-python",
   "name": "python",
   "nbconvert_exporter": "python",
   "pygments_lexer": "ipython3",
   "version": "3.9.7"
  }
 },
 "nbformat": 4,
 "nbformat_minor": 5
}
