{
 "cells": [
  {
   "cell_type": "code",
   "execution_count": null,
   "id": "be1fa7db",
   "metadata": {},
   "outputs": [],
   "source": [
    "### For Loop"
   ]
  },
  {
   "cell_type": "code",
   "execution_count": null,
   "id": "c8709a80",
   "metadata": {},
   "outputs": [],
   "source": [
    "#Print characters from a string that are present at an even index number"
   ]
  },
  {
   "cell_type": "code",
   "execution_count": null,
   "id": "2e06d6d9",
   "metadata": {},
   "outputs": [],
   "source": [
    "#Write a program to print first 10 even numbers in reverse order."
   ]
  },
  {
   "cell_type": "code",
   "execution_count": null,
   "id": "f70d1fc7",
   "metadata": {},
   "outputs": [],
   "source": [
    "#Write a program to print multiples of a number accepted from user.x=5"
   ]
  },
  {
   "cell_type": "code",
   "execution_count": null,
   "id": "ce0397d4",
   "metadata": {},
   "outputs": [],
   "source": [
    "#Write a program to find the factorial of a number - for  loop"
   ]
  },
  {
   "cell_type": "code",
   "execution_count": null,
   "id": "f4d84f1a",
   "metadata": {},
   "outputs": [],
   "source": [
    "#Write a program to display all the numbers which are divisible by 11 but not by 2 between 100 and 500.- for loop"
   ]
  },
  {
   "cell_type": "markdown",
   "id": "967e70ee",
   "metadata": {},
   "source": [
    "#### While loop"
   ]
  },
  {
   "cell_type": "code",
   "execution_count": null,
   "id": "54b51ff2",
   "metadata": {},
   "outputs": [],
   "source": [
    "#1. Print First 10 natural numbers using while loop"
   ]
  },
  {
   "cell_type": "code",
   "execution_count": null,
   "id": "b07e2693",
   "metadata": {},
   "outputs": [],
   "source": [
    "#. Write a program to count the total number of digits in a number using a while loop.\n",
    "\n",
    "#For example, the number is 75869, so the output should be 5."
   ]
  },
  {
   "cell_type": "code",
   "execution_count": null,
   "id": "d04e463a",
   "metadata": {},
   "outputs": [],
   "source": [
    "#Finding the sum of even numbers using while loop"
   ]
  },
  {
   "cell_type": "code",
   "execution_count": null,
   "id": "1b828805",
   "metadata": {},
   "outputs": [],
   "source": [
    "#Finding the 10 multiples of a number using while loop"
   ]
  },
  {
   "cell_type": "code",
   "execution_count": null,
   "id": "a714d512",
   "metadata": {},
   "outputs": [],
   "source": [
    "#Printing the square of numbers using while loop"
   ]
  },
  {
   "cell_type": "code",
   "execution_count": null,
   "id": "979a544b",
   "metadata": {},
   "outputs": [],
   "source": [
    "##Finding the average of 5 numbers using while loop"
   ]
  },
  {
   "cell_type": "code",
   "execution_count": null,
   "id": "94322d7b",
   "metadata": {},
   "outputs": [],
   "source": [
    "#Printing all letters except some using Python while loop\n",
    " word=\"Hello \"\n",
    "    #print all letters except y and o"
   ]
  },
  {
   "cell_type": "code",
   "execution_count": null,
   "id": "ae7889f6",
   "metadata": {},
   "outputs": [],
   "source": [
    "#Write a program to find the sum of the digits of a number accepted from user"
   ]
  }
 ],
 "metadata": {
  "kernelspec": {
   "display_name": "Python 3 (ipykernel)",
   "language": "python",
   "name": "python3"
  },
  "language_info": {
   "codemirror_mode": {
    "name": "ipython",
    "version": 3
   },
   "file_extension": ".py",
   "mimetype": "text/x-python",
   "name": "python",
   "nbconvert_exporter": "python",
   "pygments_lexer": "ipython3",
   "version": "3.9.7"
  }
 },
 "nbformat": 4,
 "nbformat_minor": 5
}
